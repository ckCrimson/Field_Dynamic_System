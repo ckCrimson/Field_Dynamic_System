{
 "cells": [
  {
   "metadata": {
    "id": "ed7edb19033c93d4"
   },
   "cell_type": "markdown",
   "source": [
    "# States and Operations"
   ],
   "id": "ed7edb19033c93d4"
  },
  {
   "metadata": {
    "id": "59615f077beff1c7"
   },
   "cell_type": "markdown",
   "source": [
    " ## States"
   ],
   "id": "59615f077beff1c7"
  },
  {
   "metadata": {
    "id": "fbc121e30a2defb3",
    "jupyter": {
     "is_executing": true
    }
   },
   "cell_type": "code",
   "source": [
    "from __future__ import annotations\n",
    "\n",
    "from abc import ABC, abstractmethod\n",
    "from typing import Generic, TypeVar\n",
    "\n",
    "\n",
    "# -- StateRelated --\n",
    "\n",
    "class State(ABC):\n",
    "    \"\"\"\n",
    "    Abstract base for a state, defined by a coordinate vector.\n",
    "    \"\"\"\n",
    "    @abstractmethod\n",
    "    def as_vector(self) -> np.ndarray:\n",
    "        \"\"\"Return the state as a numpy vector.\"\"\"\n",
    "        pass\n",
    "\n",
    "class VectorState(State):\n",
    "    \"\"\"Concrete State backed by a numpy vector.\"\"\"\n",
    "    def __init__(self, coords: np.ndarray):\n",
    "        self.coords = coords\n",
    "\n",
    "    def as_vector(self) -> np.ndarray:\n",
    "        return self.coords\n",
    "\n",
    "    def __hash__(self) -> int:\n",
    "        # Hash tuple of coordinates\n",
    "        return hash(tuple(self.coords.tolist()))"
   ],
   "id": "fbc121e30a2defb3",
   "outputs": [],
   "execution_count": null
  },
  {
   "metadata": {
    "id": "bcfb66fa41d23628"
   },
   "cell_type": "markdown",
   "source": [
    "## State Operations"
   ],
   "id": "bcfb66fa41d23628"
  },
  {
   "metadata": {
    "jupyter": {
     "is_executing": true
    },
    "id": "7d7c7fa5ebb1ef01"
   },
   "cell_type": "code",
   "source": [
    "S = TypeVar('S', bound=State)\n",
    "class StateOperations(ABC, Generic[S]):\n",
    "    \"\"\"\n",
    "    Interface for generic operations on states.\n",
    "    Implementations define concrete operations.*\"\"\"\n",
    "    @abstractmethod\n",
    "    def apply(self, a: S, b: S):\n",
    "        \"\"\"Run the operation on two states.\"\"\"\n",
    "        raise NotImplementedError"
   ],
   "id": "7d7c7fa5ebb1ef01",
   "outputs": [],
   "execution_count": null
  },
  {
   "metadata": {
    "id": "6d77dd877068e580"
   },
   "cell_type": "markdown",
   "source": [
    "# StateSpace"
   ],
   "id": "6d77dd877068e580"
  },
  {
   "metadata": {
    "id": "8ba0adcceed324f2"
   },
   "cell_type": "markdown",
   "source": [
    "## StateSpace"
   ],
   "id": "8ba0adcceed324f2"
  },
  {
   "metadata": {
    "id": "cf1c927789d8f93f",
    "jupyter": {
     "is_executing": true
    }
   },
   "cell_type": "code",
   "source": [
    "from collections.abc import Set\n",
    "\n",
    "class StatSpace(Generic[S],ABC):\n",
    "    \"\"\"\n",
    "    Abstract state space with current state management and construction methods.\n",
    "    The initial state is provided at instantiation.\n",
    "    \"\"\"\n",
    "    def __init__(self, initial_state: S,\n",
    "                 set_of_states: Set[State]\n",
    "    ):\n",
    "        self._current_state: S = initial_state\n",
    "        if set_of_states is not None:\n",
    "            self.build_from_states(set_of_states)\n",
    "\n",
    "    @abstractmethod\n",
    "    def get_all_states(self) -> Set[S]:\n",
    "        \"\"\"Return the set of all possible states in this space.\"\"\"\n",
    "        pass\n",
    "\n",
    "    @abstractmethod\n",
    "    def dimension(self) -> int:\n",
    "        \"\"\"Dimensionality of the state vectors.\"\"\"\n",
    "        pass\n",
    "\n",
    "    def get_state(self) -> S:\n",
    "        \"\"\"Get the current state of the system.\"\"\"\n",
    "        return self._current_state\n",
    "    def set_state(self, state: S) -> None:\n",
    "        \"\"\"Set the current state of the system.\"\"\"\n",
    "        self._current_state = state\n",
    "\n",
    "    def build(self, *args, **kwargs) -> None:\n",
    "        \"\"\"Construct or rebuild the state space from given inputs.\"\"\"\n",
    "        pass\n",
    "\n",
    "    def build_from_states(self, states: Set[S], current: Optional[S] = None) -> StatSpace:\n",
    "        \"\"\"\n",
    "        Replace this space's contents with `states`. Optionally update current state.\n",
    "        \"\"\"\n",
    "        pass\n",
    "\n",
    "    def union_state_space(self, other: 'StatSpace[S]') -> 'StatSpace[S]':\n",
    "        \"\"\"Return a new state space representing the union of this and another.\"\"\"\n",
    "        currentStates = self.get_all_states()\n",
    "        otherStates = self.get_all_states()\n",
    "        currentStates.union(otherStates)\n",
    "        self.build_from_states(self.get_state(),currentStates)\n",
    "        return self\n",
    "\n",
    "    def intersection(self, other: 'StatSpace[S]') -> 'StatSpace[S]':\n",
    "        \"\"\"Convenience alias for intersection_state_space.\"\"\"\n",
    "        pass\n"
   ],
   "id": "cf1c927789d8f93f",
   "outputs": [],
   "execution_count": null
  },
  {
   "metadata": {
    "id": "f78bf544a1d4b68b"
   },
   "cell_type": "markdown",
   "source": [
    "## StateSpace type"
   ],
   "id": "f78bf544a1d4b68b"
  },
  {
   "metadata": {
    "id": "e8f408c8dfdfa124",
    "jupyter": {
     "is_executing": true
    }
   },
   "cell_type": "code",
   "source": [
    "\n",
    "\n",
    "from collections.abc import Callable\n",
    "\n",
    "\n",
    "class ContinuousStateSpace(StatSpace[S], ABC):\n",
    "    def __init__(self, initial_state: S, dim: int):\n",
    "        super().__init__(initial_state)\n",
    "        self.dim=dim\n",
    "\n",
    "class FiniteContinuousStateSpace(ContinuousStateSpace[S], ABC):\n",
    "    def __init__(self, initial_state: S, points: Set[S], dim: int):\n",
    "        super().__init__(initial_state, dim)\n",
    "        self.points = points\n",
    "\n",
    "class InfiniteContinuousStateSpace(ContinuousStateSpace[S], ABC):\n",
    "    def __init__(self, initial_state: S, dim: int, generator: Callable[[], Set[S]]):\n",
    "        super().__init__(initial_state, dim)\n",
    "        self.generator = generator\n",
    "\n",
    "class DiscreteStateSpace(StatSpace[S], ABC):\n",
    "    def __init__(self, initial_state: S):\n",
    "        super().__init__(initial_state)\n",
    "\n",
    "\n",
    "class FiniteDiscreteStateSpace(DiscreteStateSpace[S], ABC):\n",
    "    def __init__(self, initial_state: S, states: Set[S]):\n",
    "        super().__init__(initial_state)\n",
    "        self.states = states\n",
    "\n",
    "\n",
    "class InfiniteDiscreteStateSpace(DiscreteStateSpace[S], ABC):\n",
    "    def __init__(self, initial_state: S):\n",
    "        super().__init__(initial_state, set())"
   ],
   "id": "e8f408c8dfdfa124",
   "outputs": [],
   "execution_count": null
  },
  {
   "metadata": {
    "id": "307b974396aaa9d"
   },
   "cell_type": "markdown",
   "source": [
    "## State Space mappings"
   ],
   "id": "307b974396aaa9d"
  },
  {
   "metadata": {
    "id": "8693833d27886a0",
    "jupyter": {
     "is_executing": true
    }
   },
   "cell_type": "code",
   "source": [
    "Sin = TypeVar('Sin', bound=State)\n",
    "Sout = TypeVar('Sout', bound=State)\n",
    "\n",
    "class StateSpaceMapping(ABC, Generic[Sin, Sout]):\n",
    "    \"\"\"\n",
    "    Abstract mapping from one state space to another.\n",
    "\n",
    "    Attributes:\n",
    "\n",
    "        mapping_reverse: optional reverse mapping instance\n",
    "    \"\"\"\n",
    "    def __init__(self, mapping_reverse: Optional['StateSpaceMapping[Sout, Sin]'] = None):\n",
    "        self.mapping_reverse = mapping_reverse\n",
    "\n",
    "    @abstractmethod\n",
    "    def get_mapping(self, state_in: Sin, stateSpaceOut : StatSpace) -> StatSpace[Sout]:\n",
    "        \"\"\"Map a single state to a state-space of output states.\"\"\"\n",
    "        pass\n",
    "\n",
    "    def get_mapping_over_state_space(self, space_in: StatSpace[Sin], space_out: StatSpace) -> StatSpace[Sout]:\n",
    "        \"\"\"Map an input state-space to an output state-space.\"\"\"\n",
    "        out_states: Set[Sout] = set()\n",
    "        temp_out: StatSpace[Sout] = copy.deepcopy(space_out)\n",
    "        mapped_current: Optional[Sout] = None\n",
    "\n",
    "        in_current: Optional[Sin] = space_in.get_state()\n",
    "        out_current_preserve: Optional[Sout] = space_out.get_state()\n",
    "\n",
    "        for s in space_in.get_all_states():\n",
    "            ms: StatSpace[Sout] = self.get_mapping(s, temp_out)\n",
    "            states = ms.get_all_states()\n",
    "            # accumulate states\n",
    "            if states:\n",
    "                out_states |= states\n",
    "                # capture mapping of the *input* current state once\n",
    "                if mapped_current is None and in_current is not None and s == in_current:\n",
    "                    mapped_current = next(iter(states))\n",
    "\n",
    "        if not out_states:\n",
    "            # No states in input → return a deepcopy of the prototype to avoid mutating caller.\n",
    "            return copy.deepcopy(space_out)\n",
    "\n",
    "        # Choose a stable current for the result\n",
    "        if mapped_current is None:\n",
    "            mapped_current = out_current_preserve if out_current_preserve in out_states else next(iter(out_states))\n",
    "\n",
    "        # Build the final space in a fresh deepcopy of the prototype\n",
    "        result: StatSpace[Sout] = copy.deepcopy(space_out)\n",
    "        result.build_from_states(out_states, current=mapped_current)\n",
    "        return result\n",
    "\n",
    "\n"
   ],
   "id": "8693833d27886a0",
   "outputs": [],
   "execution_count": null
  },
  {
   "metadata": {
    "id": "20a95dafa1f6fe9e"
   },
   "cell_type": "markdown",
   "source": [
    "# Reachables and Reaching"
   ],
   "id": "20a95dafa1f6fe9e"
  },
  {
   "metadata": {
    "id": "aeaba6d7ef9866fc"
   },
   "cell_type": "markdown",
   "source": [
    "## Reachable"
   ],
   "id": "aeaba6d7ef9866fc"
  },
  {
   "metadata": {
    "id": "ea8dc17d0126eaf7",
    "jupyter": {
     "is_executing": true
    }
   },
   "cell_type": "code",
   "source": [
    "from typing import  Any\n",
    "\n",
    "\n",
    "class IsAllowedState(ABC):\n",
    "    def __init__(self,params: Dict[str, Any]):\n",
    "        self.params = params\n",
    "\n",
    "    def is_state_allowed(self,stateInitial : S,state: S) -> bool:\n",
    "        \"\"\"Returns truw if state is allowed in the reachable space.\"\"\"\n",
    "        pass\n",
    "\n",
    "class Reachable(ABC, Generic[S]):\n",
    "\n",
    "    def __init__(self, params: Dict[str, Any]=None, is_allowed: IsAllowedState=None):\n",
    "        self.params=params\n",
    "        self.is_allowed=is_allowed\n",
    "    @abstractmethod\n",
    "    def get_reachable(self, state: S) -> \"StatSpace[S]\":\n",
    "        \"\"\"Return a state space of states reachable from `state` in one step.\"\"\"\n",
    "        pass\n",
    "\n",
    "    def get_reachable_from_allowed(self,state: State ,stateSpace: StatSpace[S]) -> \"StatSpace[S]\":\n",
    "        \"\"\"State space in the input denotes the sub-space in which allowed states are found\"\"\"\n",
    "        reachable_state_space = copy.deepcopy(stateSpace)\n",
    "        current_states: Set[S] = set()\n",
    "        if self.is_allowed is not None:\n",
    "            for s in stateSpace.get_all_states():\n",
    "                if self.is_allowed.is_state_allowed(state,s):\n",
    "                    #print(\"Adding state\")\n",
    "                    current_states.add(s)\n",
    "        return reachable_state_space.build_from_states(current_states,state)\n",
    "\n",
    "\n",
    "\n"
   ],
   "id": "ea8dc17d0126eaf7",
   "outputs": [],
   "execution_count": null
  },
  {
   "metadata": {
    "id": "7e67c4f9a60c5ceb"
   },
   "cell_type": "markdown",
   "source": [
    "## Reaching"
   ],
   "id": "7e67c4f9a60c5ceb"
  },
  {
   "metadata": {
    "jupyter": {
     "is_executing": true
    },
    "id": "cb7da2bd6fd3689d"
   },
   "cell_type": "code",
   "source": [
    "\n",
    "\n",
    "class Reaching(ABC, Generic[S]):\n",
    "    def __init__(self, params: Optional[Dict[str, Any]] = None, reachable: Optional[\"Reachable[S]\"] = None):\n",
    "        self.params: Dict[str, Any] = params or {}\n",
    "        self.reachable: Optional[\"Reachable[S]\"] = reachable\n",
    "\n",
    "    @abstractmethod\n",
    "    def get_reaching(self, state: S) -> \"StatSpace[S]\":\n",
    "        \"\"\"Return a state space of states that can reach `state` in one step.\"\"\"\n",
    "        pass\n",
    "\n",
    "    def get_reaching_from_reachable(\n",
    "        self,\n",
    "        state: S,\n",
    "        state_space: \"StatSpace[S]\",\n",
    "        from_is_allowed: bool = False\n",
    "    ) -> Optional[\"StatSpace[S]\"]:\n",
    "        \"\"\"\n",
    "        Generic inverse via the reachable: scan all states s in `state_space`\n",
    "        and collect those for which `state` is in reachable(space, s).\n",
    "        If your Reachable has a specialized `get_reachable_from_allowed`, set from_is_allowed=True.\n",
    "        \"\"\"\n",
    "        if self.reachable is None:\n",
    "            return None\n",
    "\n",
    "        reaching_states: Set[S] = set()\n",
    "        for s in state_space.get_all_states():\n",
    "            if from_is_allowed and hasattr(self.reachable, \"get_reachable_from_allowed\"):\n",
    "                r_space = self.reachable.get_reachable_from_allowed(state_space, s)  # type: ignore[attr-defined]\n",
    "            else:\n",
    "                r_space = self.reachable.get_reachable(s)\n",
    "\n",
    "            if state in r_space.get_all_states():\n",
    "                reaching_states.add(s)\n",
    "\n",
    "        out = copy.copy(state_space)\n",
    "        # choose current only if present; else leave None\n",
    "        current = state if state in reaching_states else (next(iter(reaching_states)) if reaching_states else None)\n",
    "        out.build(states=reaching_states, current=current)\n",
    "        return out"
   ],
   "id": "cb7da2bd6fd3689d",
   "outputs": [],
   "execution_count": null
  },
  {
   "metadata": {
    "id": "56a5fb74cd8e82a1"
   },
   "cell_type": "markdown",
   "source": [
    "# Field"
   ],
   "id": "56a5fb74cd8e82a1"
  },
  {
   "metadata": {
    "id": "7c77bd3bbec6de4b"
   },
   "cell_type": "markdown",
   "source": [
    "## Single Field Value"
   ],
   "id": "7c77bd3bbec6de4b"
  },
  {
   "metadata": {
    "id": "beb112296ea045a8",
    "jupyter": {
     "is_executing": true
    }
   },
   "cell_type": "code",
   "source": [
    "from abc import ABC, abstractmethod\n",
    "\n",
    "class SingleFieldValue(ABC):\n",
    "    \"\"\"\n",
    "    Abstract container for field data (e.g., tensor representation).\n",
    "    Holds a NormTransform instance for computing norms on wrapped FieldValues.\n",
    "    \"\"\"\n",
    "    def __init__(self, value):\n",
    "        self.value = value\n",
    "        pass\n",
    "\n",
    "    def get_data(self) -> np.ndarray:\n",
    "        \"\"\"Return the underlying data tensor.\"\"\"\n",
    "        return self.value\n",
    "\n",
    "class Transform(ABC):\n",
    "    \"\"\"\n",
    "    Abstract transformation holding input and output SingleFieldValue instances.\n",
    "    \"\"\"\n",
    "    def __init__(self,**params):\n",
    "        pass\n",
    "\n",
    "    @abstractmethod\n",
    "    def apply(self,input_field: SingleFieldValue) -> SingleFieldValue:\n",
    "        \"\"\"Perform the transformation from input_field to output_field.\"\"\"\n",
    "        pass\n",
    "\n",
    "class RealSingleFieldValue(SingleFieldValue):\n",
    "    \"\"\"\n",
    "    SingleFieldValue for a real scalar.\n",
    "    \"\"\"\n",
    "    def __init__(self, value: float):\n",
    "        super().__init__(value)\n",
    "        self.value = value\n",
    "\n",
    "    def get_data(self) -> np.ndarray:\n",
    "        return np.array(self.value)\n",
    "\n",
    "    def compute_norm(self) -> float:\n",
    "        \"\"\"Compute norm (absolute) of the real value.\"\"\"\n",
    "        return abs(self.value)\n",
    "\n",
    "class NormTransform(Transform):\n",
    "    \"\"\"\n",
    "    Compute the norm of a SingleFieldValue, storing result in output_field.\n",
    "    \"\"\"\n",
    "    def __init__(self):\n",
    "        super().__init__()\n",
    "\n",
    "    def apply(self, inputFieldValue : SingleFieldValue) -> SingleFieldValue:\n",
    "        # Compute norm of input tensor\n",
    "        pass\n",
    "\n",
    "\n",
    "class Composition(ABC):\n",
    "    \"\"\"\n",
    "    Abstract composition operator combining two FieldValue inputs into one output.\n",
    "    \"\"\"\n",
    "    def __init__(self, **params):\n",
    "        pass\n",
    "    @abstractmethod\n",
    "    def compose(self, input1: SingleFieldValue, input2: SingleFieldValue) -> SingleFieldValue:\n",
    "        \"\"\"\n",
    "        Combine input1 and input2 into a new FieldValue.\n",
    "        \"\"\"\n",
    "        pass\n",
    "\n",
    "class AdditionComposition(Composition):\n",
    "    \"\"\"\n",
    "    Composition that adds two real-valued FieldValue tensors elementwise.\n",
    "    \"\"\"\n",
    "    def __init__(self):\n",
    "        super().__init__()\n",
    "    def compose(self, input1: SingleFieldValue, input2: SingleFieldValue) -> SingleFieldValue:\n",
    "        # Elementwise addition of underlying tensors\n",
    "        pass\n",
    "\n",
    "class FieldValue:\n",
    "    \"\"\"\n",
    "    Abstract wrapper combining raw field data and a norm transform.\n",
    "    \"\"\"\n",
    "    def __init__(self, data: SingleFieldValue, transform: Transform,compose: Composition ):\n",
    "        \"\"\"Initialize with raw data and a NormTransform instance.\"\"\"\n",
    "        self.data = data\n",
    "        self.transform = transform\n",
    "        self.compose = compose\n",
    "\n",
    "    def internal_transform(self) -> float:\n",
    "        \"\"\"Compute and return the norm of the field data via the injected NormTransform.\"\"\"\n",
    "        # Apply the transform to the raw data\n",
    "        # NormTransform expects input_field only, so wrap data\n",
    "        out = self.transform.apply(self.data)\n",
    "        # out is a TensorFieldValue containing the norm scalar\n",
    "        return float(out.get_data().item())\n",
    "    @classmethod\n",
    "    def get_unitary_field(cls) -> 'FieldValue':\n",
    "        \"\"\"Return the unit (identity) field value for this type.\"\"\"\n",
    "        pass\n",
    "\n",
    "    def internal_composition(self,fv: SingleFieldValue):\n",
    "        self.compose.compose(self.data,fv)\n",
    "\n",
    "class RealSingleFieldValue(SingleFieldValue):\n",
    "    \"\"\"\n",
    "    Scalar real as a tensor (0-D ndarray). Always stored as float64.\n",
    "    \"\"\"\n",
    "    def __init__(self, value: float):\n",
    "        super().__init__(value)\n",
    "        self._data = np.array(float(value), dtype=np.float64)\n",
    "\n",
    "    def get_data(self) -> np.ndarray:\n",
    "        return self._data\n",
    "\n",
    "    def __repr__(self) -> str:\n",
    "        return f\"RealSingleFieldValue({float(self._data)})\"\n",
    "\n",
    "class RealAbsNormTransform(Transform):\n",
    "    \"\"\"\n",
    "    Norm(x) = |x| (returns a RealFieldValue holding abs(value)).\n",
    "    \"\"\"\n",
    "    def apply(self, inp: \"FieldValue\", params: Optional[dict] = None) -> \"FieldValue\":\n",
    "        x = float(inp.data.get_data())\n",
    "        return RealFieldValue(abs(x))\n",
    "\n",
    "class RealAddition(Composition):\n",
    "    \"\"\"\n",
    "    a ⊕ b = a + b on reals (operates on SingleFieldValue level).\n",
    "    \"\"\"\n",
    "    def compose(self, a: SingleFieldValue, b: SingleFieldValue, params: Optional[dict] = None) -> SingleFieldValue:\n",
    "        av = float(a.get_data())\n",
    "        bv = float(b.get_data())\n",
    "        return RealSingleFieldValue(av + bv)\n",
    "\n",
    "class RealFieldValue(FieldValue):\n",
    "    \"\"\"\n",
    "    FieldValue over R with:\n",
    "      - internal norm transform = abs\n",
    "      - internal composition identity = 0.0 (for addition)\n",
    "    \"\"\"\n",
    "    def __init__(self, value: float, norm_transform: Optional[Transform] = None):\n",
    "        super().__init__(RealSingleFieldValue(value), RealAbsNormTransform(), RealAddition())\n",
    "\n",
    "    def norm(self) -> \"RealFieldValue\":\n",
    "        return self.norm_transform.apply(self)  # type: ignore[return-value]\n",
    "\n",
    "    def add(self, other: \"RealFieldValue\") -> \"RealFieldValue\":\n",
    "        summed = RealAddition().compose(self.data, other.data)\n",
    "        return RealFieldValue(float(summed.get_data()))\n",
    "\n",
    "    def getUnitaryFieldValue(self) -> \"RealFieldValue\":\n",
    "        return RealFieldValue(0.0)\n",
    "\n",
    "    def __repr__(self) -> str:\n",
    "        return f\"RealFieldValue({float(self.data.get_data())})\"\n"
   ],
   "id": "beb112296ea045a8",
   "outputs": [],
   "execution_count": null
  },
  {
   "metadata": {
    "id": "a1ed9e8dde949be8"
   },
   "cell_type": "markdown",
   "source": [
    "## Field Functions"
   ],
   "id": "a1ed9e8dde949be8"
  },
  {
   "metadata": {
    "id": "852990889f5d3e3e",
    "ExecuteTime": {
     "end_time": "2025-08-25T17:14:34.974379Z",
     "start_time": "2025-08-25T17:14:34.967172Z"
    }
   },
   "cell_type": "code",
   "source": [
    "from typing import Generic\n",
    "\n",
    "\n",
    "\n",
    "class FunctionDefinition(ABC):\n",
    "\n",
    "    def __init__(self, **params):\n",
    "        self.param=params\n",
    "\n",
    "    def function(self,state: State) -> FieldValue:\n",
    "        pass\n",
    "\n",
    "\n",
    "\n",
    "class FieldFunction(ABC, Generic[S]):\n",
    "    \"\"\"\n",
    "    Interface defining dynamic or static mappings between states and field values.\n",
    "    Methods:\n",
    "    - get_field(): returns the Field over the associated StateSpace.\n",
    "    - get_field_at(state): returns the FieldValue at that state.\n",
    "    - get_field_for_space(space): returns a Field defined over the given StateSpace.\n",
    "    - function(state): core mapping for the field value (can implement recurrence).\n",
    "    \"\"\"\n",
    "    def __init__(self, func: FunctionDefinition ,**param):\n",
    "        self.param = param\n",
    "        self.func = func\n",
    "\n",
    "    def get_field_at(self, state: S) -> FieldValue:\n",
    "        \"\"\"Return the FieldValue corresponding to the given state.\"\"\"\n",
    "        return self.func.function(state)\n",
    "\n"
   ],
   "id": "852990889f5d3e3e",
   "outputs": [],
   "execution_count": null
  },
  {
   "metadata": {
    "id": "752a66108140c56b"
   },
   "cell_type": "markdown",
   "source": [
    "## Field Class"
   ],
   "id": "752a66108140c56b"
  },
  {
   "metadata": {
    "id": "7980d80006bf22f6",
    "ExecuteTime": {
     "end_time": "2025-08-25T17:14:34.991954Z",
     "start_time": "2025-08-25T17:14:34.981742Z"
    }
   },
   "cell_type": "code",
   "source": [
    "class Field(Generic[S],ABC):\n",
    "    \"\"\"\n",
    "    Represents a field over a state space, mapping states to FieldValue objects.\n",
    "    \"\"\"\n",
    "    def __init__(self,\n",
    "                 state_space: StatSpace[S],\n",
    "                 unit_field: FieldValue,\n",
    "                 field_function: Optional[FieldFunction[S]] = None):\n",
    "        self.state_space = state_space\n",
    "        self._unit = unit_field\n",
    "        self.field_function = field_function\n",
    "        self._values: dict[S, FieldValue] = {}\n",
    "\n",
    "    def get_field(self, state: S) -> FieldValue:\n",
    "        \"\"\"Return the FieldValue at the given state.\"\"\"\n",
    "        if state in self._values:\n",
    "            return self._values[state]\n",
    "        if self.field_function is not None:\n",
    "            return self.field_function.get_field_at(state)\n",
    "        return self._unit\n",
    "    def get_unit_field(self) -> FieldValue:\n",
    "        return self._unit\n",
    "\n",
    "    def set_field(self, state: S, value: FieldValue) -> None:\n",
    "        \"\"\"Set the FieldValue at the given state.\"\"\"\n",
    "        self._values[state] = value\n",
    "\n",
    "    def set_empty_field(self) -> None:\n",
    "        \"\"\"Initialize all states to the unit FieldValue.\"\"\"\n",
    "        self._values.clear()\n",
    "        # Only store non-unit entries if needed; unit assumed default\n",
    "\n",
    "    def add_field(self, other: 'Field[S]') -> None:\n",
    "        \"\"\"\n",
    "        Add another field into this one, composing values over common states.\n",
    "        \"\"\"\n",
    "        # Ensure same state space\n",
    "        if other.state_space is not self.state_space:\n",
    "            raise ValueError(\"Cannot add fields with different state spaces\")\n",
    "        for state in self.state_space.get_all_states():\n",
    "            fv1 = self.get_field(state)\n",
    "            fv2 = other.get_field(state)\n",
    "            self._values[state] = fv1.internal_composition(fv2)\n",
    "\n",
    "    @property\n",
    "    def unit(self):\n",
    "        return self._unit"
   ],
   "id": "7980d80006bf22f6",
   "outputs": [],
   "execution_count": null
  },
  {
   "metadata": {
    "id": "3e57d4530757f4b0"
   },
   "cell_type": "markdown",
   "source": [
    "## Field transform and compose"
   ],
   "id": "3e57d4530757f4b0"
  },
  {
   "metadata": {
    "id": "694b10378387f992",
    "ExecuteTime": {
     "end_time": "2025-08-25T17:14:35.009166Z",
     "start_time": "2025-08-25T17:14:34.999687Z"
    }
   },
   "cell_type": "code",
   "source": [
    "class TransformField(Generic[S]):\n",
    "    \"\"\"\n",
    "    Applies a FieldTransform to every entry of a Field, producing a new Field.\n",
    "    \"\"\"\n",
    "    def __init__(self, transform: Transform):\n",
    "        self.transform = transform\n",
    "\n",
    "\n",
    "    def apply(self, field_in: Field[S],field_out:Field[S]) -> Field[S]:\n",
    "        fv_out=field_out.get_field(field_out.state_space.get_state())\n",
    "        field_out.set_empty_field()\n",
    "        for state in field_in.state_space.get_all_states():\n",
    "            fv = field_in.get_field(state)\n",
    "            if self.transform is None:\n",
    "                field_out.set_field(state, fv.internal_transform())\n",
    "            else:\n",
    "                sfv=self.transform.apply(fv.data)\n",
    "                fv.data=sfv\n",
    "                field_out.set_field(state, fv_out)\n",
    "        return field_out\n",
    "\n",
    "class ComposeField(Generic[S]):\n",
    "    \"\"\"\n",
    "    Applies a CompositionFieldSpace to two Fields, producing a new Field.\n",
    "    \"\"\"\n",
    "    def __init__(self, composer: Composition, returnField: Field):\n",
    "        self.composer = composer\n",
    "        self.returnField = returnField\n",
    "\n",
    "    def apply(self, f1: Field[S], f2: Field[S]) -> Field[S]:\n",
    "        self.returnField.state_space = f1.state_space\n",
    "        self.returnField.state_space.union_state_space(f2.state_space)\n",
    "        for state in  self.returnField.state_space.get_all_states():\n",
    "            fv1 = f1.get_field(state)\n",
    "            fv2 = f2.get_field(state)\n",
    "            if self.composer is None:\n",
    "                self.returnField.set_field(state,FieldValue(self.composer.compose(fv1, fv2),self.returnField.unit.transform,self.returnField.unit.compose))\n",
    "        return self.returnField"
   ],
   "id": "694b10378387f992",
   "outputs": [],
   "execution_count": null
  },
  {
   "metadata": {
    "id": "ea35e052e48f613b"
   },
   "cell_type": "markdown",
   "source": [
    "# Single step evolution"
   ],
   "id": "ea35e052e48f613b"
  },
  {
   "cell_type": "markdown",
   "source": [
    "## Hooking Bias"
   ],
   "metadata": {
    "id": "DVX8YrCb4ECK"
   },
   "id": "DVX8YrCb4ECK"
  },
  {
   "cell_type": "code",
   "source": [
    "from abc import ABC, abstractmethod\n",
    "\n",
    "class PDFShapingHook(ABC):\n",
    "    @abstractmethod\n",
    "    def make_Q(self, space, start_state, predicted_field, *,\n",
    "               H_prev, H_curr, params: dict) -> \"Field\":\n",
    "        \"\"\"Return Q field over the same space (unit field if no shaping).\"\"\"\n",
    "        pass\n",
    "\n",
    "class IdentityPDFShaping(PDFShapingHook):\n",
    "    def make_Q(self, space, start_state, predicted_field, *, H_prev, H_curr, params):\n",
    "        return predicted_field._unit_field_like()  # unit wrt your Composition\n"
   ],
   "metadata": {
    "id": "kudX-kho4G9Z",
    "ExecuteTime": {
     "end_time": "2025-08-25T17:14:35.025085Z",
     "start_time": "2025-08-25T17:14:35.018421Z"
    }
   },
   "id": "kudX-kho4G9Z",
   "outputs": [],
   "execution_count": null
  },
  {
   "cell_type": "code",
   "source": [
    "class DeltaOwnGlobalExp(PDFShapingHook):\n",
    "    def __init__(self, beta: float, delta_transform=None, exp_transform=None):\n",
    "        self.beta = beta\n",
    "        self.delta_transform = delta_transform   # optional: make H_curr ⊖ H_prev\n",
    "        self.exp_transform = exp_transform       # maps scalar field x ↦ exp(beta*x)\n",
    "\n",
    "    def make_Q(self, space, start_state, predicted_field, *, H_prev, H_curr, params):\n",
    "        # If you have a Composition inverse, use it; else provide a transform for delta.\n",
    "        if self.delta_transform is not None:\n",
    "            dH = self.delta_transform.apply_pair(H_curr, H_prev, params={})\n",
    "        else:\n",
    "            dH = H_curr  # fallback: treat current as the driver\n",
    "\n",
    "        if self.exp_transform is not None:\n",
    "            Q = self.exp_transform.apply(dH, params={\"beta\": self.beta})\n",
    "        else:\n",
    "            Q = dH  # already scaled\n",
    "\n",
    "        return Q"
   ],
   "metadata": {
    "id": "Z49TPGwp4Ljd",
    "ExecuteTime": {
     "end_time": "2025-08-25T17:14:35.041423Z",
     "start_time": "2025-08-25T17:14:35.033892Z"
    }
   },
   "id": "Z49TPGwp4Ljd",
   "outputs": [],
   "execution_count": null
  },
  {
   "cell_type": "markdown",
   "source": [
    "## Kernels and Singke Step pdf builder"
   ],
   "metadata": {
    "id": "M9pZbkkl376E"
   },
   "id": "M9pZbkkl376E"
  },
  {
   "cell_type": "code",
   "source": [
    "\n",
    "from abc import ABC, abstractmethod\n",
    "from typing import Generic, TypeVar\n",
    "\n",
    "\n",
    "# --- unchanged interfaces you showed (one tiny typo fix in __init__) ---\n",
    "\n",
    "class Kernel(ABC, Generic[S]):\n",
    "    def __init__(self, **param):\n",
    "        self.param = param\n",
    "\n",
    "    @abstractmethod\n",
    "    def get_kernel_value(self, state: S, current_state: S) -> \"FieldValue\":\n",
    "        pass\n",
    "\n",
    "\n",
    "class KernelFieldComposition(ABC):  # extends your Composition\n",
    "    def __init__(self, **param):     # <-- fix: __init__, not __int__\n",
    "        super().__init__(**param)\n",
    "\n",
    "    @abstractmethod\n",
    "    def compose(self, input1: \"SingleFieldValue\", input2: \"SingleFieldValue\") -> \"SingleFieldValue\":\n",
    "        pass\n",
    "\n",
    "\n",
    "class SingleStepField(Generic[S]):\n",
    "    \"\"\"\n",
    "    Builds a single-step field over the reachable subspace using a Kernel and an optional system field.\n",
    "    Optionally applies a shaping Field Q (e.g., from Δ own-global field), defaulting to unit if None.\n",
    "    \"\"\"\n",
    "    def __init__(\n",
    "        self,\n",
    "        kernel: Kernel[S],\n",
    "        reachable: \"Reachable[S]\",\n",
    "        kernelFieldComposition: KernelFieldComposition,\n",
    "        postComposition: Optional[KernelFieldComposition] = None,  # optional: how to combine with Q\n",
    "    ):\n",
    "        self.kernel = kernel\n",
    "        self.reachable = reachable\n",
    "        self.kernelFieldComposition = kernelFieldComposition\n",
    "        # if not provided, reuse the same composition operator for shaping\n",
    "        self.postComposition = postComposition or kernelFieldComposition\n",
    "\n",
    "    def build_single_step_field(\n",
    "        self,\n",
    "        state_space: \"StatSpace[S]\",\n",
    "        current_state: S,\n",
    "        system_field: \"Field[S]\",\n",
    "        q_field: Optional[\"Field[S]\"] = None,   # <-- NEW: optional shaping field\n",
    "    ) -> \"Field[S]\":\n",
    "        \"\"\"\n",
    "        Construct Field[S] over the reachable subspace:\n",
    "          - R := Reachable(state_space, current_state)\n",
    "          - new_field(s) = compose( kernel(s, current_state), system_field(s) )\n",
    "          - if q_field is provided: new_field(s) = postCompose( new_field(s), q_field(s) )\n",
    "        \"\"\"\n",
    "        # 1) reachable set/space\n",
    "        reachable_space = self.reachable.get_reachable(state_space)\n",
    "        states_iter = getattr(reachable_space, \"get_all_states\", lambda: reachable_space)()\n",
    "\n",
    "        # 2) initialize the output field over the same space, empty/unit by default\n",
    "        new_field = copy.copy(system_field)\n",
    "        new_field.state_space = state_space\n",
    "        new_field.set_empty_field()\n",
    "\n",
    "        # 3) per-state composition (kernel ⊗ system) and optional shaping (⊗ Q)\n",
    "        for s in states_iter:\n",
    "            k_val = self.kernel.get_kernel_value(s, current_state)     # FieldValue / SingleFieldValue\n",
    "            f_val = system_field.get_field(s)                          # FieldValue / SingleFieldValue\n",
    "            composed = self.kernelFieldComposition.compose(k_val, f_val)\n",
    "\n",
    "            if q_field is not None:\n",
    "                q_val = q_field.get_field(s)                           # FieldValue / SingleFieldValue\n",
    "                composed = self.postComposition.compose(composed, q_val)\n",
    "\n",
    "            new_field.set_field(s, composed)\n",
    "\n",
    "        return new_field\n"
   ],
   "metadata": {
    "id": "hyVPB-qP4hz7",
    "ExecuteTime": {
     "end_time": "2025-08-25T17:14:35.062818Z",
     "start_time": "2025-08-25T17:14:35.050476Z"
    }
   },
   "id": "hyVPB-qP4hz7",
   "outputs": [],
   "execution_count": null
  },
  {
   "metadata": {
    "id": "42ecf344a2816dd0"
   },
   "cell_type": "markdown",
   "source": [
    "# MultiStep"
   ],
   "id": "42ecf344a2816dd0"
  },
  {
   "metadata": {
    "id": "e4144676732136b2"
   },
   "cell_type": "markdown",
   "source": [
    "## MultiStep reaching"
   ],
   "id": "e4144676732136b2"
  },
  {
   "metadata": {
    "id": "4e08392214912ab8",
    "ExecuteTime": {
     "end_time": "2025-08-25T17:14:35.078885Z",
     "start_time": "2025-08-25T17:14:35.071967Z"
    }
   },
   "cell_type": "code",
   "source": [
    "\n",
    "class MultiStepReaching(Generic[S]):\n",
    "    \"\"\"\n",
    "    Computes the state space of states reachable in exactly `l` steps\n",
    "    by iteratively using a single-step Reachable.\n",
    "    \"\"\"\n",
    "    def __init__(self, reachable: \"Reachable[S]\"):\n",
    "        self.reachable = reachable\n",
    "\n",
    "    def get_reaching(self, initial_state: S, l: int, prototype_space: StatSpace[S]) -> StatSpace[S]:\n",
    "        \"\"\"\n",
    "        Returns a StatSpace containing all states reachable from `initial_state` in exactly l steps.\n",
    "        \"\"\"\n",
    "        current_states: Set[S] = {initial_state}\n",
    "        for _ in range(l):\n",
    "            next_states: Set[S] = set()\n",
    "            for s in current_states:\n",
    "                # single-step reachable returns a StatSpace\n",
    "                reachable_space = self.reachable.get_reachable(s)\n",
    "                next_states.update(reachable_space.get_all_states())\n",
    "            current_states = next_states\n",
    "\n",
    "        # Build resulting state space: choose one of the reachable states as current (or keep initial\n",
    "        prototype_space.set_state(initial_state)\n",
    "        prototype_space.build_from_states(current_states)\n",
    "        return prototype_space"
   ],
   "id": "4e08392214912ab8",
   "outputs": [],
   "execution_count": null
  },
  {
   "metadata": {
    "id": "f2d4708812306437"
   },
   "cell_type": "markdown",
   "source": [
    "## Multi-Step Field"
   ],
   "id": "f2d4708812306437"
  },
  {
   "metadata": {
    "id": "b2e0cfc5a0c6da75",
    "ExecuteTime": {
     "end_time": "2025-08-25T17:14:35.092639Z",
     "start_time": "2025-08-25T17:14:35.087401Z"
    }
   },
   "cell_type": "code",
   "source": [
    "class SingleStepFieldTransform(TransformField):\n",
    "    \"\"\"\n",
    "    TransformField for single-step fields.\n",
    "    \"\"\"\n",
    "    pass\n"
   ],
   "id": "b2e0cfc5a0c6da75",
   "outputs": [],
   "execution_count": null
  },
  {
   "metadata": {
    "id": "fadc0fc905109cf0",
    "ExecuteTime": {
     "end_time": "2025-08-25T17:14:35.107536Z",
     "start_time": "2025-08-25T17:14:35.102232Z"
    }
   },
   "cell_type": "code",
   "source": [
    "class MultiStepFieldComposition(ComposeField):\n",
    "    \"\"\"\n",
    "    ComposeField for multi-step fields (l-1 step with single-step).\n",
    "    \"\"\"\n",
    "    pass\n"
   ],
   "id": "fadc0fc905109cf0",
   "outputs": [],
   "execution_count": null
  },
  {
   "metadata": {
    "id": "433c440c7dcf1185",
    "ExecuteTime": {
     "end_time": "2025-08-25T17:14:35.128874Z",
     "start_time": "2025-08-25T17:14:35.116949Z"
    }
   },
   "cell_type": "code",
   "source": [
    "class MultiStepField(Generic[S]):\n",
    "    \"\"\"\n",
    "    Composite class for generating multi-step fields.\n",
    "    \"\"\"\n",
    "    def __init__(\n",
    "        self,\n",
    "        reachable: Reachable[S],\n",
    "        single_step: SingleStepField[S],\n",
    "        intrinsic_composer: ComposeField,\n",
    "        extrinsic_composer: ComposeField,\n",
    "        global_field_transform: TransformField,\n",
    "        single_step_transform: TransformField,\n",
    "        multi_step_transform: TransformField\n",
    "    ):\n",
    "        self.reachable = reachable\n",
    "        self.single_step = single_step\n",
    "        self.intrinsic_composer = intrinsic_composer  # Z^p\n",
    "        self.extrinsic_composer = extrinsic_composer  # Z^t\n",
    "        self.global_field_transform = global_field_transform  # transforms global field each iteration\n",
    "        self.single_step_transform = single_step_transform\n",
    "        self.multi_step_transform = multi_step_transform\n",
    "\n",
    "    def build_next_reaching_state_space(\n",
    "        self,\n",
    "        initial_state: S,\n",
    "        prev_reaching_space: StatSpace[S]\n",
    "    ) -> StatSpace[S]:\n",
    "        \"\"\"\n",
    "        Build the l-th reaching state space using the previous one or from scratch.\n",
    "        \"\"\"\n",
    "        if prev_reaching_space is not None:\n",
    "           return prev_reaching_space\n",
    "        else:\n",
    "            new_space = self.reachable.get_reachable(initial_state)\n",
    "        return new_space\n",
    "\n",
    "    def generate_multi_step_field(\n",
    "        self,\n",
    "        space: StatSpace[S],\n",
    "        start: S,\n",
    "        l: int,\n",
    "        single_transformed_field: Field,\n",
    "        single_step_transformed_field: Field,\n",
    "        system_field: Field[S],\n",
    "        system_global_field: Field[S]\n",
    "    ) -> Field[S]:\n",
    "        \"\"\"\n",
    "        Generate the multi-step field of order l using intrinsic (Z^p) and extrinsic (Z^t) compositions.\n",
    "        \"\"\"\n",
    "        reaching_space: Optional[StatSpace[S]] = None\n",
    "\n",
    "        for step in range(1, l+1):\n",
    "            if step == 1:\n",
    "                # First step: single-step field with no prior global field\n",
    "                system_field = self.single_step_transform.apply(self.single_step.build_single_step_field(space, start, system_global_field),single_step_transformed_field)\n",
    "                reaching_space = self.reachable.get_reachable(space.get_state())\n",
    "            else:\n",
    "                # Build reaching subspace for this step\n",
    "                # (previously here; moved to end of iteration)\n",
    "                f_t=copy.deepcopy(system_field)\n",
    "                f_t.set_field(reaching_space, system_field.get_unit_field())\n",
    "                # Populate temp_field with previous system_field values\n",
    "                for s in reaching_space.get_all_states():\n",
    "                # Build single-step field over reaching_space using current global field\n",
    "                    temp_state_space=copy.deepcopy(space)\n",
    "                    temp_state_space.set_state(reaching_space.get_state())\n",
    "                    temp_state_space.build_from_states(reaching_space.get_all_states())\n",
    "                    raw_single = self.single_step.build_single_step_field(\n",
    "                        temp_state_space, s , system_global_field\n",
    "                    )\n",
    "                    single_field = self.single_step_transform.apply(raw_single,single_transformed_field)\n",
    "                    temp_state_field = self.intrinsic_composer.apply(single_field, system_field)\n",
    "                    # Extrinsic composition Z^t\n",
    "                    f_t = self.extrinsic_composer.apply(f_t, temp_state_field)\n",
    "                # Update fields for next iterations\n",
    "                prototype_field = copy.deepcopy(system_field)\n",
    "                prototype_field.set_empty_field()\n",
    "                system_field = self.multi_step_transform.apply(f_t,prototype_field)\n",
    "                # Update reaching space at end of iteration\n",
    "                reaching_space = self.build_next_reaching_state_space(\n",
    "                     reaching_space, start\n",
    "                )\n",
    "        return system_field"
   ],
   "id": "433c440c7dcf1185",
   "outputs": [],
   "execution_count": null
  },
  {
   "metadata": {
    "id": "f5126f3223df3df9"
   },
   "cell_type": "markdown",
   "source": [
    "# Operator"
   ],
   "id": "f5126f3223df3df9"
  },
  {
   "metadata": {
    "id": "c533e02b6456df63",
    "ExecuteTime": {
     "end_time": "2025-08-25T17:14:35.142482Z",
     "start_time": "2025-08-25T17:14:35.135823Z"
    }
   },
   "cell_type": "code",
   "source": [
    "class Operator(ABC, Generic[S]):\n",
    "    \"\"\"\n",
    "    Defines the system's state-transition operator.\n",
    "    \"\"\"\n",
    "    @abstractmethod\n",
    "    def get_next_state(self, space: StatSpace[S], field: Field[S]) -> S:\n",
    "        \"\"\"Return the next observed state after l steps based on the field.\"\"\"\n",
    "        pass\n",
    "\n",
    "    def apply(self, space: StatSpace[S], field: Field[S], history: list[State]) -> None:\n",
    "        \"\"\"Advance the system by one step: update state and record in history.\"\"\"\n",
    "        next_state = self.get_next_state(space, field)\n",
    "        space.set_state(next_state)\n",
    "        history.append(next_state)\n",
    "\n",
    "T = TypeVar(\"T\", bound=State)\n"
   ],
   "id": "c533e02b6456df63",
   "outputs": [],
   "execution_count": null
  },
  {
   "metadata": {
    "id": "246a1b71ddf6d81b"
   },
   "cell_type": "markdown",
   "source": [
    "# Dyanmic Systems"
   ],
   "id": "246a1b71ddf6d81b"
  },
  {
   "metadata": {
    "id": "8a9599368790299c"
   },
   "cell_type": "markdown",
   "source": [
    "## Static and Field static systems"
   ],
   "id": "8a9599368790299c"
  },
  {
   "metadata": {
    "id": "8a588311cf09e1d2",
    "ExecuteTime": {
     "end_time": "2025-08-25T17:14:35.159659Z",
     "start_time": "2025-08-25T17:14:35.150621Z"
    }
   },
   "cell_type": "code",
   "source": [
    "\n",
    "\n",
    "class StaticDynamicSystem(ABC, Generic[T]):\n",
    "    \"\"\"\n",
    "    System without evolution: has state space, reachable, and reaching.\n",
    "    \"\"\"\n",
    "    def __init__(\n",
    "        self,\n",
    "        state_space: StatSpace[T],\n",
    "        reachable: Reachable[T],\n",
    "        reaching: Reaching[T],  # you can keep this if you have separate reverse logic\n",
    "    ):\n",
    "        self.state_space = state_space\n",
    "        self.reachable = reachable\n",
    "        self.reaching = reaching\n",
    "\n",
    "class FieldStaticDynamicSystem(StaticDynamicSystem[T], Generic[T]):\n",
    "    \"\"\"\n",
    "    Static system that also carries a field over its state space.\n",
    "    \"\"\"\n",
    "    def __init__(\n",
    "        self,\n",
    "        state_space: StatSpace[T],\n",
    "        reachable: Reachable[T],\n",
    "        reaching: Reaching[T],\n",
    "        field: Field[T],\n",
    "        global_system_field: Optional[Field[T]] = None,\n",
    "        own_produced_global_field: Optional[Field[T]] = None\n",
    "    ):\n",
    "        super().__init__(state_space, reachable, reaching)\n",
    "        self.field: Field[T] = field\n",
    "        self.own_produced_global_field: Field[T] = own_produced_global_field\n",
    "        if global_system_field is not None and global_system_field is None:\n",
    "            self.own_produced_field = global_system_field\n",
    "        if global_system_field is None:\n",
    "            # assume `field._unit` holds the unit FieldValue\n",
    "            self.global_field = copy.deepcopy(field)\n",
    "            self.global_field.set_empty_field()\n",
    "        else:\n",
    "            self.global_field = global_system_field\n",
    "\n"
   ],
   "id": "8a588311cf09e1d2",
   "outputs": [],
   "execution_count": null
  },
  {
   "metadata": {
    "id": "8afdcf3d726c97b4"
   },
   "cell_type": "markdown",
   "source": [
    "## Field Dynamic System"
   ],
   "id": "8afdcf3d726c97b4"
  },
  {
   "metadata": {
    "id": "4bf5d9e13a9aecc7",
    "ExecuteTime": {
     "end_time": "2025-08-25T17:14:35.179617Z",
     "start_time": "2025-08-25T17:14:35.168785Z"
    }
   },
   "cell_type": "code",
   "source": [
    "\n",
    "from numpy import integer\n",
    "\n",
    "\n",
    "class FieldDynamicSystem(FieldStaticDynamicSystem[S], Generic[S]):\n",
    "    \"\"\"\n",
    "    Encapsulates a full Field Dynamic System with its components.\n",
    "\n",
    "    Attributes:\n",
    "      state_space: the state space\n",
    "      field: the primary field over the state space\n",
    "      multi_step_field: multi-step field generator\n",
    "      reachable: Reachable instance\n",
    "      reaching: Reaching instance\n",
    "      operator: Operator defining system transitions\n",
    "      transition_list: TransitionList storing history\n",
    "      system_global_field: secondary global field inherited each iteration\n",
    "    \"\"\"\n",
    "    def __init__(self, state_space: StatSpace[S], field: Field[S], multi_step_field: MultiStepField[S], reachable: Reachable[S], reaching: Reaching[S],\n",
    "                 operator: Operator[S], transition_list: list[S],\n",
    "                 system_global_field: Optional[Field[S]] = None, own_produced_field: Optional[Field[S]] = None) -> None:\n",
    "        super().__init__(state_space, reachable, reaching, field,system_global_field,own_produced_field)\n",
    "        self.multi_step_field = multi_step_field\n",
    "       # self.pdf_field = pdf_field\n",
    "        self.operator = operator\n",
    "        self.transition_list = transition_list\n",
    "        # If no initial_system provided, use self as initial,\n",
    "        # Global field defaults to the primary field if not provided\n",
    "        self.system_global_field = system_global_field or field\n",
    "        self.multiStepReaching= MultiStepReaching(self.reachable)\n",
    "\n",
    "    def back_to_initial(self, initial_system: Optional['FieldDynamicSystem[S]'] = None,) -> None:\n",
    "        \"\"\"Reset all components back to the initial system state.\"\"\"\n",
    "        init = initial_system\n",
    "        self.state_space = init.state_space\n",
    "        self.field = init.field\n",
    "        self.multi_step_field = init.multi_step_field\n",
    "       # self.pdf_field = init.pdf_field\n",
    "        self.reachable = init.reachable\n",
    "        self.reaching = init.reaching\n",
    "        self.operator = init.operator\n",
    "        self.transition_list = init.transition_list\n",
    "        self.system_global_field = init.system_global_field\n",
    "\n",
    "    @abstractmethod\n",
    "    def multi_step_field_generator(self, steps:integer, **params) -> Field:\n",
    "        \"\"\"Gnertates the a multi step field and and returns the multi-step field\"\"\"\n",
    "\n",
    "    def save_multi_step_field(\n",
    "        self, steps:integer, **params\n",
    "    ):\n",
    "        self.field=self.multi_step_field_generator(steps, **params)\n",
    "\n",
    "    def evolve(self,steps: integer, **params):\n",
    "        \"\"\"Evolves the system by building l step field and applying the operator\"\"\"\n",
    "        l_step_field = self.multi_step_field_generator(steps, **params)\n",
    "        self.operator.apply(self.state_space,l_step_field,self.transition_list)\n"
   ],
   "id": "4bf5d9e13a9aecc7",
   "outputs": [],
   "execution_count": null
  },
  {
   "metadata": {
    "id": "d87bfda118515d44"
   },
   "cell_type": "markdown",
   "source": [
    "# Fields Mapping"
   ],
   "id": "d87bfda118515d44"
  },
  {
   "metadata": {
    "id": "dc659d3f7d6f537d"
   },
   "cell_type": "markdown",
   "source": [
    "## Distribution"
   ],
   "id": "dc659d3f7d6f537d"
  },
  {
   "metadata": {
    "id": "88f34923bd091c73",
    "ExecuteTime": {
     "end_time": "2025-08-25T17:14:35.193111Z",
     "start_time": "2025-08-25T17:14:35.187048Z"
    }
   },
   "cell_type": "code",
   "source": [
    "\n",
    "\n",
    "class Distribution(ABC, Generic[Sin, Sout]):\n",
    "    \"\"\"\n",
    "    Abstract distribution defining how field values at an input state spread over\n",
    "    the mapped output state-space.\n",
    "    \"\"\"\n",
    "    @abstractmethod\n",
    "    def distributionFunction(\n",
    "        self,\n",
    "        field_in: Field[Sin],\n",
    "        field_out: Field[Sout],\n",
    "        state: Sin,\n",
    "        space_out: StatSpace[Sout]\n",
    "    ) -> Field[Sout]:\n",
    "        \"\"\"\n",
    "        Given an input field and a single input state plus its mapped output space,\n",
    "        return a Field over that output space representing the distribution.\n",
    "        \"\"\"\n",
    "        pass"
   ],
   "id": "88f34923bd091c73",
   "outputs": [],
   "execution_count": null
  },
  {
   "metadata": {
    "id": "c0796e7c22e783c9"
   },
   "cell_type": "markdown",
   "source": [
    "## Fields Mapping"
   ],
   "id": "c0796e7c22e783c9"
  },
  {
   "metadata": {
    "id": "9c8ae28c6bd41006",
    "ExecuteTime": {
     "end_time": "2025-08-25T17:14:35.207024Z",
     "start_time": "2025-08-25T17:14:35.200303Z"
    }
   },
   "cell_type": "code",
   "source": [
    "class FieldsMapping(Generic[Sin, Sout]):\n",
    "    \"\"\"\n",
    "    Maps an entire Field from one state-space to another using a state-space mapping\n",
    "    and a distribution function.\n",
    "    \"\"\"\n",
    "    def __init__(\n",
    "        self,\n",
    "        ssm: StateSpaceMapping[Sin, Sout],\n",
    "        d: Distribution[Sin, Sout], fields_transform: Transform\n",
    "    ):\n",
    "        self.ssm = ssm\n",
    "        self.d = d\n",
    "        self.field_transform = fields_transform\n",
    "\n",
    "    def get_fields_mapping(\n",
    "        self,\n",
    "        field_in: Field[Sin],\n",
    "        field_out: Field[Sout]\n",
    "    ) -> Field[Sout]:\n",
    "        \"\"\"\n",
    "        Map a Field[Sin] to Field[Sout].\n",
    "        \"\"\"\n",
    "        # Initialize empty output field over the union of all mapped spaces\n",
    "        # First compute the overall output state-space\n",
    "        pass\n"
   ],
   "id": "9c8ae28c6bd41006",
   "outputs": [],
   "execution_count": null
  },
  {
   "metadata": {
    "id": "bb53a6ec0671f72e"
   },
   "cell_type": "markdown",
   "source": [
    "# Distance"
   ],
   "id": "bb53a6ec0671f72e"
  },
  {
   "metadata": {
    "id": "1b7157ba3017ecdf"
   },
   "cell_type": "markdown",
   "source": [
    "## Distance Metric"
   ],
   "id": "1b7157ba3017ecdf"
  },
  {
   "metadata": {
    "id": "f365d9f67253e69",
    "ExecuteTime": {
     "end_time": "2025-08-25T17:14:35.232323Z",
     "start_time": "2025-08-25T17:14:35.226157Z"
    }
   },
   "cell_type": "code",
   "source": [
    "\n",
    "\n",
    "class DistanceMetric(ABC, Generic[Sout]):\n",
    "    \"\"\"\n",
    "    Abstract metric defining distance between mapped and original fields.\n",
    "    \"\"\"\n",
    "    @abstractmethod\n",
    "    def metric(\n",
    "        self,\n",
    "        mapped_field: Field[Sout],\n",
    "        field: Field[Sout]\n",
    "    ) -> float:\n",
    "        \"\"\"\n",
    "        Compute distance between a mapped field and the target field.\n",
    "        \"\"\"\n",
    "        pass"
   ],
   "id": "f365d9f67253e69",
   "outputs": [],
   "execution_count": null
  },
  {
   "metadata": {
    "id": "a10a4f9b8d789036"
   },
   "cell_type": "markdown",
   "source": [
    "## Field distance"
   ],
   "id": "a10a4f9b8d789036"
  },
  {
   "metadata": {
    "id": "5b527da4960c838",
    "ExecuteTime": {
     "end_time": "2025-08-25T17:14:35.255766Z",
     "start_time": "2025-08-25T17:14:35.247992Z"
    }
   },
   "cell_type": "code",
   "source": [
    "class FieldsDistance(Generic[Sin, Sout]):\n",
    "    \"\"\"\n",
    "    Computes distance between dynamic systems via field mapping and metric.\n",
    "    \"\"\"\n",
    "    def __init__(\n",
    "        self,\n",
    "        fm: FieldsMapping[Sin, Sout],\n",
    "        dm: DistanceMetric[Sout]\n",
    "    ):\n",
    "        self.fm = fm\n",
    "        self.dm = dm\n",
    "\n",
    "    def get_field_distance(\n",
    "        self,\n",
    "        field_in: Field[Sin],\n",
    "        field_out: Field[Sout],\n",
    "    ) -> float:\n",
    "        \"\"\"\n",
    "        Map `field_in` to Field[Sout], fiel_out for the reference of output field then compute distance to `field`.\n",
    "        Only possible if state-space and field-value types match.\n",
    "        \"\"\"\n",
    "        # Obtain the mapped field\n",
    "        field_out_type=copy.deepcopy(field_out)\n",
    "        field_mapped: Field[Sout] = self.fm.get_fields_mapping(field_in,field_out_type)\n",
    "        # Ensure the state spaces match\n",
    "        if field_mapped.state_space != field_out.state_space:\n",
    "            raise ValueError(\"Cannot compute distance: mismatched state spaces\")\n",
    "        # Ensure the field value types match (same unit field type)\n",
    "        if not isinstance(field_mapped.get_unit_field(), field_out.get_unit_field().__class__):\n",
    "            raise ValueError(\"Cannot compute distance: field value types must match exactly\")\n",
    "        # Compute and return the distance\n",
    "        return self.dm.metric(field_mapped, field_out)\n",
    "\n",
    "\n"
   ],
   "id": "5b527da4960c838",
   "outputs": [],
   "execution_count": null
  },
  {
   "metadata": {
    "id": "909485843a29c6f1"
   },
   "cell_type": "markdown",
   "source": [
    "## FDS distance"
   ],
   "id": "909485843a29c6f1"
  },
  {
   "metadata": {
    "id": "2131e1fc639d8208",
    "ExecuteTime": {
     "end_time": "2025-08-25T17:14:35.275191Z",
     "start_time": "2025-08-25T17:14:35.268717Z"
    }
   },
   "cell_type": "code",
   "source": [
    "class FDSDistance(Generic[S]):\n",
    "    \"\"\"\n",
    "    Computes distance between two field dynamic systems using a FieldsDistance.\n",
    "    \"\"\"\n",
    "    def __init__(self, fd: FieldsDistance[S, S]):\n",
    "        self.fd = fd\n",
    "\n",
    "    def get_system_distance(\n",
    "        self,\n",
    "        fds1: FieldDynamicSystem[S],\n",
    "        fds2: FieldDynamicSystem[S]\n",
    "    ) -> float:\n",
    "        \"\"\"\n",
    "        Compute distance between two systems by comparing their fields.\n",
    "        \"\"\"\n",
    "        return self.fd.get_field_distance(fds1.field, fds2.field)\n"
   ],
   "id": "2131e1fc639d8208",
   "outputs": [],
   "execution_count": null
  },
  {
   "metadata": {
    "id": "46e83cdcbc26e5bf"
   },
   "cell_type": "markdown",
   "source": [
    "# Correlated System Framework"
   ],
   "id": "46e83cdcbc26e5bf"
  },
  {
   "metadata": {
    "id": "729bb298c794fd48"
   },
   "cell_type": "markdown",
   "source": [
    "## Corrrelated State"
   ],
   "id": "729bb298c794fd48"
  },
  {
   "metadata": {
    "id": "51ce7cfbaad0dc44",
    "ExecuteTime": {
     "end_time": "2025-08-25T17:14:35.302922Z",
     "start_time": "2025-08-25T17:14:35.289219Z"
    }
   },
   "cell_type": "code",
   "source": [
    "from typing import Mapping, Iterable\n",
    "\n",
    "class CorrelatedState(State):\n",
    "    def __init__(self, components: Mapping[str, State], order: Optional[Iterable[str]] = None):\n",
    "        \"\"\"\n",
    "        components: mapping from system name to its State\n",
    "        order: deterministic ordering of names; if None, uses sorted(components.keys())\n",
    "        \"\"\"\n",
    "        self._order = list(order) if order is not None else sorted(components.keys())\n",
    "        self._states = tuple(components[name] for name in self._order)\n",
    "        # name → index for quick lookup\n",
    "        self._name_to_idx = {name: idx for idx, name in enumerate(self._order)}\n",
    "        # Optionally cache concatenated vector\n",
    "        self._vector_cache: Optional[np.ndarray] = None\n",
    "\n",
    "    def get_order(self):\n",
    "        return self._order\n",
    "\n",
    "    def get_states(self,i):\n",
    "        return self._states[i]\n",
    "\n",
    "    def as_vector(self) -> np.ndarray:\n",
    "        if self._vector_cache is None:\n",
    "            vectors = [s.as_vector() for s in self._states]\n",
    "            self._vector_cache = np.concatenate(vectors)\n",
    "        return self._vector_cache\n",
    "\n",
    "    def __getitem__(self, key):\n",
    "        if isinstance(key, int):\n",
    "            return self._states[key]\n",
    "        elif isinstance(key, str):\n",
    "            idx = self._name_to_idx[key]\n",
    "            return self._states[idx]\n",
    "        else:\n",
    "            raise KeyError(f\"Unsupported key type: {key}\")\n",
    "\n",
    "    def with_update(self, name: str, new_state: State) -> 'CorrelatedState':\n",
    "        \"\"\"Return a new CorrelatedState with one component replaced.\"\"\"\n",
    "        if name not in self._name_to_idx:\n",
    "            raise KeyError(name)\n",
    "        lst = list(self._states)\n",
    "        lst[self._name_to_idx[name]] = new_state\n",
    "        new_components = {n: lst[i] for i, n in enumerate(self._order)}\n",
    "        return CorrelatedState(new_components, order=self._order)\n",
    "\n",
    "    def project(self, names: Iterable[str]) -> 'CorrelatedState':\n",
    "        \"\"\"Return a smaller CorrelatedState restricted to subset of systems.\"\"\"\n",
    "        comps = {name: self[name] for name in names}\n",
    "        return CorrelatedState(comps, order=[n for n in self._order if n in names])\n",
    "\n",
    "    def __eq__(self, other):\n",
    "        if not isinstance(other, CorrelatedState):\n",
    "            return False\n",
    "        return self.get_order() == other.get_order() and all(\n",
    "            self._states[i] == other.get_states(i) for i in range(len(self._states))\n",
    "        )\n",
    "\n",
    "    def __hash__(self):\n",
    "        return hash((tuple(self._order), tuple(self._states)))\n",
    "\n",
    "    def items(self):\n",
    "        return zip(self._order, self._states)\n"
   ],
   "id": "51ce7cfbaad0dc44",
   "outputs": [],
   "execution_count": null
  },
  {
   "metadata": {
    "id": "db4096e56341e250"
   },
   "cell_type": "markdown",
   "source": [
    "## Correlated State Space"
   ],
   "id": "db4096e56341e250"
  },
  {
   "metadata": {
    "id": "5c2ce226eab45804",
    "ExecuteTime": {
     "end_time": "2025-08-25T17:14:35.329663Z",
     "start_time": "2025-08-25T17:14:35.317719Z"
    }
   },
   "cell_type": "code",
   "source": [
    "from itertools import product\n",
    "\n",
    "#Need to understand this first\n",
    "class CorrelatedStateSpace(StatSpace):\n",
    "    def __init__(self, component_spaces: Mapping[str, 'StatSpace'], initial_state: CorrelatedState =None, set_of_states: Set[CorrelatedState] =None,\n",
    "                 constraint: Optional[callable] = None):\n",
    "        \"\"\"\n",
    "        component_spaces: mapping from system name to its individual state space\n",
    "        constraint: optional predicate to filter joint states (e.g., no-collision)\n",
    "        \"\"\"\n",
    "        super().__init__(initial_state, set_of_states)\n",
    "        self._order: List[str] = list(component_spaces.keys())\n",
    "        self._component_spaces: Dict[str, 'StatSpace'] = dict(component_spaces)\n",
    "        self.constraint = constraint\n",
    "        initial_components = {name: self._component_spaces[name].get_state() for name in self._order}\n",
    "        self._initial: CorrelatedState = CorrelatedState(initial_components, order=self._order)\n",
    "        initial_state=self._initial\n",
    "        # For compatibility with StatSpace API, treat initial as current\n",
    "        self._current_state: CorrelatedState = self._initial\n",
    "        self._states: Set[CorrelatedState] = set()\n",
    "        self.build()\n",
    "        super(initial_state,set_of_states)\n",
    "\n",
    "    def get_all_states(self) -> Set[CorrelatedState]:\n",
    "        return self._states\n",
    "\n",
    "    def get_state(self) -> CorrelatedState:\n",
    "        return self._current_state\n",
    "\n",
    "    def set_state(self, state: CorrelatedState) -> None:\n",
    "        self._current_state = state\n",
    "\n",
    "    def build(self, *args, **kwargs) -> None:\n",
    "        lists = [self._component_spaces[name].get_all_states() for name in self._order]\n",
    "        self._states = set()\n",
    "        for tuple_states in product(*lists):\n",
    "            comps = {name: tuple_states[i] for i, name in enumerate(self._order)}\n",
    "            cs = CorrelatedState(comps, order=self._order)\n",
    "            if self.constraint is None or self.constraint(cs):\n",
    "                self._states.add(cs)\n",
    "\n",
    "    def dimension(self) -> int:\n",
    "        total = 0\n",
    "        for name in self._order:\n",
    "            space = self._component_spaces[name]\n",
    "            if hasattr(space, \"dimension\"):\n",
    "                total += space.dimension()\n",
    "        return total\n",
    "\n",
    "    def union_state_space(self, other: 'CorrelatedStateSpace') -> 'CorrelatedStateSpace':\n",
    "        pass\n",
    "\n",
    "    def intersection_state_space(self, other: 'CorrelatedStateSpace') -> 'CorrelatedStateSpace':\n",
    "        pass"
   ],
   "id": "5c2ce226eab45804",
   "outputs": [],
   "execution_count": null
  },
  {
   "metadata": {
    "id": "bf17b6ba3c24cc64"
   },
   "cell_type": "markdown",
   "source": [
    "## Correlated FDS"
   ],
   "id": "bf17b6ba3c24cc64"
  },
  {
   "metadata": {
    "id": "4d4481497abf61de",
    "ExecuteTime": {
     "end_time": "2025-08-25T17:14:35.356455Z",
     "start_time": "2025-08-25T17:14:35.347188Z"
    }
   },
   "cell_type": "code",
   "source": [
    "\n",
    "\n",
    "class CorrelatedFieldDynamicSystem(FieldDynamicSystem):\n",
    "    def __init__(self, systems: Dict[str, FieldStaticDynamicSystem], combined_multistep_field: MultiStepField,\n",
    "                 operator: Operator, correlatedReachable: Reachable, correlated_field: Field[S],\n",
    "                 transition_list: List[CorrelatedState], system_global_field: Optional[Field] = None,\n",
    "                 set_reachable: bool = False, make_correlated_state_space: bool = True,\n",
    "                 correlatedReaching: Reaching = None, correlated_state_space: Optional[CorrelatedStateSpace] = None\n",
    "                 ):\n",
    "        \"\"\"Implementation of logic for correlates state space\"\"\"\n",
    "        if make_correlated_state_space:\n",
    "            component_spaces = {}\n",
    "            for name, sys in systems.items():\n",
    "                if set_reachable:\n",
    "                    component_spaces[name] = sys.reachable.get_reachable(\n",
    "                        sys.state_space, sys.state_space.get_state()\n",
    "                    )\n",
    "                else:\n",
    "                    component_spaces[name] = sys.state_space\n",
    "            self.state_space = CorrelatedStateSpace(component_spaces, constraint=None)\n",
    "        else:\n",
    "            self.state_space = None\n",
    "\n",
    "        # assign or clear combined_field state_space\n",
    "        if self.state_space is not None:\n",
    "            correlated_field.state_space = self.state_space\n",
    "        else:\n",
    "            correlated_field.state_space = CorrelatedStateSpace({}, constraint=None)\n",
    "        self.combined_field = correlated_field\n",
    "\n",
    "        super().__init__(correlated_state_space,correlated_field,combined_multistep_field,correlatedReachable,correlatedReaching,operator,transition_list,system_global_field)\n",
    "        self.systems = systems\n"
   ],
   "id": "4d4481497abf61de",
   "outputs": [],
   "execution_count": null
  },
  {
   "metadata": {
    "id": "b45477c77ed1448e"
   },
   "cell_type": "markdown",
   "source": [
    "# Ensemble"
   ],
   "id": "b45477c77ed1448e"
  },
  {
   "metadata": {
    "id": "564cc29c3aea46b3"
   },
   "cell_type": "markdown",
   "source": [
    "## Correlation groups"
   ],
   "id": "564cc29c3aea46b3"
  },
  {
   "metadata": {
    "id": "2fb5e7a1f198f548"
   },
   "cell_type": "markdown",
   "source": [
    "### Is correlated"
   ],
   "id": "2fb5e7a1f198f548"
  },
  {
   "metadata": {
    "id": "5f99cee555ecd60d",
    "ExecuteTime": {
     "end_time": "2025-08-25T17:14:35.372322Z",
     "start_time": "2025-08-25T17:14:35.366370Z"
    }
   },
   "cell_type": "code",
   "source": [
    "from typing import  Generic\n",
    "\n",
    "class IsCorrelated(ABC, Generic[T]):\n",
    "    \"\"\"\n",
    "    Strategy interface to decide whether two FieldStaticDynamicSystems are correlated.\n",
    "    \"\"\"\n",
    "    @abstractmethod\n",
    "    def isCorrelatedSystems(\n",
    "        self,\n",
    "        system1: \"FieldStaticDynamicSystem[T]\",\n",
    "        system2: \"FieldStaticDynamicSystem[T]\",\n",
    "    ) -> bool:\n",
    "        \"\"\"\n",
    "        Return True iff system1 and system2 are correlated under this strategy.\n",
    "        \"\"\"\n",
    "        pass\n"
   ],
   "id": "5f99cee555ecd60d",
   "outputs": [],
   "execution_count": null
  },
  {
   "metadata": {
    "id": "377aa99516776b84"
   },
   "cell_type": "markdown",
   "source": [
    "### Correlated list class"
   ],
   "id": "377aa99516776b84"
  },
  {
   "metadata": {
    "id": "83e571d8bf6a00a1",
    "ExecuteTime": {
     "end_time": "2025-08-25T17:14:35.403159Z",
     "start_time": "2025-08-25T17:14:35.392810Z"
    }
   },
   "cell_type": "code",
   "source": [
    "class ListOfCorrelatedGroups(Generic[T]):\n",
    "    \"\"\"\n",
    "    Builds correlated groups of systems using an IsCorrelated strategy.\n",
    "    Groups are the connected components of the undirected graph whose vertices are systems\n",
    "    and edges connect pairs (i, j) with isCorrelatedSystems(i, j) == True (symmetrized).\n",
    "    \"\"\"\n",
    "    def __init__(\n",
    "        self,\n",
    "        systems: Dict[str, \"FieldStaticDynamicSystem[T]\"],\n",
    "        is_correlated: IsCorrelated[T],\n",
    "    ) -> None:\n",
    "        self._systems: Dict[str, \"FieldStaticDynamicSystem[T]\"] = systems\n",
    "        self.IsCorrelated: IsCorrelated[T] = is_correlated\n",
    "\n",
    "    def getCorrelatedGroupsList(self) -> List[Set[str]]:\n",
    "        names = list(self._systems.keys())\n",
    "        # Build undirected adjacency based on correlation predicate\n",
    "        adj: Dict[str, Set[str]] = {name: set() for name in names}\n",
    "        for i, ni in enumerate(names):\n",
    "            for nj in names[i + 1 :]:\n",
    "                si = self._systems[ni]\n",
    "                sj = self._systems[nj]\n",
    "                # Symmetrize: treat correlation as undirected if either direction says True\n",
    "                correlated = (\n",
    "                    self.IsCorrelated.isCorrelatedSystems(si, sj)\n",
    "                    or self.IsCorrelated.isCorrelatedSystems(sj, si)\n",
    "                )\n",
    "                if correlated:\n",
    "                    adj[ni].add(nj)\n",
    "                    adj[nj].add(ni)\n",
    "\n",
    "        # Connected components via DFS/BFS\n",
    "        visited: Set[str] = set()\n",
    "        groups: List[Set[str]] = []\n",
    "\n",
    "        for start in names:\n",
    "            if start in visited:\n",
    "                continue\n",
    "            comp: Set[str] = set()\n",
    "            stack = [start]\n",
    "            visited.add(start)\n",
    "            while stack:\n",
    "                v = stack.pop()\n",
    "                comp.add(v)\n",
    "                for w in adj[v]:\n",
    "                    if w not in visited:\n",
    "                        visited.add(w)\n",
    "                        stack.append(w)\n",
    "            groups.append(comp)\n",
    "\n",
    "        return groups"
   ],
   "id": "83e571d8bf6a00a1",
   "outputs": [],
   "execution_count": null
  },
  {
   "metadata": {
    "id": "8e6cc63370998947"
   },
   "cell_type": "markdown",
   "source": [
    "## Gloabal Field Affecting Groups"
   ],
   "id": "8e6cc63370998947"
  },
  {
   "metadata": {
    "id": "96921fb9d33825cb"
   },
   "cell_type": "markdown",
   "source": [
    "### Is affected"
   ],
   "id": "96921fb9d33825cb"
  },
  {
   "metadata": {
    "id": "784d83ffc42b1f11",
    "ExecuteTime": {
     "end_time": "2025-08-25T17:14:35.423475Z",
     "start_time": "2025-08-25T17:14:35.417313Z"
    }
   },
   "cell_type": "code",
   "source": [
    "class IsAffectedGroups(ABC, Generic[T]):\n",
    "    \"\"\"\n",
    "    Strategy interface to decide whether one system's global field affects another.\n",
    "    Directional check: affects(src, dst) -> bool\n",
    "    \"\"\"\n",
    "    @abstractmethod\n",
    "    def affects(\n",
    "        self,\n",
    "        system_src: \"FieldStaticDynamicSystem[T]\",\n",
    "        system_dst: \"FieldStaticDynamicSystem[T]\",\n",
    "    ) -> bool:\n",
    "        \"\"\"\n",
    "        Return True iff system_src's published/global-out field affects system_dst's global field.\n",
    "        \"\"\"\n",
    "        pass"
   ],
   "id": "784d83ffc42b1f11",
   "outputs": [],
   "execution_count": null
  },
  {
   "metadata": {
    "id": "58c865d1cc248406"
   },
   "cell_type": "markdown",
   "source": [
    "### Global Field affecting class"
   ],
   "id": "58c865d1cc248406"
  },
  {
   "metadata": {
    "id": "1d7c9146f3ffe491",
    "ExecuteTime": {
     "end_time": "2025-08-25T17:14:35.446801Z",
     "start_time": "2025-08-25T17:14:35.436997Z"
    }
   },
   "cell_type": "code",
   "source": [
    "class ListOfGlobalFieldAffectedGroups(Generic[T]):\n",
    "    \"\"\"\n",
    "    Builds 'affected groups' of systems using an IsAffectedGroups strategy.\n",
    "    Groups are weakly-connected components of the directed graph whose vertices are systems\n",
    "    and there is a directed edge src -> dst when affects(src, dst) == True.\n",
    "    (Weak connectivity: an undirected edge exists if affects(src,dst) or affects(dst,src).)\n",
    "    \"\"\"\n",
    "    def __init__(\n",
    "        self,\n",
    "        systems: Dict[str, \"FieldStaticDynamicSystem[T]\"],\n",
    "        is_affected: IsAffectedGroups[T],\n",
    "    ) -> None:\n",
    "        self._systems: Dict[str, \"FieldStaticDynamicSystem[T]\"] = systems\n",
    "        self.IsAffectedGroups: IsAffectedGroups[T] = is_affected\n",
    "\n",
    "    def getGlobalFieldAffectedGroupsList(self) -> List[Set[str]]:\n",
    "        names = list(self._systems.keys())\n",
    "        # Undirected adjacency from directional predicate (weak connectivity)\n",
    "        adj: Dict[str, Set[str]] = {name: set() for name in names}\n",
    "        for i, ni in enumerate(names):\n",
    "            si = self._systems[ni]\n",
    "            for nj in names[i + 1 :]:\n",
    "                sj = self._systems[nj]\n",
    "                # Edge if either direction affects the other\n",
    "                linked = (\n",
    "                    self.IsAffectedGroups.affects(si, sj)\n",
    "                    or self.IsAffectedGroups.affects(sj, si)\n",
    "                )\n",
    "                if linked:\n",
    "                    adj[ni].add(nj)\n",
    "                    adj[nj].add(ni)\n",
    "\n",
    "        # Connected components\n",
    "        visited: Set[str] = set()\n",
    "        groups: List[Set[str]] = []\n",
    "        for start in names:\n",
    "            if start in visited:\n",
    "                continue\n",
    "            comp: Set[str] = set()\n",
    "            stack = [start]\n",
    "            visited.add(start)\n",
    "            while stack:\n",
    "                v = stack.pop()\n",
    "                comp.add(v)\n",
    "                for w in adj[v]:\n",
    "                    if w not in visited:\n",
    "                        visited.add(w)\n",
    "                        stack.append(w)\n",
    "            groups.append(comp)\n",
    "\n",
    "        return groups"
   ],
   "id": "1d7c9146f3ffe491",
   "outputs": [],
   "execution_count": null
  },
  {
   "metadata": {
    "id": "b8f162ed4b3950d2"
   },
   "cell_type": "markdown",
   "source": [
    "## Ensamble Operator"
   ],
   "id": "b8f162ed4b3950d2"
  },
  {
   "metadata": {
    "id": "fcffa2d7cbbf0650",
    "ExecuteTime": {
     "end_time": "2025-08-25T17:14:35.468213Z",
     "start_time": "2025-08-25T17:14:35.461208Z"
    }
   },
   "cell_type": "code",
   "source": [
    "\n",
    "\n",
    "\n",
    "class EnsembleOperator:\n",
    "    \"\"\"\n",
    "    Applies one-step evolution to each correlated system by delegating\n",
    "    to the system's own operator.\n",
    "    \"\"\"\n",
    "    def __init__(self, correlated_groups: List[\"CorrelatedFieldDynamicSystem\"]) -> None:\n",
    "        self.correlated_groups = correlated_groups\n",
    "\n",
    "    def step(self, l: int = 1) -> None:\n",
    "        \"\"\"\n",
    "        Advance all correlated systems by exactly `l` steps in one call.\n",
    "        For one-iteration semantics, call with l=1.\n",
    "        \"\"\"\n",
    "        for grp in self.correlated_groups:\n",
    "            # Expected Operator signature:\n",
    "            #   apply(StateSpace, Field, l, TransitionList[State])\n",
    "            grp.operator.apply(\n",
    "                grp.state_space,\n",
    "                grp.combined_field,\n",
    "                l,\n",
    "                grp.transition_history\n",
    "            )\n",
    "\n",
    "    def apply(self, steps: int = 1) -> None:\n",
    "        \"\"\"\n",
    "        Advance all correlated systems by `steps` one-step iterations.\n",
    "        Equivalent to calling step(l=1) `steps` times.\n",
    "        \"\"\"\n",
    "        for _ in range(steps):\n",
    "            self.step(l=1)"
   ],
   "id": "fcffa2d7cbbf0650",
   "outputs": [],
   "execution_count": null
  },
  {
   "metadata": {
    "id": "4b6533453b130c6e"
   },
   "cell_type": "markdown",
   "source": [
    "## Mapping Register"
   ],
   "id": "4b6533453b130c6e"
  },
  {
   "metadata": {
    "id": "87eb6dfb4affb2e2",
    "ExecuteTime": {
     "end_time": "2025-08-25T17:14:35.493537Z",
     "start_time": "2025-08-25T17:14:35.483369Z"
    }
   },
   "cell_type": "code",
   "source": [
    "from typing import Tuple\n",
    "\n",
    "\n",
    "class MappingRegister:\n",
    "    \"\"\"\n",
    "    Stores directional field mappings between systems.\n",
    "    If M[src, dst] is missing but M[dst, src] exists and is invertible,\n",
    "    returns inverse(M[dst, src]). Caches computed inverses.\n",
    "    A mapping object is expected to expose .inverse() -> mapping.\n",
    "    \"\"\"\n",
    "    def __init__(self) -> None:\n",
    "        self._M: Dict[Tuple[str, str], Any] = {}\n",
    "        self._inv_cache: Dict[Tuple[str, str], Any] = {}\n",
    "\n",
    "    def set(self, src: str, dst: str, mapping: Any) -> None:\n",
    "        \"\"\"Register a mapping M_{src->dst}.\"\"\"\n",
    "        self._M[(src, dst)] = mapping\n",
    "\n",
    "    def has(self, src: str, dst: str) -> bool:\n",
    "        return (src, dst) in self._M or (dst, src) in self._M\n",
    "\n",
    "    def get(self, src: str, dst: str) -> Any:\n",
    "        \"\"\"Return M_{src->dst} or inverse(M_{dst->src}) if available; else raise.\"\"\"\n",
    "        key = (src, dst)\n",
    "        if key in self._M:\n",
    "            return self._M[key]\n",
    "\n",
    "        # Try inverse of reverse mapping\n",
    "        rkey = (dst, src)\n",
    "        if rkey in self._M:\n",
    "            if key in self._inv_cache:\n",
    "                return self._inv_cache[key]\n",
    "            rev = self._M[rkey]\n",
    "            inv = getattr(rev, \"inverse\", None)\n",
    "            if callable(inv):\n",
    "                inv_map = inv()\n",
    "                # cache and optionally store\n",
    "                self._inv_cache[key] = inv_map\n",
    "                self._M[key] = inv_map\n",
    "                return inv_map\n",
    "            raise ValueError(\n",
    "                f\"Mapping {src}->{dst} not found and reverse mapping {dst}->{src} \"\n",
    "                f\"does not provide an inverse().\"\n",
    "            )\n",
    "\n",
    "        raise KeyError(f\"No mapping found for {src}->{dst} or {dst}->{src}.\")"
   ],
   "id": "87eb6dfb4affb2e2",
   "outputs": [],
   "execution_count": null
  },
  {
   "metadata": {
    "id": "85a3b9a3280a3b8f"
   },
   "cell_type": "markdown",
   "source": [
    "## Ensemble"
   ],
   "id": "85a3b9a3280a3b8f"
  },
  {
   "metadata": {
    "id": "f32032ac2597c99",
    "ExecuteTime": {
     "end_time": "2025-08-25T17:14:35.517221Z",
     "start_time": "2025-08-25T17:14:35.503982Z"
    }
   },
   "cell_type": "code",
   "source": [
    "\n",
    "\n",
    "\n",
    "class Ensemble:\n",
    "    def __init__(\n",
    "        self,\n",
    "        systems: Dict[str, \"FieldStaticDynamicSystem\"],\n",
    "        correlation: \"ListOfCorrelatedGroups\",\n",
    "        mappings: \"MappingRegister\",\n",
    "        correlated_systems: Optional[Dict[frozenset[str], \"CorrelatedFieldDynamicSystem\"]] = None,\n",
    "    ) -> None:\n",
    "        self.systems = systems\n",
    "        self.correlation = correlation\n",
    "        self.mappings = mappings\n",
    "        self.correlated_systems = correlated_systems or {}\n",
    "\n",
    "    # ---------- internal helpers ----------\n",
    "\n",
    "    def _build_single_system_field(self, name: str, l: int, params: Optional[dict] = None) -> None:\n",
    "        sys = self.systems[name]\n",
    "        if not hasattr(sys, \"multi_step_field\"):\n",
    "            return\n",
    "        space = sys.state_space\n",
    "        start = space.get_state() if hasattr(space, \"get_state\") else None\n",
    "        sys.multi_step_field.generate_multi_step_field(\n",
    "            space,\n",
    "            start,\n",
    "            l,\n",
    "            params or {},\n",
    "            sys.field,\n",
    "            getattr(sys, \"system_global_field\", sys.field),\n",
    "        )\n",
    "\n",
    "    def _build_correlated_group_field(self, group_names: Set[str], l: int, params: Optional[dict] = None) -> None:\n",
    "        key = frozenset(group_names)\n",
    "        corr = self.correlated_systems.get(key)\n",
    "        if corr is None:\n",
    "            return\n",
    "        space = corr.state_space\n",
    "        start = space.get_state() if hasattr(space, \"get_state\") else None\n",
    "        corr.combined_multistep_field.generate_multi_step_field(\n",
    "            space,\n",
    "            start,\n",
    "            l,\n",
    "            params or {},\n",
    "            corr.combined_field,\n",
    "            getattr(corr, \"system_global_field\", corr.combined_field),\n",
    "        )\n",
    "\n",
    "    def _compute_mapped_globals(self) -> Dict[str, \"Field\"]:\n",
    "        \"\"\"\n",
    "        Return a dict of {system_name: new_global_field} computed from current system state.\n",
    "        Implement in subclasses (e.g., GlobalFieldAffectingEnsemble).\n",
    "        \"\"\"\n",
    "        raise NotImplementedError\n",
    "\n",
    "    # ---------- public API ----------\n",
    "\n",
    "    def applyFieldChanges(self, l: int, params: Optional[dict] = None) -> None:\n",
    "        \"\"\"\n",
    "        1) Build fields of all correlated groups (pre-global mapping).\n",
    "           - groups of size 1 are treated as individual FieldDynamicSystem\n",
    "        2) Build mapped global field for all systems through mappings (with inverse fallback).\n",
    "        3) Publish the new global fields.\n",
    "        4) Build fields for all correlated groups again (post-global mapping).\n",
    "        \"\"\"\n",
    "        groups: List[Set[str]] = self.correlation.getCorrelatedGroupsList()\n",
    "\n",
    "        # Step 1\n",
    "        for grp in groups:\n",
    "            if len(grp) == 1:\n",
    "                self._build_single_system_field(next(iter(grp)), l, params)\n",
    "            else:\n",
    "                self._build_correlated_group_field(grp, l, params)\n",
    "\n",
    "        # Step 2–3\n",
    "        new_globals = self._compute_mapped_globals()\n",
    "        for name, Gnew in new_globals.items():\n",
    "            setattr(self.systems[name], \"system_global_field\", Gnew)\n",
    "\n",
    "        # Step 4\n",
    "        for grp in groups:\n",
    "            if len(grp) == 1:\n",
    "                self._build_single_system_field(next(iter(grp)), l, params)\n",
    "            else:\n",
    "                self._build_correlated_group_field(grp, l, params)\n"
   ],
   "id": "f32032ac2597c99",
   "outputs": [],
   "execution_count": null
  },
  {
   "metadata": {
    "id": "3c4ab71ab147cf07"
   },
   "cell_type": "markdown",
   "source": [
    "## Global Field Affecting Ensemble"
   ],
   "id": "3c4ab71ab147cf07"
  },
  {
   "metadata": {
    "ExecuteTime": {
     "end_time": "2025-08-25T17:14:35.548426Z",
     "start_time": "2025-08-25T17:14:35.535148Z"
    },
    "id": "c65452f1fd8753dc"
   },
   "cell_type": "code",
   "source": [
    "\n",
    "from typing import Dict\n",
    "\n",
    "\n",
    "# Assumptions:\n",
    "# - class FieldStaticDynamicSystem has: field, system_global_field (optional), own_produced_global_field (optional), state_space, multi_step_field\n",
    "# - class Field supports: set_empty_field(), addField(Field), and is cloneable via copy.copy\n",
    "# - class Transform exists (FieldValue-level). If you already have an identity transform, you can pass it in.\n",
    "\n",
    "class IdentityTransform(Transform):\n",
    "    def apply(self, inp: \"FieldValue\", params: Optional[dict] = None) -> \"FieldValue\":\n",
    "        return inp\n",
    "\n",
    "class GlobalFieldAffectingEnsemble(Ensemble):\n",
    "    \"\"\"\n",
    "    For each destination system i:\n",
    "      base := current system_global_field (or field as fallback)\n",
    "      contributions := { map(H_j -> i) for all j != i if mapping exists (forward or inverse of reverse) }\n",
    "      new_global := base + Σ contributions\n",
    "    where H_j is own_produced_global_field or system_global_field (fallback: field).\n",
    "    Composition uses each Field's internal FieldValue compose via Field.addField.\n",
    "    \"\"\"\n",
    "    def __init__(\n",
    "        self,\n",
    "        systems: Dict[str, \"FieldStaticDynamicSystem\"],\n",
    "        correlation: \"ListOfCorrelatedGroups\",\n",
    "        mappings: \"MappingRegister\",\n",
    "        correlated_systems: Optional[Dict[frozenset[str], \"CorrelatedFieldDynamicSystem\"]] = None,\n",
    "        fields_transform: Optional[\"Transform\"] = None,  # applied inside mapping\n",
    "    ) -> None:\n",
    "        super().__init__(systems=systems, correlation=correlation, mappings=mappings, correlated_systems=correlated_systems)\n",
    "        self.fields_transform = fields_transform or IdentityTransform()\n",
    "\n",
    "    def _published_field(self, sys: \"FieldStaticDynamicSystem\") -> \"Field\":\n",
    "        Hj = getattr(sys, \"own_produced_global_field\", None)\n",
    "        if Hj is None:\n",
    "            Hj = getattr(sys, \"system_global_field\", None)\n",
    "        if Hj is None:\n",
    "            Hj = sys.field\n",
    "        return Hj\n",
    "\n",
    "    def _baseline_global(self, sys: \"FieldStaticDynamicSystem\") -> \"Field\":\n",
    "        base = getattr(sys, \"system_global_field\", None)\n",
    "        if base is None:\n",
    "            base = sys.field\n",
    "        return base\n",
    "\n",
    "    def _compute_mapped_globals(self) -> Dict[str, \"Field\"]:\n",
    "        # Snapshot publisher fields H_j\n",
    "        published: Dict[str, \"Field\"] = {name: self._published_field(sys) for name, sys in self.systems.items()}\n",
    "        new_globals: Dict[str, \"Field\"] = {}\n",
    "\n",
    "        # For each destination, gather contributions mapped from every other source\n",
    "        for dst_name, dst_sys in self.systems.items():\n",
    "            base = self._baseline_global(dst_sys)\n",
    "\n",
    "            # Start with a clean accumulator over dst space, include base first\n",
    "            acc = copy.copy(base)\n",
    "            try:\n",
    "                acc.set_empty_field()\n",
    "            except Exception:\n",
    "                pass\n",
    "            try:\n",
    "                acc.addField(base)\n",
    "            except Exception:\n",
    "                pass\n",
    "\n",
    "            for src_name, Hsrc in published.items():\n",
    "                if src_name == dst_name:\n",
    "                    continue\n",
    "                try:\n",
    "                    mapping = self.mappings.get(src_name, dst_name)  # forward or inverse-fallback\n",
    "                except KeyError:\n",
    "                    continue\n",
    "\n",
    "                # Prepare an empty output shell of the destination field type\n",
    "                out_shell = copy.copy(base)\n",
    "                try:\n",
    "                    out_shell.set_empty_field()\n",
    "                except Exception:\n",
    "                    pass\n",
    "\n",
    "                # Use your updated API: get_fields_mapping(field_in, field_out, fields_transform) -> Field_out\n",
    "                mapped = mapping.get_fields_mapping(\n",
    "                    field_in=Hsrc,\n",
    "                    field_out=out_shell,\n",
    "                    fields_transform=self.fields_transform,\n",
    "                )\n",
    "\n",
    "                # Accumulate using Field's internal compose via addField\n",
    "                acc.addField(mapped)\n",
    "\n",
    "            new_globals[dst_name] = acc\n",
    "\n",
    "        return new_globals\n"
   ],
   "id": "c65452f1fd8753dc",
   "outputs": [],
   "execution_count": null
  },
  {
   "cell_type": "markdown",
   "source": [
    "# Random Walker"
   ],
   "metadata": {
    "id": "a5wlEjCVe1-Y"
   },
   "id": "a5wlEjCVe1-Y"
  },
  {
   "cell_type": "markdown",
   "source": [
    "## States"
   ],
   "metadata": {
    "id": "wNf-PQkGKAzL"
   },
   "id": "wNf-PQkGKAzL"
  },
  {
   "cell_type": "code",
   "source": [
    "import math\n",
    "\n",
    "class VectorState(State):\n",
    "    \"\"\"\n",
    "    2D integer state. No intrinsic ops; can carry an optional operations instance.\n",
    "    \"\"\"\n",
    "    def __init__(self, x: int, y: int, ops: Optional[StateOperations[\"VectorState\"]] = None):\n",
    "        self.x = int(x)\n",
    "        self.y = int(y)\n",
    "        self.ops = ops  # optional, can be set later\n",
    "\n",
    "    def as_vector(self) -> np.ndarray:\n",
    "        return np.array([self.x, self.y], dtype=int)\n",
    "\n",
    "    def __hash__(self) -> int:\n",
    "        return hash((self.x, self.y))\n",
    "\n",
    "    def __eq__(self, other: VectorState) -> bool:\n",
    "        return isinstance(other, VectorState) and self.x == other.x and self.y == other.y\n",
    "\n",
    "    def __repr__(self) -> str:\n",
    "        return f\"VectorState({self.x}, {self.y})\"\n",
    "    def __str__(self):\n",
    "        return f\"VectorState<{self.x}, {self.y}>\"\n",
    "\n",
    "class Vector2Operations(StateOperations[VectorState]):\n",
    "    \"\"\"Concrete ops for 2D vectors: add, dot, angle.\"\"\"\n",
    "    def add(self, a: VectorState, b: VectorState) -> VectorState:\n",
    "        va, vb = a.as_vector(), b.as_vector()\n",
    "        s = va + vb\n",
    "        return VectorState(int(s[0]), int(s[1]), ops=a.ops or b.ops)\n",
    "\n",
    "    def dot(self, a: VectorState, b: VectorState) -> int:\n",
    "        va, vb = a.as_vector(), b.as_vector()\n",
    "        return int(np.dot(va, vb))\n",
    "\n",
    "    def angle_between(self, a: VectorState, b: VectorState) -> float:\n",
    "        \"\"\"Angle between vectors a and b at origin, in radians (0..pi).\"\"\"\n",
    "        va, vb = a.as_vector().astype(float), b.as_vector().astype(float)\n",
    "        na = np.linalg.norm(va)\n",
    "        nb = np.linalg.norm(vb)\n",
    "        if na == 0.0 or nb == 0.0:\n",
    "            return 0.0\n",
    "        cos_th = float(np.clip(np.dot(va, vb) / (na * nb), -1.0, 1.0))\n",
    "        return math.acos(cos_th)\n",
    "\n",
    "    def angle_from_origin(self, a: VectorState) -> float:\n",
    "        \"\"\"Polar angle of a with respect to x-axis, in radians (-pi..pi).\"\"\"\n",
    "        va = a.as_vector()\n",
    "        return math.atan2(float(va[1]), float(va[0]))"
   ],
   "metadata": {
    "id": "xXnPkW7Be45B",
    "ExecuteTime": {
     "end_time": "2025-08-25T17:14:35.578067Z",
     "start_time": "2025-08-25T17:14:35.565592Z"
    }
   },
   "id": "xXnPkW7Be45B",
   "outputs": [],
   "execution_count": null
  },
  {
   "cell_type": "code",
   "source": [
    "class Grid2DStateSpace(StatSpace[VectorState]):\n",
    "    \"\"\"\n",
    "    Finite 2D integer grid: x in [xmin, xmax], y in [ymin, ymax].\n",
    "    \"\"\"\n",
    "    def __init__(self, state: VectorState, x_bounds: Tuple[int, int]=None, y_bounds: Tuple[int, int]=None):\n",
    "        self._current: VectorState = state\n",
    "        self._states: Set[VectorState] = set()\n",
    "\n",
    "        if x_bounds is None and y_bounds is None:\n",
    "            # If no bounds are provided, the space should contain only the initial state.\n",
    "            self.build(states={self._current})\n",
    "        else:\n",
    "            # If bounds are provided, build the grid from the bounds.\n",
    "            self.build(x_bounds=x_bounds, y_bounds=y_bounds)\n",
    "\n",
    "        super().__init__(state, self._states)\n",
    "\n",
    "    def get_state(self) -> VectorState:\n",
    "        return self._current\n",
    "\n",
    "    def set_state(self, state: VectorState) -> None:\n",
    "        if state not in self._states:\n",
    "            raise ValueError(f\"State {state} not in space.\")\n",
    "        self._current = state\n",
    "\n",
    "    def build(\n",
    "        self,\n",
    "        *,\n",
    "        x_bounds: Optional[Tuple[int, int]] = None,\n",
    "        y_bounds: Optional[Tuple[int, int]] = None,\n",
    "        states: Optional[Iterable[VectorState]] = None,\n",
    "    ) -> None:\n",
    "        \"\"\"\n",
    "        Either build from bounds (inclusive) or from an explicit set of states.\n",
    "        \"\"\"\n",
    "\n",
    "        if states is not None:\n",
    "            self._states = set(states)\n",
    "            if self._current not in self._states:\n",
    "                # keep current inside space if possible; otherwise pick an arbitrary one\n",
    "                self._current = next(iter(self._states))\n",
    "            return\n",
    "\n",
    "        if x_bounds is not None and y_bounds is not None:\n",
    "            xmin, xmax = x_bounds\n",
    "            ymin, ymax = y_bounds\n",
    "            if xmin > xmax or ymin > ymax:\n",
    "                raise ValueError(\"Invalid bounds.\")\n",
    "            self._states = {VectorState(x, y) for x in range(xmin, xmax + 1) for y in range(ymin, ymax + 1)}\n",
    "            # adjust current if out of bounds\n",
    "            if self._current not in self._states:\n",
    "                cx = min(max(self._current.x, xmin), xmax)\n",
    "                cy = min(max(self._current.y, ymin), ymax)\n",
    "                self._current = VectorState(cx, cy)\n",
    "\n",
    "    def get_all_states(self) -> Set[VectorState]:\n",
    "        return self._states\n",
    "\n",
    "    def union_state_space(self, other: \"StatSpace[VectorState]\") -> \"Grid2DStateSpace\":\n",
    "        new_states = self._states | other.get_all_states()\n",
    "        # keep current if possible, else pick arbitrary\n",
    "        current = self._current if self._current in new_states else next(iter(new_states))\n",
    "        out = Grid2DStateSpace(current, (0, 0), (0, 0))\n",
    "        out.build(states=new_states)\n",
    "        return out\n",
    "\n",
    "    def intersection(self, other: \"StatSpace[VectorState]\") -> \"Grid2DStateSpace\":\n",
    "        new_states = self._states & other.get_all_states()\n",
    "        if not new_states:\n",
    "            # empty intersection; choose an arbitrary origin\n",
    "            current = VectorState(0, 0)\n",
    "        else:\n",
    "            current = self._current if self._current in new_states else next(iter(new_states))\n",
    "        out = Grid2DStateSpace(current, (0, 0), (0, 0))\n",
    "        out.build(states=new_states)\n",
    "        return out\n",
    "    def dimension(self) -> int:\n",
    "        return 2\n",
    "    def plotSpace(\n",
    "        self,\n",
    "        ax=None,\n",
    "        show: bool = True,\n",
    "        figsize: Tuple[int, int] = (5, 5),\n",
    "        state_marker_size: int = 20,\n",
    "        current_marker_size: int = 80,\n",
    "    ):\n",
    "        \"\"\"\n",
    "        Plot the 2D grid; mark the current state as a red dot.\n",
    "        Returns the matplotlib Axes.\n",
    "        \"\"\"\n",
    "        import matplotlib.pyplot as plt\n",
    "\n",
    "        xs = [s.x for s in self._states] if self._states else [self._current.x]\n",
    "        ys = [s.y for s in self._states] if self._states else [self._current.y]\n",
    "\n",
    "        if ax is None:\n",
    "            fig, ax = plt.subplots(figsize=figsize)\n",
    "\n",
    "        # Plot all states as light gray squares\n",
    "        if self._states:\n",
    "            ax.scatter(xs, ys, s=state_marker_size, marker=\"s\", alpha=0.4)\n",
    "\n",
    "        # Plot current state as a red circle\n",
    "        ax.scatter([self._current.x], [self._current.y], s=current_marker_size)\n",
    "\n",
    "        # Niceties: equal aspect and padded limits\n",
    "        ax.set_aspect(\"equal\", adjustable=\"box\")\n",
    "        pad = 0.5\n",
    "        ax.set_xlim(min(xs) - pad, max(xs) + pad)\n",
    "        ax.set_ylim(min(ys) - pad, max(ys) + pad)\n",
    "        ax.set_xlabel(\"x\")\n",
    "        ax.set_ylabel(\"y\")\n",
    "        ax.set_title(f\"Grid2DStateSpace (dim={self.dimension()})\")\n",
    "\n",
    "        if show:\n",
    "            plt.show()\n",
    "\n",
    "        return ax\n",
    "\n",
    "    def build_from_states(\n",
    "        self,\n",
    "        states: Set[VectorState],\n",
    "        current: Optional[VectorState] = None\n",
    "    ) -> None:\n",
    "        \"\"\"\n",
    "        Replace this space with `states`. If `current` is provided, set it;\n",
    "        otherwise keep the existing current if still valid, else pick any from `states`.\n",
    "        \"\"\"\n",
    "        self._states = set(states)\n",
    "\n",
    "        if current is not None:\n",
    "            # If you prefer strictness, uncomment to enforce membership:\n",
    "            # if current not in self._states and self._states:\n",
    "            #     raise ValueError(\"Current must belong to the provided states.\")\n",
    "            if current in self._states or not self._states:\n",
    "                self._current = current\n",
    "            else:\n",
    "                # fallback: pick any valid state if the provided current isn't in the set\n",
    "                self._current = next(iter(self._states))\n",
    "        else:\n",
    "            if self._current not in self._states:\n",
    "                if self._states:\n",
    "                    self._current = next(iter(self._states))\n",
    "                # else: leave _current as-is (empty state set)\n",
    "\n",
    "    def union(self, other: \"StatSpace[VectorState]\") -> \"Grid2DStateSpace\":\n",
    "        new_states = set(self._states) | set(other.get_all_states())\n",
    "\n",
    "        if new_states:\n",
    "            # prefer self.current if available, else other's current, else any\n",
    "            candidates = [self._current]\n",
    "            try:\n",
    "                candidates.append(other.get_state())\n",
    "            except Exception:\n",
    "                pass\n",
    "            cur = next((c for c in candidates if c in new_states), next(iter(new_states)))\n",
    "        else:\n",
    "            # empty union: keep current as-is (or choose origin if you prefer)\n",
    "            cur = self._current\n",
    "\n",
    "        out = Grid2DStateSpace(cur, (0, 0), (0, 0))\n",
    "        out.build_from_states(new_states, current=cur)\n",
    "        return out\n",
    "\n",
    "class ChebyshevReachable(Reachable[VectorState]):\n",
    "    \"\"\"\n",
    "    Reachable set = { s' in space | max(|dx|,|dy|) == d } from current state.\n",
    "    \"\"\"\n",
    "    def __init__(self, d: int = 1):\n",
    "        super().__init__()\n",
    "        if d < 0:\n",
    "            raise ValueError(\"Chebyshev distance d must be >= 0\")\n",
    "        self.d = d\n",
    "\n",
    "    def get_reachable(self, space:Grid2DStateSpace, state: VectorState) -> Grid2DStateSpace:\n",
    "        # exact Chebyshev ring of radius d around `state`, restricted to `space`\n",
    "        candidates: Set[VectorState] = set()\n",
    "        x0, y0 = state.x, state.y\n",
    "        d = self.d\n",
    "\n",
    "        if d == 0:\n",
    "            # only the current state (if inside the space)\n",
    "            if state in space.get_all_states():\n",
    "                candidates.add(state)\n",
    "        else:\n",
    "            if space is not None:\n",
    "                allowed = space.get_all_states()\n",
    "                for dx in range(-d, d + 1):\n",
    "                    for dy in range(-d, d + 1):\n",
    "                        if max(abs(dx), abs(dy)) == d:\n",
    "                            s = VectorState(x0 + dx, y0 + dy)\n",
    "                            if s in allowed:\n",
    "                                candidates.add(s)\n",
    "            else:\n",
    "                for dx in range(-d, d + 1):\n",
    "                    for dy in range(-d, d + 1):\n",
    "                        if max(abs(dx), abs(dy)) == d:\n",
    "                            s = VectorState(x0 + dx, y0 + dy)\n",
    "                            candidates.add(s)\n",
    "\n",
    "        # Build a finite space from these candidates\n",
    "        out = Grid2DStateSpace(state, (0, 0), (0, 0))  # dummy bounds; we'll overwrite with explicit states\n",
    "        out.build(states=candidates)\n",
    "        return out\n",
    "\n",
    "    def union_state_space(self, other: \"StatSpace[VectorState]\") -> \"Grid2DStateSpace\":\n",
    "        return self.union(other)\n",
    "# assumes these already exist in your codebase:\n",
    "# - VectorState(x:int, y:int)\n",
    "# - StatSpace[VectorState] with get_all_states(), set_state(), build(states=...)\n",
    "# - Grid2DStateSpace(current: VectorState, x_bounds, y_bounds)\n",
    "# - abstract Reaching base class you showed\n",
    "\n",
    "class ChebyshevReaching(Reaching[\"VectorState\"]):\n",
    "    \"\"\"\n",
    "    Reaching set under Chebyshev moves of exact radius d:\n",
    "    R^{-1}_d(target) = { s : max(|sx - tx|, |sy - ty|) == d } ∩ Space.\n",
    "    Does NOT rely on the Reachable helper; computed directly.\n",
    "    \"\"\"\n",
    "    def __init__(self, d: int = 1,checbyShevsReachable : ChebyshevReachable = None):\n",
    "        if d < 0:\n",
    "            raise ValueError(\"Chebyshev distance d must be >= 0\")\n",
    "        super().__init__(params={\"d\": d}, reachable=checbyShevsReachable)\n",
    "        self.d = d\n",
    "\n",
    "\n",
    "    def get_reaching(self, state: \"VectorState\", space: \"Grid2DStateSpace\") -> \"Grid2DStateSpace\":\n",
    "        allowed: Set[\"VectorState\"] = space.get_all_states()\n",
    "        x0, y0 = state.x, state.y\n",
    "        d = self.d\n",
    "\n",
    "        ring: Set[\"VectorState\"] = set()\n",
    "        if d == 0:\n",
    "            if state in allowed:\n",
    "                ring.add(state)\n",
    "        else:\n",
    "            for dx in range(-d, d + 1):\n",
    "                for dy in range(-d, d + 1):\n",
    "                    if max(abs(dx), abs(dy)) == d:\n",
    "                        cand = VectorState(x0 + dx, y0 + dy)\n",
    "                        if cand in allowed:\n",
    "                            ring.add(cand)\n",
    "\n",
    "        # Materialize a finite state space from these candidates\n",
    "        out = Grid2DStateSpace(state, (0, 0), (0, 0))  # dummy, will overwrite with explicit states\n",
    "        out.build(states=ring)\n",
    "        if state in ring:\n",
    "            out.set_state(state)  # keep target as current if present\n",
    "        return out\n",
    "\n"
   ],
   "metadata": {
    "id": "rYPJS1I0fDlj",
    "ExecuteTime": {
     "end_time": "2025-08-25T17:14:35.625819Z",
     "start_time": "2025-08-25T17:14:35.591063Z"
    }
   },
   "id": "rYPJS1I0fDlj",
   "outputs": [],
   "execution_count": null
  },
  {
   "cell_type": "markdown",
   "source": [
    "## Fields"
   ],
   "metadata": {
    "id": "_xNf0mVCKJ1r"
   },
   "id": "_xNf0mVCKJ1r"
  },
  {
   "cell_type": "code",
   "source": [
    "class RealSingleFieldValue(SingleFieldValue):\n",
    "    \"\"\"\n",
    "    Scalar real as a tensor (0-D ndarray). Always stored as float64.\n",
    "    \"\"\"\n",
    "    def __init__(self, value: float):\n",
    "        self._data = np.array(float(value), dtype=np.float64)\n",
    "\n",
    "    def get_data(self) -> np.ndarray:\n",
    "        return self._data\n",
    "\n",
    "    def __repr__(self) -> str:\n",
    "        return f\"RealSingleFieldValue({float(self._data)})\"\n",
    "\n",
    "class RealAbsNormTransform(Transform):\n",
    "    \"\"\"\n",
    "    Norm(x) = |x| (returns a RealFieldValue holding abs(value)).\n",
    "    \"\"\"\n",
    "    def apply(self, inp: \"FieldValue\", params: Optional[dict] = None) -> \"FieldValue\":\n",
    "        x = float(inp.single.get_data())\n",
    "        return RealFieldValue(abs(x))\n",
    "\n",
    "class RealAddition(Composition):\n",
    "    \"\"\"\n",
    "    a ⊕ b = a + b on reals (operates on SingleFieldValue level).\n",
    "    \"\"\"\n",
    "    def compose(self, a: SingleFieldValue, b: SingleFieldValue, params: Optional[dict] = None) -> SingleFieldValue:\n",
    "        av = float(a.get_data())\n",
    "        bv = float(b.get_data())\n",
    "        return RealSingleFieldValue(av + bv)\n",
    "\n",
    "\n",
    "class WalkerField(Field):\n",
    "    \"\"\"\n",
    "    Real-valued field over a Grid2DStateSpace for the random walker.\n",
    "    Composition is addition; unit value is 0.0.\n",
    "    \"\"\"\n",
    "    def __init__(self, state_space: \"Grid2DStateSpace\",unit: Optional[RealFieldValue] = None):\n",
    "        self.norm_transform = RealAbsNormTransform()\n",
    "        self.addition=RealAddition()\n",
    "        self._unit: RealFieldValue = unit if unit is not None else RealFieldValue(0,self.norm_transform)\n",
    "        self._values: Dict[VectorState, RealFieldValue] = {}\n",
    "        super().__init__(state_space, self._unit)\n",
    "\n",
    "    # --- core API ---\n",
    "    def get_field(self, state: VectorState) -> RealFieldValue:\n",
    "        \"\"\"Return value at `state`; unit (0.0) if not set.\"\"\"\n",
    "        return self._values.get(state, self._unit)\n",
    "\n",
    "    def set_field(self, state: VectorState, value: RealFieldValue) -> None:\n",
    "        if state not in self.state_space.get_all_states():\n",
    "            raise ValueError(f\"State {state} not in field's state space.\")\n",
    "        self._values[state] = value\n",
    "\n",
    "    def set_empty_field(self) -> None:\n",
    "        \"\"\"Fill field with unit value (0.0) over entire state space.\"\"\"\n",
    "        self._values = {s: self._unit for s in self.state_space.get_all_states()}\n",
    "\n",
    "    def add_field(self, other: \"WalkerField\") -> None:\n",
    "        \"\"\"\n",
    "        Pointwise add `other` into self on the intersection of state spaces.\n",
    "        \"\"\"\n",
    "        if not isinstance(other, WalkerField):\n",
    "            raise TypeError(\"add_field expects a WalkerField.\")\n",
    "        add = RealAddition()\n",
    "        common = self.state_space.get_all_states() & other.state_space.get_all_states()\n",
    "        # ensure we have defaults in place\n",
    "        if not self._values:\n",
    "            self.set_empty_field()\n",
    "        for s in common:\n",
    "            a = self.get_field(s).single\n",
    "            b = other.get_field(s).single\n",
    "            summed_single = add.compose(a, b)\n",
    "            self._values[s] = RealFieldValue(float(summed_single.get_data()))\n",
    "\n",
    "    # --- helpers ---\n",
    "    def as_dict(self) -> Dict[VectorState, float]:\n",
    "        \"\"\"Convenience: export as plain numbers.\"\"\"\n",
    "        return {s: float(v.single.get_data()) for s, v in self._values.items()}\n",
    "\n",
    "    def __repr__(self) -> str:\n",
    "        return f\"WalkerField(size={len(self._values)}/{len(self.state_space.get_all_states())})\"\n",
    "\n",
    "    def plot_heatmap(\n",
    "        self,\n",
    "        ax=None,\n",
    "        show: bool = True,\n",
    "        figsize: tuple[int, int] = (6, 6),\n",
    "        with_colorbar: bool = True,\n",
    "        vmin: float | None = None,\n",
    "        vmax: float | None = None,\n",
    "        mark_current: bool = True,\n",
    "        state_marker_size: int = 70,\n",
    "        title: str | None = None,\n",
    "    ):\n",
    "        \"\"\"\n",
    "        Plot the field over the state space as a heat map.\n",
    "        Assumes real, non-negative values (e.g., probabilities, intensities).\n",
    "\n",
    "        Returns (ax, im) where `im` is the image handle from imshow.\n",
    "        \"\"\"\n",
    "        import numpy as np\n",
    "        import matplotlib.pyplot as plt\n",
    "\n",
    "        states = self.state_space.get_all_states()\n",
    "        if not states:\n",
    "            raise ValueError(\"State space is empty; nothing to plot.\")\n",
    "\n",
    "        xs = [s.x for s in states]\n",
    "        ys = [s.y for s in states]\n",
    "        xmin, xmax = min(xs), max(xs)\n",
    "        ymin, ymax = min(ys), max(ys)\n",
    "\n",
    "        # Build a dense array over bounding box; fill with values for states, NaN otherwise\n",
    "        arr = np.full((ymax - ymin + 1, xmax - xmin + 1), np.nan, dtype=float)\n",
    "        for s in states:\n",
    "            v = float(self.get_field(s).data.get_data() )\n",
    "            arr[s.y - ymin, s.x - xmin] = v\n",
    "\n",
    "        if ax is None:\n",
    "            fig, ax = plt.subplots(figsize=figsize)\n",
    "\n",
    "        im = ax.imshow(\n",
    "            arr,\n",
    "            origin=\"lower\",\n",
    "            interpolation=\"nearest\",\n",
    "            extent=(xmin - 0.5, xmax + 0.5, ymin - 0.5, ymax + 0.5),\n",
    "            vmin=vmin,\n",
    "            vmax=vmax,\n",
    "        )\n",
    "\n",
    "        if with_colorbar:\n",
    "            plt.colorbar(im, ax=ax)\n",
    "\n",
    "        if mark_current:\n",
    "            cur = self.state_space.get_state()\n",
    "            ax.scatter([cur.x], [cur.y], s=state_marker_size)\n",
    "\n",
    "        ax.set_xlabel(\"x\")\n",
    "        ax.set_ylabel(\"y\")\n",
    "        ax.set_aspect(\"equal\", adjustable=\"box\")\n",
    "        ax.set_title(title or \"WalkerField heat map\")\n",
    "\n",
    "        if show:\n",
    "            plt.show()\n",
    "\n",
    "        return ax, im\n"
   ],
   "metadata": {
    "id": "F55jviCYKL6b",
    "ExecuteTime": {
     "end_time": "2025-08-25T17:14:35.666108Z",
     "start_time": "2025-08-25T17:14:35.644188Z"
    }
   },
   "id": "F55jviCYKL6b",
   "outputs": [],
   "execution_count": null
  },
  {
   "cell_type": "markdown",
   "source": [
    "## Single step Field"
   ],
   "metadata": {
    "id": "j01ksbV5QUZj"
   },
   "id": "j01ksbV5QUZj"
  },
  {
   "cell_type": "code",
   "source": [
    "class WalkerUnitKernel(Kernel[\"VectorState\"]):\n",
    "    \"\"\"\n",
    "    Constant kernel: K(s, current) = 1.0 for all s.\n",
    "    \"\"\"\n",
    "    def get_kernel_value(self, state: \"VectorState\", current_state: \"VectorState\") -> \"RealFieldValue\":\n",
    "        return RealFieldValue(1.0)\n",
    "\n",
    "class KernelFieldMultiply(KernelFieldComposition):\n",
    "    \"\"\"\n",
    "    Compose by multiplication on the scalar (SingleFieldValue) level.\n",
    "    \"\"\"\n",
    "    def compose(self, input1: \"RealSingleFieldValue\", input2: \"RealSingleFieldValue\") -> \"RealSingleFieldValue\":\n",
    "        a = float(input1.get_data())\n",
    "        b = float(input2.get_data())\n",
    "        return RealSingleFieldValue(a * b)"
   ],
   "metadata": {
    "id": "dEjdLj6RQXrS",
    "ExecuteTime": {
     "end_time": "2025-08-25T17:14:35.685250Z",
     "start_time": "2025-08-25T17:14:35.678644Z"
    }
   },
   "id": "dEjdLj6RQXrS",
   "outputs": [],
   "execution_count": null
  },
  {
   "cell_type": "markdown",
   "source": [
    "## Single Step Field Builder"
   ],
   "metadata": {
    "id": "jSF_AAN5Uzy_"
   },
   "id": "jSF_AAN5Uzy_"
  },
  {
   "cell_type": "code",
   "source": [
    "class WalkerSingleStepField(SingleStepField[\"VectorState\"]):\n",
    "    def __init__(\n",
    "        self,\n",
    "        reachable: ChebyshevReachable = None,\n",
    "        kernel: WalkerUnitKernel = None,\n",
    "        kernelFieldComposition: KernelFieldMultiply = None,\n",
    "    ):\n",
    "        super().__init__(\n",
    "            kernel=WalkerUnitKernel(),\n",
    "            reachable=ChebyshevReachable(d=1),\n",
    "            kernelFieldComposition= KernelFieldMultiply(),\n",
    "        )\n",
    "\n",
    "    def build_single_step_field(\n",
    "        self,\n",
    "        state_space: \"StatSpace[VectorState]\",\n",
    "        current_state: \"VectorState\",\n",
    "        system_field: \"WalkerField\",\n",
    "        q_field: Optional[\"WalkerField\"] = None,   # ignored for walker\n",
    "    ) -> \"WalkerField\":\n",
    "        # 1) reachable subspace (support both (space,state) and (state))\n",
    "        try:\n",
    "            reachable_space = self.reachable.get_reachable(state_space, current_state)  # preferred\n",
    "        except TypeError:\n",
    "            reachable_space = self.reachable.get_reachable(current_state)               # fallback\n",
    "\n",
    "        # 2) output field over reachable subspace\n",
    "        out_field = WalkerField(reachable_space)\n",
    "        out_field.set_empty_field()\n",
    "\n",
    "        # 3) per-state: K * F_sys ; default F_sys(s)=1.0 if not explicitly set\n",
    "        for s in reachable_space.get_all_states():\n",
    "            k_val = self.kernel.get_kernel_value(s, current_state)  # RealFieldValue(1.0) by default\n",
    "\n",
    "            if hasattr(system_field, \"_values\") and s in system_field._values:\n",
    "                f_val = system_field.get_field(s)\n",
    "            else:\n",
    "                f_val = RealFieldValue(1.0)\n",
    "\n",
    "            composed_single = self.kernelFieldComposition.compose(k_val.data, f_val.data)\n",
    "            out_field.set_field(s,composed_single)\n",
    "            out_field.set_field(s, RealFieldValue(float(composed_single.get_data())))\n",
    "\n",
    "        return out_field\n"
   ],
   "metadata": {
    "id": "TopEoIl4U3Pj",
    "ExecuteTime": {
     "end_time": "2025-08-25T17:14:35.710320Z",
     "start_time": "2025-08-25T17:14:35.701079Z"
    }
   },
   "id": "TopEoIl4U3Pj",
   "outputs": [],
   "execution_count": null
  },
  {
   "cell_type": "markdown",
   "source": [
    "## Multi Step Reaching"
   ],
   "metadata": {
    "id": "e_UE_30CoX-k"
   },
   "id": "e_UE_30CoX-k"
  },
  {
   "cell_type": "code",
   "source": [
    "import copy\n",
    "from typing import Set\n",
    "\n",
    "# assumes: VectorState, StatSpace, Grid2DStateSpace\n",
    "#          Reachable[VectorState], ChebyshevReachable\n",
    "#          MultiStepReaching[VectorState] base exists\n",
    "\n",
    "\n",
    "class WalkerMultiStepReaching(MultiStepReaching[\"VectorState\"]):\n",
    "    def __init__(self,reachable: \"Reachable[VectorState]\",d_per_step: int = 1,):\n",
    "        super().__init__(ChebyshevReachable(d=d_per_step))\n",
    "\n",
    "    # --- override to ensure (state_space, state) is passed to reachable ---\n",
    "    def get_reaching(\n",
    "        self,\n",
    "        initial_state: \"VectorState\",\n",
    "        l: int,\n",
    "        prototype_space: \"StatSpace[VectorState]\",\n",
    "    ) -> \"StatSpace[VectorState]\":\n",
    "        current_states: Set[\"VectorState\"] = {initial_state}\n",
    "        for _ in range(max(0, l)):\n",
    "            next_states: Set[\"VectorState\"] = set()\n",
    "            for s in current_states:\n",
    "                rspace = self.reachable.get_reachable(prototype_space, s)  # pass space here\n",
    "                next_states.update(rspace.get_all_states())\n",
    "            current_states = next_states\n",
    "\n",
    "        cur = initial_state if initial_state in current_states else (next(iter(current_states)) if current_states else initial_state)\n",
    "        out = copy.copy(prototype_space)\n",
    "        out.build_from_states(states=current_states, current=cur)\n",
    "        return out\n"
   ],
   "metadata": {
    "id": "NEHX3Yp1obB3",
    "ExecuteTime": {
     "end_time": "2025-08-25T17:14:35.738698Z",
     "start_time": "2025-08-25T17:14:35.730090Z"
    }
   },
   "id": "NEHX3Yp1obB3",
   "outputs": [],
   "execution_count": null
  },
  {
   "metadata": {
    "id": "5472cfd0aa6d0d40"
   },
   "cell_type": "markdown",
   "source": [
    "## MultiStepfield"
   ],
   "id": "5472cfd0aa6d0d40"
  },
  {
   "cell_type": "code",
   "source": [
    "## Multi Step Field\n",
    "from __future__ import annotations\n",
    "from abc import ABC, abstractmethod\n",
    "from typing import Generic, TypeVar, Optional, Set\n",
    "\n",
    "class RealAddFieldValue(Composition):\n",
    "    def compose(self, a: \"FieldValue\", b: \"FieldValue\", params: Optional[dict] = None) -> \"FieldValue\":\n",
    "        av = float(a.data.get_data())\n",
    "        bv = float(b.data.get_data())\n",
    "        return RealFieldValue(av + bv)\n",
    "\n",
    "class RealMultiplyFieldValue(Composition):\n",
    "    def compose(self, a: \"FieldValue\", b: \"FieldValue\", params: Optional[dict] = None) -> \"FieldValue\":\n",
    "        av = float(a.data.get_data())\n",
    "        bv = float(b.data.get_data())\n",
    "        return RealFieldValue(av * bv)\n",
    "\n",
    "class IdentityValueTransform(Transform):\n",
    "    def apply(self, inp: \"FieldValue\", params: Optional[dict] = None) -> \"FieldValue\":\n",
    "        return inp  # identity\n",
    "\n",
    "class IdentityTransformField(TransformField[S]):\n",
    "    def __init__(self, transform: Optional[Transform] = None):\n",
    "        super().__init__(IdentityValueTransform())\n",
    "        # no need to override apply(); parent applies per-state using self.transform\n",
    "\n",
    "\n",
    "class WalkerIntrinsicComposer(ComposeField[S]):\n",
    "    \"\"\"Pointwise multiply (intrinsic).\"\"\"\n",
    "    def __init__(self, returnField: \"Field[S]\"):\n",
    "        super().__init__(composer=RealMultiplyFieldValue(), returnField=returnField)\n",
    "        # parent .apply() composes over the union and writes into returnField\n",
    "\n",
    "\n",
    "class WalkerExtrinsicComposer(ComposeField[S]):\n",
    "    \"\"\"Pointwise add (extrinsic).\"\"\"\n",
    "    def __init__(self, returnField: \"Field[S]\"):\n",
    "        super().__init__(composer=RealAddFieldValue(), returnField=returnField)\n",
    "\n",
    "class WalkerMultiStepField(MultiStepField[\"VectorState\"]):\n",
    "    \"\"\"\n",
    "    Random-walker MultiStepField:\n",
    "      - reachable: Chebyshev ring (e.g., d=1) via WalkerReachable\n",
    "      - single_step: WalkerSingleStepField\n",
    "      - intrinsic_composer: multiply (WalkerIntrinsicComposer)\n",
    "      - extrinsic_composer: add (WalkerExtrinsicComposer)\n",
    "      - all transforms are identity\n",
    "    \"\"\"\n",
    "\n",
    "    def __init__(\n",
    "        self,\n",
    "        reachable: ChebyshevReachable | None = None,\n",
    "        single_step: WalkerSingleStepField | None = None,\n",
    "        intrinsic_composer: WalkerIntrinsicComposer | None = None,\n",
    "        extrinsic_composer: WalkerExtrinsicComposer | None = None,\n",
    "        global_field_transform: IdentityTransformField | None = None,\n",
    "        single_step_transform:IdentityTransformField | None = None,\n",
    "        multi_step_transform:IdentityTransformField | None = None,\n",
    "    ):\n",
    "        super().__init__(\n",
    "            reachable= ChebyshevReachable(d=1),            # Chebyshev 1-step\n",
    "            single_step=single_step or WalkerSingleStepField(),     # walker builder\n",
    "            intrinsic_composer=intrinsic_composer or WalkerIntrinsicComposer(),\n",
    "            extrinsic_composer=extrinsic_composer or WalkerExtrinsicComposer(),\n",
    "            global_field_transform=global_field_transform or IdentityTransformField(),\n",
    "            single_step_transform=single_step_transform or IdentityTransformField(),\n",
    "            multi_step_transform=multi_step_transform or IdentityTransformField(),\n",
    "        )\n",
    "\n",
    "    def build_next_reaching_state_space(\n",
    "        self,\n",
    "        initial_state: VectorState,\n",
    "        prev_reaching_space: Grid2DStateSpace\n",
    "    ) -> Grid2DStateSpace:\n",
    "        \"\"\"\n",
    "        Build the l-th reaching state space using the previous one or from scratch.\n",
    "        \"\"\"\n",
    "        if prev_reaching_space is None:\n",
    "            prev_reaching_space = self.reachable.get_reachable(None,initial_state)\n",
    "        else:\n",
    "            for s in prev_reaching_space.get_all_states():\n",
    "                reachable_for_state = self.reachable.get_reachable(None,s)\n",
    "                reachingset = reachable_for_state.get_all_states()\n",
    "                previoustSet = prev_reaching_space.get_all_states()\n",
    "                new_reaching  = reachingset.union(previoustSet)\n",
    "                prev_reaching_space.build_from_states(new_reaching,initial_state)\n",
    "        return prev_reaching_space\n",
    "\n",
    "    def generate_multi_step_field(\n",
    "        self,\n",
    "        space: \"Grid2DStateSpace\",\n",
    "        start: \"VectorState\",\n",
    "        l: int,\n",
    "        single_transformed_field: \"WalkerField\",\n",
    "        single_step_transformed_field: \"WalkerField\",\n",
    "        system_field: \"WalkerField\",\n",
    "        system_global_field: \"WalkerField\",\n",
    "    ) -> \"WalkerField\":\n",
    "        # accumulator over all steps\n",
    "        reachaingSpace=Grid2DStateSpace(start)\n",
    "        for i in range(0,l):\n",
    "            #print(\"At step: \",i)\n",
    "            for s in reachaingSpace.get_all_states():\n",
    "                #print(f\"Reaching of state {s}-->\")\n",
    "                for k in self.reachable.get_reachable(None,s).get_all_states():\n",
    "                    system_field.set_field(k,RealAddFieldValue().compose(RealFieldValue(1),system_field.get_field(k)))\n",
    "                   # print(f\"At state {k} the field value is {system_field.get_field(s).data.get_data()}\")\n",
    "            reachaingSpace = self.build_next_reaching_state_space(start,reachaingSpace)\n",
    "        return system_field\n",
    "\n"
   ],
   "metadata": {
    "id": "46mIK_Ts3aRc",
    "ExecuteTime": {
     "end_time": "2025-08-25T17:14:35.771679Z",
     "start_time": "2025-08-25T17:14:35.754223Z"
    }
   },
   "id": "46mIK_Ts3aRc",
   "outputs": [],
   "execution_count": null
  },
  {
   "metadata": {
    "id": "958d26f9787a754e"
   },
   "cell_type": "markdown",
   "source": [
    "## Operator"
   ],
   "id": "958d26f9787a754e"
  },
  {
   "metadata": {
    "ExecuteTime": {
     "end_time": "2025-08-25T17:14:35.795806Z",
     "start_time": "2025-08-25T17:14:35.784333Z"
    },
    "id": "202f156b7f18a290"
   },
   "cell_type": "code",
   "source": [
    "\n",
    "from typing import Generic, TypeVar, List, Optional\n",
    "import numpy as np\n",
    "\n",
    "S = TypeVar(\"S\")\n",
    "\n",
    "class WalkerProbabilisticOperator(Operator[\"VectorState\"], Generic[S]):\n",
    "    def __init__(self, rng: Optional[np.random.Generator] = None, eps: float = 1e-12):\n",
    "        self.rng = rng or np.random.default_rng()\n",
    "        self.eps = float(eps)\n",
    "\n",
    "    def _probs_from_field(self, space: \"Grid2DStateSpace\", field: \"WalkerField\") -> tuple[list[\"VectorState\"], np.ndarray]:\n",
    "        states = list(space.get_all_states())\n",
    "        if not states:\n",
    "            return [], np.array([], dtype=float)\n",
    "\n",
    "        w = []\n",
    "        for s in states:\n",
    "            v = float(field.get_field(s).data.get_data())\n",
    "            if not np.isfinite(v) or v < 0.0:\n",
    "                v = 0.0\n",
    "            w.append(v)\n",
    "        w = np.asarray(w, dtype=float)\n",
    "        total = float(w.sum())\n",
    "        if total <= self.eps:\n",
    "            # fallback: degenerate at current state (or uniform if you prefer)\n",
    "            cur = space.get_state()\n",
    "            w = np.zeros_like(w)\n",
    "            try:\n",
    "                idx = states.index(cur)\n",
    "                w[idx] = 1.0\n",
    "            except ValueError:\n",
    "                w[:] = 1.0 / len(w)\n",
    "            return states, w\n",
    "        return states, w / total\n",
    "\n",
    "    def get_next_state(self, space: \"Grid2DStateSpace\", field: \"WalkerField\") -> \"VectorState\":\n",
    "        # field is assumed to already encode the l-step weights (caller decides what l means)\n",
    "        states, p = self._probs_from_field(space, field)\n",
    "        if len(states) == 0:\n",
    "            raise ValueError(\"Empty state space.\")\n",
    "        choice_idx = int(self.rng.choice(len(states), p=p))\n",
    "        return states[choice_idx]\n",
    "\n",
    "    def apply(self, space: \"Grid2DStateSpace\", field: \"WalkerField\", history: List[\"VectorState\"]) -> None:\n",
    "        nxt = self.get_next_state(space, field)\n",
    "        space.set_state(nxt)\n",
    "        field.set_empty_field()\n",
    "        field.set_field(nxt, RealFieldValue(1.0))\n",
    "        history.append(nxt)\n"
   ],
   "id": "202f156b7f18a290",
   "outputs": [],
   "execution_count": null
  },
  {
   "metadata": {
    "id": "456d73299b80700c"
   },
   "cell_type": "markdown",
   "source": [
    "## FDS for Random walker"
   ],
   "id": "456d73299b80700c"
  },
  {
   "metadata": {
    "ExecuteTime": {
     "end_time": "2025-08-25T17:14:35.824105Z",
     "start_time": "2025-08-25T17:14:35.813884Z"
    },
    "id": "753a63ea1d4d0565"
   },
   "cell_type": "code",
   "source": [
    "class RandomWalkFieldDynamicSystem(FieldDynamicSystem):\n",
    "    def __init__(self,X_limit : integer, Y_limit: integer,rwReachable: ChebyshevReachable, rwReaching: ChebyshevReaching, rwGlobalField: WalkerField, rwOperator: WalkerProbabilisticOperator,transistionList: List[VectorState]=None):\n",
    "        self.X_limit = X_limit\n",
    "        self.Y_limit = Y_limit\n",
    "        stateSpace = Grid2DStateSpace(VectorState(0,0),(-X_limit,X_limit),(-Y_limit,Y_limit))\n",
    "        rwField=WalkerField(stateSpace)\n",
    "        rwSingleStep =   WalkerSingleStepField(rwReachable,WalkerUnitKernel(),KernelFieldMultiply())\n",
    "        transition_list=[]\n",
    "        self.rwMultiStepReaching = WalkerMultiStepReaching(rwReachable)\n",
    "        rwMultiStepField = WalkerMultiStepField(rwReachable,rwSingleStep,WalkerIntrinsicComposer(WalkerField(stateSpace)),WalkerExtrinsicComposer(WalkerField(stateSpace)),\n",
    "                                        IdentityTransformField(),IdentityTransformField(),IdentityTransformField()\n",
    "                                        )\n",
    "        if rwGlobalField is None :\n",
    "            rwGlobalField = WalkerField(stateSpace,RealFieldValue(1,RealAbsNormTransform()))\n",
    "        rwsOwnProducedField=copy.deepcopy(rwGlobalField)\n",
    "        super().__init__(stateSpace,rwField,rwMultiStepField,\n",
    "                         rwReachable, rwReaching,rwOperator,transition_list,rwGlobalField,rwsOwnProducedField)\n",
    "        self.rwmultiStepField = WalkerField(Grid2DStateSpace(VectorState(0,0)))\n",
    "\n",
    "\n",
    "    def multi_step_field_generator(self,steps: integer, plot=True):\n",
    "\n",
    "        rwmultiStepFieldl =  self.multi_step_field.generate_multi_step_field(self.state_space ,self.state_space.get_state(),steps ,WalkerField(copy.deepcopy(self.state_space)),WalkerField(copy.deepcopy(self.state_space)),self.field,self.global_field)\n",
    "        if plot:\n",
    "            if isinstance(rwmultiStepFieldl,WalkerField):\n",
    "                rwmultiStepFieldl.plot_heatmap()\n",
    "        return rwmultiStepFieldl\n",
    "\n",
    "    def evolve(self,steps:integer):\n",
    "        self.rwmultiStepField = self.multi_step_field_generator(steps,plot=False)\n",
    "        self.operator.apply(self.state_space,self.field,self.transition_list)\n",
    "\n"
   ],
   "id": "753a63ea1d4d0565",
   "outputs": [],
   "execution_count": null
  },
  {
   "cell_type": "markdown",
   "source": [
    "## Application\n"
   ],
   "metadata": {
    "id": "SjAX2UXDKMp1"
   },
   "id": "SjAX2UXDKMp1"
  },
  {
   "metadata": {
    "ExecuteTime": {
     "end_time": "2025-08-25T17:14:35.877841Z",
     "start_time": "2025-08-25T17:14:35.836801Z"
    },
    "id": "eb350e1ce85d0dde"
   },
   "cell_type": "code",
   "source": [
    "RandomWalkerFDS=RandomWalkFieldDynamicSystem(25,25,ChebyshevReachable(),ChebyshevReaching,None,WalkerProbabilisticOperator())"
   ],
   "id": "eb350e1ce85d0dde",
   "outputs": [],
   "execution_count": null
  },
  {
   "metadata": {
    "ExecuteTime": {
     "end_time": "2025-08-25T17:14:37.349788Z",
     "start_time": "2025-08-25T17:14:35.898589Z"
    },
    "colab": {
     "base_uri": "https://localhost:8080/",
     "height": 524
    },
    "id": "b55f996309e4e3b6",
    "outputId": "c04f7a89-db7a-488a-a132-151e152df5e9"
   },
   "cell_type": "code",
   "source": [
    "RandomWalkerFDS.multi_step_field_generator(15)"
   ],
   "id": "b55f996309e4e3b6",
   "outputs": [
    {
     "output_type": "display_data",
     "data": {
      "text/plain": [
       "<Figure size 600x600 with 2 Axes>"
      ],
      "image/png": "[encoded data removed]"
     },
     "metadata": {}
    },
    {
     "output_type": "execute_result",
     "data": {
      "text/plain": [
       "WalkerField(size=961/2601)"
      ]
     },
     "metadata": {},
     "execution_count": 303
    }
   ],
   "execution_count": null
  },
  {
   "metadata": {
    "ExecuteTime": {
     "end_time": "2025-08-25T17:14:37.489865Z",
     "start_time": "2025-08-25T17:14:37.405073Z"
    },
    "colab": {
     "base_uri": "https://localhost:8080/"
    },
    "id": "a19563f7d341f7ad",
    "outputId": "d03b8956-7289-4135-acba-4c5c883162ad"
   },
   "cell_type": "code",
   "source": [
    "RandomWalkerFDS.evolve(4)\n",
    "RandomWalkerFDS.transition_list"
   ],
   "id": "a19563f7d341f7ad",
   "outputs": [
    {
     "output_type": "execute_result",
     "data": {
      "text/plain": [
       "[VectorState(-1, 0)]"
      ]
     },
     "metadata": {},
     "execution_count": 304
    }
   ],
   "execution_count": null
  },
  {
   "metadata": {
    "ExecuteTime": {
     "end_time": "2025-08-25T17:14:37.712394Z",
     "start_time": "2025-08-25T17:14:37.527156Z"
    },
    "colab": {
     "base_uri": "https://localhost:8080/",
     "height": 504
    },
    "id": "e05a2130c6b9d0f2",
    "outputId": "8bea35c6-76be-4054-898b-218357bae78f"
   },
   "cell_type": "code",
   "source": [
    "RandomWalkerFDS.state_space.plotSpace()"
   ],
   "id": "e05a2130c6b9d0f2",
   "outputs": [
    {
     "output_type": "display_data",
     "data": {
      "text/plain": [
       "<Figure size 500x500 with 1 Axes>"
      ],
      "image/png": "[encoded data removed]"
     },
     "metadata": {}
    },
    {
     "output_type": "execute_result",
     "data": {
      "text/plain": [
       "<Axes: title={'center': 'Grid2DStateSpace (dim=2)'}, xlabel='x', ylabel='y'>"
      ]
     },
     "metadata": {},
     "execution_count": 305
    }
   ],
   "execution_count": null
  },
  {
   "metadata": {
    "id": "9e4b7f0ee86d9c82"
   },
   "cell_type": "markdown",
   "source": [
    "# 6 FOLD SYMMETRY WALKER"
   ],
   "id": "9e4b7f0ee86d9c82"
  },
  {
   "metadata": {
    "id": "93b0aa1106a85176"
   },
   "cell_type": "markdown",
   "source": [
    "## Real Walker"
   ],
   "id": "93b0aa1106a85176"
  },
  {
   "metadata": {
    "id": "f288971d93391624"
   },
   "cell_type": "markdown",
   "source": [
    "### State"
   ],
   "id": "f288971d93391624"
  },
  {
   "metadata": {
    "ExecuteTime": {
     "end_time": "2025-08-25T17:14:37.769472Z",
     "start_time": "2025-08-25T17:14:37.755301Z"
    },
    "id": "da197c22c6754be2"
   },
   "cell_type": "code",
   "source": [
    "from typing import Union\n",
    "from dataclasses import dataclass\n",
    "\n",
    "\"\"\"Defining a 2D vector\"\"\"\n",
    "\n",
    "\n",
    "\n",
    "\n",
    "@dataclass(frozen=True, slots=True)\n",
    "class GridState(State):\n",
    "    \"\"\"\n",
    "    Immutable 2D integer-lattice state.\n",
    "    Only basic vector ops live here to avoid entanglement with utilities.\n",
    "    \"\"\"\n",
    "\n",
    "    x: int\n",
    "    y: int\n",
    "\n",
    "    def __post_init__(self) -> None:\n",
    "        # normalize to ints (handles numpy scalars / float-integrals)\n",
    "        object.__setattr__(self, \"x\", int(self.x))\n",
    "        object.__setattr__(self, \"y\", int(self.y))\n",
    "\n",
    "\n",
    "    def as_vector(self) -> Tuple[int, int]:\n",
    "         return (self.x, self.y)\n",
    "\n",
    "\n",
    "    # convenience\n",
    "    def to_tuple(self) -> Tuple[int, int]:\n",
    "        return (self.x, self.y)\n",
    "\n",
    "    @classmethod\n",
    "    def from_pair(cls, p: tuple) -> \"GridState\":\n",
    "        t = p\n",
    "        if len(t) != 2:\n",
    "            raise ValueError(f\"Expected length-2 pair, got {t!r}\")\n",
    "        return cls(int(t[0]), int(t[1]))\n",
    "\n",
    "    def add(self,anotherState: GridState) -> GridState:\n",
    "        return GridState(self.x+anotherState.x,self.y+anotherState.y)\n",
    "\n",
    "    def subtract(self,anotherState: GridState) -> GridState:\n",
    "        return GridState(self.x-anotherState.x,self.y-anotherState.y)\n",
    "\n",
    "    # sugar (optional)\n",
    "    def __add__(self, other: Union[\"GridState\", Tuple[int, int]]) -> \"GridState\":\n",
    "        return self.add(other)\n",
    "\n",
    "    def __sub__(self, other: Union[\"GridState\", Tuple[int, int]]) -> \"GridState\":\n",
    "        return self.subtract(other)\n",
    "\n",
    "    @property\n",
    "    def dim(self) -> int:\n",
    "        return 2\n",
    "\n",
    "    def __iter__(self):\n",
    "        yield self.x\n",
    "        yield self.y\n"
   ],
   "id": "da197c22c6754be2",
   "outputs": [],
   "execution_count": null
  },
  {
   "metadata": {
    "id": "c62e655007513bb7"
   },
   "cell_type": "markdown",
   "source": [
    "### State operations for Distance"
   ],
   "id": "c62e655007513bb7"
  },
  {
   "metadata": {
    "ExecuteTime": {
     "end_time": "2025-08-25T17:14:37.794137Z",
     "start_time": "2025-08-25T17:14:37.786905Z"
    },
    "id": "24f86ac0cfc1be6e"
   },
   "cell_type": "code",
   "source": [
    "class EuclideanDistance(StateOperations):\n",
    "    \"\"\"√((x1-x2)^2 + (y1-y2)^2)\"\"\"\n",
    "    def apply(self, a: GridState, b: GridState) -> float:\n",
    "        ax, ay = a.as_vector()\n",
    "        bx, by = b.as_vector()\n",
    "        return math.hypot(ax - bx, ay - by)\n",
    "\n",
    "class ChebyshevDistance(StateOperations):\n",
    "    \"\"\"max(|x1-x2|, |y1-y2|)\"\"\"\n",
    "    def apply(self, a: GridState, b: GridState) -> int:\n",
    "        ax, ay = a.as_vector()\n",
    "        bx, by = b.as_vector()\n",
    "        return max(abs(ax - bx), abs(ay - by))"
   ],
   "id": "24f86ac0cfc1be6e",
   "outputs": [],
   "execution_count": null
  },
  {
   "metadata": {
    "id": "83d55b76b90761c0"
   },
   "cell_type": "markdown",
   "source": [
    "### 6 fold state space"
   ],
   "id": "83d55b76b90761c0"
  },
  {
   "metadata": {
    "ExecuteTime": {
     "end_time": "2025-08-25T17:14:37.837134Z",
     "start_time": "2025-08-25T17:14:37.806893Z"
    },
    "id": "f70deea2a2565418"
   },
   "cell_type": "code",
   "source": [
    "class SixFoldLattice(StatSpace[GridState]):\n",
    "    \"\"\"\n",
    "    Six-fold (hex/triangular) lattice on **axial integer coordinates** (q, r).\n",
    "\n",
    "    States are GridState(q, r) with axial bounds:\n",
    "      q ∈ [-X_l, X_l],  r ∈ [-Y_l, Y_l]  (inclusive)\n",
    "\n",
    "    Conforms to the provided StatSpace API. Uses a simple __init__ + super().\n",
    "    \"\"\"\n",
    "\n",
    "    def __init__(\n",
    "        self,\n",
    "        X_l: int,\n",
    "        Y_l: int,\n",
    "        initial_state: GridState = None,\n",
    "        set_of_states: Optional[Set[GridState]] = None,\n",
    "    ) -> None:\n",
    "        self.X_l = int(X_l)\n",
    "        self.Y_l = int(Y_l)\n",
    "        if self.X_l < 0 or self.Y_l < 0:\n",
    "            raise ValueError(\"X_l and Y_l must be ≥ 0\")\n",
    "\n",
    "        if initial_state is None:\n",
    "            initial_state = GridState(0, 0)\n",
    "\n",
    "        # Base class init manages current state and optional external set\n",
    "        super().__init__(initial_state=initial_state, set_of_states = None )\n",
    "\n",
    "        # Build full rectangular-axial lattice by default\n",
    "        self._states: Set[GridState] = set()\n",
    "        self.build()\n",
    "\n",
    "        # If an explicit set is provided, adopt it (and tighten bounds)\n",
    "        if set_of_states is not None:\n",
    "            self.build_from_states(set_of_states, current=initial_state)\n",
    "\n",
    "        if not self.contains(self.get_state()):\n",
    "            raise ValueError(\"initial_state must be within the lattice bounds\")\n",
    "\n",
    "    # ---------- StatSpace interface ----------\n",
    "    def get_all_states(self) -> Set[GridState]:\n",
    "        return set(self._states)\n",
    "\n",
    "    def dimension(self) -> int:\n",
    "        return 2\n",
    "\n",
    "    def build(self, *args, **kwargs) -> None:\n",
    "        \"\"\"(Re)build states from current X_l, Y_l bounds.\"\"\"\n",
    "        states: Set[GridState] = set()\n",
    "        for q in range(-self.X_l, self.X_l + 1):\n",
    "            for r in range(-self.Y_l, self.Y_l + 1):\n",
    "                states.add(GridState(q, r))\n",
    "        self._states = states\n",
    "\n",
    "    def build_from_states(self, states: Set[GridState], current: Optional[GridState] = None) -> None:\n",
    "        if not states:\n",
    "            raise ValueError(\"states set cannot be empty\")\n",
    "        # Adopt tight bounds that cover the provided states\n",
    "        max_abs_q = max(abs(s.x) for s in states)\n",
    "        max_abs_r = max(abs(s.y) for s in states)\n",
    "        self.X_l = int(max_abs_q)\n",
    "        self.Y_l = int(max_abs_r)\n",
    "        self._states = set(states)\n",
    "        if current is not None:\n",
    "            if current not in self._states:\n",
    "                raise ValueError(\"provided current state is not in states\")\n",
    "            self.set_state(current)\n",
    "\n",
    "    # ---------- Additional lattice utilities ----------\n",
    "    @staticmethod\n",
    "    def hex_distance(a: GridState, b: GridState) -> int:\n",
    "        dq = a.x - b.x\n",
    "        dr = a.y - b.y\n",
    "        ds = -(dq + dr)\n",
    "        return (abs(dq) + abs(dr) + abs(ds)) // 2\n",
    "\n",
    "    def contains(self, s: GridState) -> bool:\n",
    "        return s in self._states\n",
    "\n",
    "    def neighbors(self, s: GridState, radius: int = 1, allow_stationary: bool = False) -> List[GridState]:\n",
    "        if radius < 0:\n",
    "            raise ValueError(\"radius must be ≥ 0\")\n",
    "        if s not in self._states:\n",
    "            return []\n",
    "        out: List[GridState] = []\n",
    "        for cand in self._states:\n",
    "            d = self.hex_distance(s, cand)\n",
    "            if d == 0 and not allow_stationary:\n",
    "                continue\n",
    "            if d <= radius:\n",
    "                out.append(cand)\n",
    "        return out\n",
    "\n",
    "    def ring(self, s: GridState, k: int) -> List[GridState]:\n",
    "        if k < 0:\n",
    "            raise ValueError(\"k must be ≥ 0\")\n",
    "        return [c for c in self._states if self.hex_distance(s, c) == k]\n",
    "\n",
    "    def clamp(self, s: GridState) -> GridState:\n",
    "        # Clamp to rectangular axial bounds then snap to an in-bounds state\n",
    "        q = min(self.X_l, max(-self.X_l, s.x))\n",
    "        r = min(self.Y_l, max(-self.Y_l, s.y))\n",
    "        gs = GridState(q, r)\n",
    "        return gs if gs in self._states else self.get_state()\n",
    "\n",
    "    def to_cartesian(self, s: GridState, scale: float = 1.0) -> Tuple[float, float]:\n",
    "        q, r = s.x, s.y\n",
    "        x = (q + 0.5 * r) * scale\n",
    "        y = (math.sqrt(3) * 0.5 * r) * scale\n",
    "        return (x, y)\n",
    "\n",
    "    # ---------- Visualization ----------\n",
    "    def plot_state_space(\n",
    "        self,\n",
    "        scale: float = 1.0,\n",
    "        ax=None,\n",
    "        show: bool = True,\n",
    "        annotate_initial: bool = False,\n",
    "        point_kwargs: Optional[dict] = None,\n",
    "        init_kwargs: Optional[dict] = None,\n",
    "    ):\n",
    "        \"\"\"\n",
    "        Scatter-plot the lattice states using axial→Cartesian mapping.\n",
    "\n",
    "        Parameters\n",
    "        ----------\n",
    "        scale : float\n",
    "            Visual scaling for the hex coordinates (affects spacing only).\n",
    "        ax : matplotlib Axes or None\n",
    "            If None, creates a new figure/axes.\n",
    "        show : bool\n",
    "            If True, calls plt.show() at the end.\n",
    "        annotate_initial : bool\n",
    "            If True, writes a small label next to the initial/current state.\n",
    "        point_kwargs : dict\n",
    "            Extra kwargs for all lattice points (e.g., {'s': 15, 'alpha': 0.6}).\n",
    "        init_kwargs : dict\n",
    "            Extra kwargs for the initial/current state point.\n",
    "        \"\"\"\n",
    "        import matplotlib.pyplot as plt  # local import to keep dependency optional\n",
    "\n",
    "        if point_kwargs is None:\n",
    "            point_kwargs = {'s': 18, 'alpha': 0.6, 'linewidths': 0.0}\n",
    "        if init_kwargs is None:\n",
    "            init_kwargs = {'s': 64, 'color': 'blue', 'zorder': 3}\n",
    "\n",
    "        # Map all states\n",
    "        coords = [(s.x,s.y) for s in self._states]\n",
    "        xs, ys = zip(*coords) if coords else ([], [])\n",
    "\n",
    "        # Prepare axes\n",
    "        created_fig = False\n",
    "        if ax is None:\n",
    "            fig, ax = plt.subplots(figsize=(6, 6))\n",
    "            created_fig = True\n",
    "\n",
    "        # Plot all lattice sites (light gray points)\n",
    "        ax.scatter(xs, ys, c='#bbbbbb', **point_kwargs)\n",
    "\n",
    "        # Highlight initial/current state in blue\n",
    "        x0, y0 = (self.get_state().x,self.get_state().y)\n",
    "        ax.scatter([x0], [y0], **init_kwargs)\n",
    "        if annotate_initial:\n",
    "            ax.annotate('initial', (x0, y0), textcoords='offset points', xytext=(6, 6), fontsize=9)\n",
    "\n",
    "        ax.set_aspect('equal', adjustable='box')\n",
    "        ax.set_title(f\"SixFoldLattice: X_l={self.X_l}, Y_l={self.Y_l}\")\n",
    "        ax.set_xlabel('x (cartesian)')\n",
    "        ax.set_ylabel('y (cartesian)')\n",
    "        ax.grid(True, linestyle=':', linewidth=0.5, alpha=0.5)\n",
    "\n",
    "        if show and created_fig:\n",
    "            plt.show()\n",
    "        return ax\n",
    "\n",
    "    # ---------- Set operations returning NEW spaces ----------\n",
    "    def union_state_space(self, other: 'StatSpace[GridState]') -> 'SixFoldLattice':\n",
    "        union_states = set(self.get_all_states()).union(other.get_all_states())\n",
    "        if not union_states:\n",
    "            raise ValueError(\"union produced no states\")\n",
    "        # Compute tight bounds\n",
    "        max_abs_q = max(abs(s.x) for s in union_states)\n",
    "        max_abs_r = max(abs(s.y) for s in union_states)\n",
    "        init = self.get_state() if self.get_state() in union_states else next(iter(union_states))\n",
    "        new_space = SixFoldLattice(max_abs_q, max_abs_r, initial_state=init)\n",
    "        new_space.build_from_states(union_states, current=init)\n",
    "        return new_space\n",
    "\n",
    "    def intersection(self, other: 'StatSpace[GridState]') -> 'SixFoldLattice':\n",
    "        inter_states = set(self.get_all_states()).intersection(other.get_all_states())\n",
    "        if not inter_states:\n",
    "            raise ValueError(\"intersection is empty\")\n",
    "        max_abs_q = max(abs(s.x) for s in inter_states)\n",
    "        max_abs_r = max(abs(s.y) for s in inter_states)\n",
    "        init = self.get_state() if self.get_state() in inter_states else next(iter(inter_states))\n",
    "        new_space = SixFoldLattice(max_abs_q, max_abs_r, initial_state=init)\n",
    "        new_space.build_from_states(inter_states, current=init)\n",
    "        return new_space"
   ],
   "id": "f70deea2a2565418",
   "outputs": [],
   "execution_count": null
  },
  {
   "metadata": {
    "ExecuteTime": {
     "end_time": "2025-08-25T17:14:37.855192Z",
     "start_time": "2025-08-25T17:14:37.849699Z"
    },
    "id": "445a28b40df36585"
   },
   "cell_type": "code",
   "source": [
    " L = SixFoldLattice(2, 2,GridState(1, 0))"
   ],
   "id": "445a28b40df36585",
   "outputs": [],
   "execution_count": null
  },
  {
   "metadata": {
    "ExecuteTime": {
     "end_time": "2025-08-25T17:14:38.091506Z",
     "start_time": "2025-08-25T17:14:37.872736Z"
    },
    "colab": {
     "base_uri": "https://localhost:8080/",
     "height": 581
    },
    "id": "63801c5d7133a123",
    "outputId": "c8e1ffeb-59df-4539-9bb4-b9c9d8a192b3"
   },
   "cell_type": "code",
   "source": [
    "L.plot_state_space()"
   ],
   "id": "63801c5d7133a123",
   "outputs": [
    {
     "output_type": "display_data",
     "data": {
      "text/plain": [
       "<Figure size 600x600 with 1 Axes>"
      ],
      "image/png": "[encoded data removed]"
     },
     "metadata": {}
    },
    {
     "output_type": "execute_result",
     "data": {
      "text/plain": [
       "<Axes: title={'center': 'SixFoldLattice: X_l=2, Y_l=2'}, xlabel='x (cartesian)', ylabel='y (cartesian)'>"
      ]
     },
     "metadata": {},
     "execution_count": 310
    }
   ],
   "execution_count": null
  },
  {
   "metadata": {
    "id": "39f9f5e0d18da97f"
   },
   "cell_type": "markdown",
   "source": [
    "### Cratesian State Space"
   ],
   "id": "39f9f5e0d18da97f"
  },
  {
   "metadata": {
    "ExecuteTime": {
     "end_time": "2025-08-25T17:14:38.162069Z",
     "start_time": "2025-08-25T17:14:38.128013Z"
    },
    "id": "b3fe05c2d493feb4"
   },
   "cell_type": "code",
   "source": [
    "class CartesianStateSpace(StatSpace[GridState]):\n",
    "    \"\"\"\n",
    "    A simple 2D Cartesian grid backed by `GridState` integers but parameterized\n",
    "    with **X_l, Y_l** like `SixFoldLattice`.\n",
    "\n",
    "    Real coordinates are represented on a uniform grid with step sizes\n",
    "    `(step_x, step_y)`. The valid real ranges are:\n",
    "        x ∈ [-X_l, X_l],  y ∈ [-Y_l, Y_l]\n",
    "    and we encode a real (x, y) as integers via fixed-point:\n",
    "        ix = round(x / step_x)  <=>  x ≈ ix * step_x\n",
    "        iy = round(y / step_y)  <=>  y ≈ iy * step_y\n",
    "\n",
    "    So the internal integer bounds are:\n",
    "        ix ∈ [-floor(X_l/step_x), +floor(X_l/step_x)]\n",
    "        iy ∈ [-floor(Y_l/step_y), +floor(Y_l/step_y)]\n",
    "    \"\"\"\n",
    "\n",
    "    def __init__(\n",
    "        self,\n",
    "        X_l: float,\n",
    "        Y_l: float,\n",
    "        step_x: float = 1.0,\n",
    "        step_y: float = 1.0,\n",
    "        initial_xy: Tuple[float, float] = None,\n",
    "        set_of_states: Optional[Set[GridState]] = None,\n",
    "    ) -> None:\n",
    "        if step_x <= 0 or step_y <= 0:\n",
    "            raise ValueError(\"step_x and step_y must be > 0\")\n",
    "        if X_l < 0 or Y_l < 0:\n",
    "            raise ValueError(\"X_l and Y_l must be ≥ 0\")\n",
    "\n",
    "        self.X_l = float(X_l)\n",
    "        self.Y_l = float(Y_l)\n",
    "        self.step_x = float(step_x)\n",
    "        self.step_y = float(step_y)\n",
    "        # fixed-point scales\n",
    "        self.scale_x = 1.0 / self.step_x\n",
    "        self.scale_y = 1.0 / self.step_y\n",
    "\n",
    "        # choose initial real point\n",
    "        if initial_xy is None:\n",
    "            initial_xy = (0.0, 0.0)\n",
    "        init_state = self.from_real(*initial_xy)\n",
    "\n",
    "        # base init manages current state\n",
    "        super().__init__(initial_state=init_state, set_of_states=None)\n",
    "\n",
    "        # build states from X_l, Y_l and step sizes\n",
    "        self._states: Set[GridState] = set()\n",
    "        self.build()\n",
    "\n",
    "        # optionally adopt provided set (already encoded)\n",
    "        if set_of_states is not None:\n",
    "            self.build_from_states(set_of_states, current=init_state)\n",
    "\n",
    "        if not self.contains(self.get_state()):\n",
    "            raise ValueError(\"initial state is out of bounds\")\n",
    "\n",
    "    # ---------- helpers: real/int mapping and bounds ----------\n",
    "    def _ix_bounds(self) -> Tuple[int, int]:\n",
    "        ix_lim = int(math.floor(self.X_l * self.scale_x))\n",
    "        return (-ix_lim, ix_lim)\n",
    "\n",
    "    def _iy_bounds(self) -> Tuple[int, int]:\n",
    "        iy_lim = int(math.floor(self.Y_l * self.scale_y))\n",
    "        return (-iy_lim, iy_lim)\n",
    "\n",
    "    def from_real(self, x: float, y: float) -> GridState:\n",
    "        ix = int(round(x * self.scale_x))\n",
    "        iy = int(round(y * self.scale_y))\n",
    "        return GridState(ix, iy)\n",
    "\n",
    "    def to_real(self, s: GridState) -> Tuple[float, float]:\n",
    "        return (s.x / self.scale_x, s.y / self.scale_y)\n",
    "\n",
    "    # ---------- StatSpace interface ----------\n",
    "    def build(self, *args, **kwargs) -> None:\n",
    "        states: Set[GridState] = set()\n",
    "        ix_min, ix_max = self._ix_bounds()\n",
    "        iy_min, iy_max = self._iy_bounds()\n",
    "        for ix in range(ix_min, ix_max + 1):\n",
    "            for iy in range(iy_min, iy_max + 1):\n",
    "                states.add(GridState(ix, iy))\n",
    "        self._states = states\n",
    "\n",
    "    def get_all_states(self) -> Set[GridState]:\n",
    "        return set(self._states)\n",
    "\n",
    "    def dimension(self) -> int:\n",
    "        return 2\n",
    "\n",
    "    def build_from_states(self, states: Set[GridState], current: Optional[GridState] = None) -> None:\n",
    "        if not states:\n",
    "            raise ValueError(\"states set cannot be empty\")\n",
    "        self._states = set(states)\n",
    "        # infer tight integer bounds then convert to real extents\n",
    "        xs = [abs(s.x) for s in self._states]\n",
    "        ys = [abs(s.y) for s in self._states]\n",
    "        self.X_l = max(xs) / self.scale_x if xs else 0.0\n",
    "        self.Y_l = max(ys) / self.scale_y if ys else 0.0\n",
    "        if current is not None:\n",
    "            if current not in self._states:\n",
    "                raise ValueError(\"provided current state is not in states\")\n",
    "            self.set_state(current)\n",
    "\n",
    "    # ---------- membership & neighbors ----------\n",
    "    def contains(self, s: GridState) -> bool:\n",
    "        return s in self._states\n",
    "\n",
    "    def contains_real(self, x: float, y: float) -> bool:\n",
    "        return self.from_real(x, y) in self._states\n",
    "\n",
    "    def neighbors(\n",
    "        self,\n",
    "        s: GridState,\n",
    "        radius: int = 1,\n",
    "        allow_stationary: bool = False,\n",
    "        connectivity: int = 4,\n",
    "    ) -> List[GridState]:\n",
    "        if radius < 0:\n",
    "            raise ValueError(\"radius must be ≥ 0\")\n",
    "        if s not in self._states:\n",
    "            return []\n",
    "        out: List[GridState] = []\n",
    "        ix0, iy0 = s.x, s.y\n",
    "        if radius == 0:\n",
    "            return [s] if allow_stationary else []\n",
    "        for dx in range(-radius, radius + 1):\n",
    "            for dy in range(-radius, radius + 1):\n",
    "                if dx == 0 and dy == 0 and not allow_stationary:\n",
    "                    continue\n",
    "                cand = GridState(ix0 + dx, iy0 + dy)\n",
    "                if cand not in self._states:\n",
    "                    continue\n",
    "                if connectivity == 4:\n",
    "                    if abs(dx) + abs(dy) <= radius:  # Manhattan ball\n",
    "                        out.append(cand)\n",
    "                elif connectivity == 8:\n",
    "                    if max(abs(dx), abs(dy)) <= radius:  # Chebyshev ball\n",
    "                        out.append(cand)\n",
    "                else:\n",
    "                    raise ValueError(\"connectivity must be 4 or 8\")\n",
    "        return out\n",
    "\n",
    "    def ring(self, s: GridState, k: int, connectivity: int = 4) -> List[GridState]:\n",
    "        if k < 0:\n",
    "            raise ValueError(\"k must be ≥ 0\")\n",
    "        out: List[GridState] = []\n",
    "        ix0, iy0 = s.x, s.y\n",
    "        for dx in range(-k, k + 1):\n",
    "            for dy in range(-k, k + 1):\n",
    "                cand = GridState(ix0 + dx, iy0 + dy)\n",
    "                if cand not in self._states:\n",
    "                    continue\n",
    "                if connectivity == 4 and (abs(dx) + abs(dy) == k):\n",
    "                    out.append(cand)\n",
    "                if connectivity == 8 and (max(abs(dx), abs(dy)) == k):\n",
    "                    out.append(cand)\n",
    "        return out\n",
    "\n",
    "    def clamp(self, s: GridState) -> GridState:\n",
    "        ix_min, ix_max = self._ix_bounds()\n",
    "        iy_min, iy_max = self._iy_bounds()\n",
    "        ix = min(ix_max, max(ix_min, s.x))\n",
    "        iy = min(iy_max, max(iy_min, s.y))\n",
    "        gs = GridState(ix, iy)\n",
    "        return gs if gs in self._states else self.get_state()\n",
    "\n",
    "    # ---------- visualization ----------\n",
    "    def plot_state_space(\n",
    "        self,\n",
    "        ax=None,\n",
    "        show: bool = True,\n",
    "        annotate_initial: bool = False,\n",
    "        point_kwargs: Optional[dict] = None,\n",
    "        init_kwargs: Optional[dict] = None,\n",
    "    ):\n",
    "        import matplotlib.pyplot as plt\n",
    "        if point_kwargs is None:\n",
    "            point_kwargs = {'s': 16, 'alpha': 0.6, 'linewidths': 0.0}\n",
    "        if init_kwargs is None:\n",
    "            init_kwargs = {'s': 64, 'color': 'blue', 'zorder': 3}\n",
    "        coords = [self.to_real(s) for s in self._states]\n",
    "        xs, ys = zip(*coords) if coords else ([], [])\n",
    "        created_fig = False\n",
    "        if ax is None:\n",
    "            fig, ax = plt.subplots(figsize=(6, 6))\n",
    "            created_fig = True\n",
    "        ax.scatter(xs, ys, c='#bbbbbb', **point_kwargs)\n",
    "        x0, y0 = self.to_real(self.get_state())\n",
    "        ax.scatter([x0], [y0], **init_kwargs)\n",
    "        if annotate_initial:\n",
    "            ax.annotate('initial', (x0, y0), textcoords='offset points', xytext=(6, 6), fontsize=9)\n",
    "        ax.set_aspect('equal', adjustable='box')\n",
    "        ax.set_title(\n",
    "            f\"CartesianStateSpace: X_l={self.X_l}, Y_l={self.Y_l}; step=({self.step_x},{self.step_y})\"\n",
    "        )\n",
    "        ax.set_xlabel('x')\n",
    "        ax.set_ylabel('y')\n",
    "        ax.grid(True, linestyle=':', linewidth=0.5, alpha=0.5)\n",
    "        if show and created_fig:\n",
    "            plt.show()\n",
    "        return ax\n",
    "\n",
    "    # ---------- set operations (require matching steps) ----------\n",
    "    def union_state_space(self, other: CartesianStateSpace) -> 'CartesianStateSpace':\n",
    "        if (self.step_x != other.step_x) or (self.step_y != other.step_y):\n",
    "            raise ValueError(\"step sizes must match for union\")\n",
    "        union_states = set(self.get_all_states()).union(other.get_all_states())\n",
    "        if not union_states:\n",
    "            raise ValueError(\"union produced no states\")\n",
    "        max_abs_ix = max(abs(s.x) for s in union_states)\n",
    "        max_abs_iy = max(abs(s.y) for s in union_states)\n",
    "        new_space = CartesianStateSpace(\n",
    "            X_l=max_abs_ix / self.scale_x,\n",
    "            Y_l=max_abs_iy / self.scale_y,\n",
    "            step_x=self.step_x,\n",
    "            step_y=self.step_y,\n",
    "            initial_xy=self.to_real(self.get_state()),\n",
    "        )\n",
    "        new_space.build_from_states(union_states, current=self.get_state())\n",
    "        return new_space\n",
    "\n",
    "    def intersection(self, other: 'CartesianStateSpace[GridState]') -> 'CartesianStateSpace':\n",
    "        if (self.step_x != other.step_x) or (self.step_y != other.step_y):\n",
    "            raise ValueError(\"step sizes must match for intersection\")\n",
    "        inter_states = set(self.get_all_states()).intersection(other.get_all_states())\n",
    "        if not inter_states:\n",
    "            raise ValueError(\"intersection is empty\")\n",
    "        max_abs_ix = max(abs(s.x) for s in inter_states)\n",
    "        max_abs_iy = max(abs(s.y) for s in inter_states)\n",
    "        init = self.get_state() if self.get_state() in inter_states else next(iter(inter_states))\n",
    "        new_space = CartesianStateSpace(\n",
    "            X_l=max_abs_ix / self.scale_x,\n",
    "            Y_l=max_abs_iy / self.scale_y,\n",
    "            step_x=self.step_x,\n",
    "            step_y=self.step_y,\n",
    "            initial_xy=self.to_real(init),\n",
    "        )\n",
    "        new_space.build_from_states(inter_states, current=init)\n",
    "        return new_space\n",
    "\n",
    "\n"
   ],
   "id": "b3fe05c2d493feb4",
   "outputs": [],
   "execution_count": null
  },
  {
   "metadata": {
    "ExecuteTime": {
     "end_time": "2025-08-25T17:14:38.252898Z",
     "start_time": "2025-08-25T17:14:38.173773Z"
    },
    "id": "f55c6d90efb117bd"
   },
   "cell_type": "code",
   "source": [
    "\n",
    " C = CartesianStateSpace(10,10,0.1,0.1,initial_xy=(0.0, 0.0))"
   ],
   "id": "f55c6d90efb117bd",
   "outputs": [],
   "execution_count": null
  },
  {
   "metadata": {
    "ExecuteTime": {
     "end_time": "2025-08-25T17:14:39.070938Z",
     "start_time": "2025-08-25T17:14:38.268577Z"
    },
    "colab": {
     "base_uri": "https://localhost:8080/",
     "height": 581
    },
    "id": "ca2daa836ed46890",
    "outputId": "f730f385-c43f-406e-cd7d-214da5c1fc90"
   },
   "cell_type": "code",
   "source": [
    "C.plot_state_space()"
   ],
   "id": "ca2daa836ed46890",
   "outputs": [
    {
     "output_type": "display_data",
     "data": {
      "text/plain": [
       "<Figure size 600x600 with 1 Axes>"
      ],
      "image/png": "[encoded data removed]"
     },
     "metadata": {}
    },
    {
     "output_type": "execute_result",
     "data": {
      "text/plain": [
       "<Axes: title={'center': 'CartesianStateSpace: X_l=10.0, Y_l=10.0; step=(0.1,0.1)'}, xlabel='x', ylabel='y'>"
      ]
     },
     "metadata": {},
     "execution_count": 313
    }
   ],
   "execution_count": null
  },
  {
   "metadata": {
    "id": "b359986441447837"
   },
   "cell_type": "markdown",
   "source": [
    "### State Space Mapping"
   ],
   "id": "b359986441447837"
  },
  {
   "metadata": {
    "id": "35904e3638c91cc3"
   },
   "cell_type": "markdown",
   "source": [
    "#### 6 fold Symmetric Lattice to Cartesian"
   ],
   "id": "35904e3638c91cc3"
  },
  {
   "metadata": {
    "ExecuteTime": {
     "end_time": "2025-08-25T17:14:39.139578Z",
     "start_time": "2025-08-25T17:14:39.131510Z"
    },
    "id": "5761bcfb0adf9f7b"
   },
   "cell_type": "code",
   "source": [
    "class LatticeToCartesian(StateSpaceMapping[GridState, GridState]):\n",
    "    \"\"\"\n",
    "    Map a **SixFoldLattice axial state** (q, r) to a **CartesianStateSpace**\n",
    "    state using the standard axial→Cartesian transform:\n",
    "\n",
    "        x = q + 0.5*r\n",
    "        y = (√3/2) * r\n",
    "\n",
    "    The result is encoded into the target `CartesianStateSpace` via its\n",
    "    fixed-point `from_real(x, y)` method. The returned space is the provided\n",
    "    `stateSpaceOut` narrowed to a singleton containing the mapped state.\n",
    "    \"\"\"\n",
    "\n",
    "    def __init__(self, scale: float = 1.0, mapping_reverse: Optional['StateSpaceMapping[GridState, GridState]'] = None) -> None:\n",
    "        super().__init__(mapping_reverse=mapping_reverse)\n",
    "        self.scale = float(scale)\n",
    "\n",
    "    def _axial_to_cartesian(self, q: int, r: int) -> Tuple[float, float]:\n",
    "        x = (q + 0.5 * r) * self.scale\n",
    "        y = (math.sqrt(3) * 0.5 * r) * self.scale\n",
    "        return (x, y)\n",
    "\n",
    "    def get_mapping(self, state_in: GridState, stateSpaceOut: CartesianStateSpace) -> CartesianStateSpace:\n",
    "        q, r = state_in.x, state_in.y\n",
    "        x, y = self._axial_to_cartesian(q, r)\n",
    "        mapped_state = stateSpaceOut.from_real(x, y)\n",
    "        # Replace contents of the provided space with the singleton {mapped_state}\n",
    "        stateSpaceOut.build_from_states({mapped_state}, current=mapped_state)\n",
    "        return stateSpaceOut\n"
   ],
   "id": "5761bcfb0adf9f7b",
   "outputs": [],
   "execution_count": null
  },
  {
   "metadata": {
    "ExecuteTime": {
     "end_time": "2025-08-25T17:14:39.159188Z",
     "start_time": "2025-08-25T17:14:39.154258Z"
    },
    "id": "33fd57f7e48ae17d"
   },
   "cell_type": "code",
   "source": [
    "mapper = LatticeToCartesian(1)"
   ],
   "id": "33fd57f7e48ae17d",
   "outputs": [],
   "execution_count": null
  },
  {
   "metadata": {
    "ExecuteTime": {
     "end_time": "2025-08-25T17:14:41.698640Z",
     "start_time": "2025-08-25T17:14:39.172024Z"
    },
    "id": "3b575ae921c2e504"
   },
   "cell_type": "code",
   "source": [
    "C = mapper.get_mapping_over_state_space(L,C)"
   ],
   "id": "3b575ae921c2e504",
   "outputs": [],
   "execution_count": null
  },
  {
   "metadata": {
    "ExecuteTime": {
     "end_time": "2025-08-25T17:14:41.922095Z",
     "start_time": "2025-08-25T17:14:41.728060Z"
    },
    "colab": {
     "base_uri": "https://localhost:8080/",
     "height": 383
    },
    "id": "fc44036b9dbca54f",
    "outputId": "157bfad8-f879-4d50-8f6c-78f2a06fdb14"
   },
   "cell_type": "code",
   "source": [
    "C.plot_state_space()"
   ],
   "id": "fc44036b9dbca54f",
   "outputs": [
    {
     "output_type": "display_data",
     "data": {
      "text/plain": [
       "<Figure size 600x600 with 1 Axes>"
      ],
      "image/png": "[encoded data removed]"
     },
     "metadata": {}
    },
    {
     "output_type": "execute_result",
     "data": {
      "text/plain": [
       "<Axes: title={'center': 'CartesianStateSpace: X_l=3.0, Y_l=1.7; step=(0.1,0.1)'}, xlabel='x', ylabel='y'>"
      ]
     },
     "metadata": {},
     "execution_count": 317
    }
   ],
   "execution_count": null
  },
  {
   "metadata": {
    "ExecuteTime": {
     "end_time": "2025-08-25T17:14:42.194201Z",
     "start_time": "2025-08-25T17:14:41.978339Z"
    },
    "colab": {
     "base_uri": "https://localhost:8080/",
     "height": 581
    },
    "id": "25cfcb87a3f87c9f",
    "outputId": "f0a10a8a-b680-4f87-a7fe-081eb4aaefd8"
   },
   "cell_type": "code",
   "source": [
    "L.plot_state_space()"
   ],
   "id": "25cfcb87a3f87c9f",
   "outputs": [
    {
     "output_type": "display_data",
     "data": {
      "text/plain": [
       "<Figure size 600x600 with 1 Axes>"
      ],
      "image/png": "[encoded data removed]"
     },
     "metadata": {}
    },
    {
     "output_type": "execute_result",
     "data": {
      "text/plain": [
       "<Axes: title={'center': 'SixFoldLattice: X_l=2, Y_l=2'}, xlabel='x (cartesian)', ylabel='y (cartesian)'>"
      ]
     },
     "metadata": {},
     "execution_count": 318
    }
   ],
   "execution_count": null
  },
  {
   "metadata": {
    "id": "3de5dcbedad97553"
   },
   "cell_type": "markdown",
   "source": [
    "#### Cartesian to 6 fold Symmetry"
   ],
   "id": "3de5dcbedad97553"
  },
  {
   "metadata": {
    "ExecuteTime": {
     "end_time": "2025-08-25T17:14:42.240372Z",
     "start_time": "2025-08-25T17:14:42.229347Z"
    },
    "id": "98ae3c1d9d141f2a"
   },
   "cell_type": "code",
   "source": [
    "class CartesianToLattice(StateSpaceMapping[GridState, GridState]):\n",
    "    def __init__(self, *, cart_source: 'CartesianStateSpace', scale: float = 1.0, mapping_reverse: Optional['StateSpaceMapping[GridState, GridState]'] = None) -> None:\n",
    "        super().__init__(mapping_reverse=mapping_reverse)\n",
    "        self.cart_source = cart_source\n",
    "        self.scale = float(scale)\n",
    "\n",
    "    @staticmethod\n",
    "    def _cube_round(qf: float, rf: float) -> Tuple[int, int]:\n",
    "        xf = qf\n",
    "        zf = rf\n",
    "        yf = -xf - zf\n",
    "        rx = round(xf)\n",
    "        ry = round(yf)\n",
    "        rz = round(zf)\n",
    "        x_diff = abs(rx - xf)\n",
    "        y_diff = abs(ry - yf)\n",
    "        z_diff = abs(rz - zf)\n",
    "        if x_diff > y_diff and x_diff > z_diff:\n",
    "            rx = -ry - rz\n",
    "        elif y_diff > z_diff:\n",
    "            ry = -rx - rz\n",
    "        else:\n",
    "            rz = -rx - ry\n",
    "        return int(rx), int(rz)\n",
    "\n",
    "    def _cartesian_to_axial_floats(self, x: float, y: float) -> Tuple[float, float]:\n",
    "        r_f = (2.0 / math.sqrt(3.0)) * (y / self.scale)\n",
    "        q_f = (x / self.scale) - 0.5 * r_f\n",
    "        return q_f, r_f\n",
    "\n",
    "    def get_mapping(self, state_in: GridState, stateSpaceOut: StatSpace) -> StatSpace[GridState]:\n",
    "        if not isinstance(stateSpaceOut, SixFoldLattice):\n",
    "            raise TypeError(\"CartesianToLattice expects a SixFoldLattice as output\")\n",
    "        x, y = self.cart_source.to_real(state_in)\n",
    "        qf, rf = self._cartesian_to_axial_floats(x, y)\n",
    "        q, r = self._cube_round(qf, rf)\n",
    "        mapped_state = GridState(q, r)\n",
    "        stateSpaceOut.build_from_states({mapped_state}, current=mapped_state)\n",
    "        return stateSpaceOut"
   ],
   "id": "98ae3c1d9d141f2a",
   "outputs": [],
   "execution_count": null
  },
  {
   "metadata": {
    "ExecuteTime": {
     "end_time": "2025-08-25T17:14:42.258706Z",
     "start_time": "2025-08-25T17:14:42.254111Z"
    },
    "id": "a330df8ba086a31b"
   },
   "cell_type": "code",
   "source": [
    "\n",
    "reverseMapper = CartesianToLattice(cart_source=C,scale=1)"
   ],
   "id": "a330df8ba086a31b",
   "outputs": [],
   "execution_count": null
  },
  {
   "metadata": {
    "ExecuteTime": {
     "end_time": "2025-08-25T17:14:42.877762Z",
     "start_time": "2025-08-25T17:14:42.271565Z"
    },
    "id": "751581442f729c35"
   },
   "cell_type": "code",
   "source": [
    "L = SixFoldLattice(2, 2,GridState(0, 0))\n",
    "C = CartesianStateSpace(10,10,0.1,0.1,initial_xy=(0.0, 0.0))\n",
    "\n",
    "L = reverseMapper.get_mapping_over_state_space(C,L)"
   ],
   "id": "751581442f729c35",
   "outputs": [],
   "execution_count": null
  },
  {
   "metadata": {
    "ExecuteTime": {
     "end_time": "2025-08-25T17:14:43.093507Z",
     "start_time": "2025-08-25T17:14:42.902712Z"
    },
    "colab": {
     "base_uri": "https://localhost:8080/",
     "height": 468
    },
    "id": "bc465c96a31ce2a0",
    "outputId": "1bc8f3fc-f077-4932-9987-f9a576522bfb"
   },
   "cell_type": "code",
   "source": [
    "L.plot_state_space()"
   ],
   "id": "bc465c96a31ce2a0",
   "outputs": [
    {
     "output_type": "display_data",
     "data": {
      "text/plain": [
       "<Figure size 600x600 with 1 Axes>"
      ],
      "image/png": "[encoded data removed]"
     },
     "metadata": {}
    },
    {
     "output_type": "execute_result",
     "data": {
      "text/plain": [
       "<Axes: title={'center': 'SixFoldLattice: X_l=16, Y_l=12'}, xlabel='x (cartesian)', ylabel='y (cartesian)'>"
      ]
     },
     "metadata": {},
     "execution_count": 322
    }
   ],
   "execution_count": null
  },
  {
   "metadata": {
    "ExecuteTime": {
     "end_time": "2025-08-25T17:14:44.341133Z",
     "start_time": "2025-08-25T17:14:43.152002Z"
    },
    "colab": {
     "base_uri": "https://localhost:8080/",
     "height": 581
    },
    "id": "e39b94a2328e4960",
    "outputId": "827ab992-c647-4a81-e3fb-670154ce6fa3"
   },
   "cell_type": "code",
   "source": [
    "C.plot_state_space()"
   ],
   "id": "e39b94a2328e4960",
   "outputs": [
    {
     "output_type": "display_data",
     "data": {
      "text/plain": [
       "<Figure size 600x600 with 1 Axes>"
      ],
      "image/png": "[encoded data removed]"
     },
     "metadata": {}
    },
    {
     "output_type": "execute_result",
     "data": {
      "text/plain": [
       "<Axes: title={'center': 'CartesianStateSpace: X_l=10.0, Y_l=10.0; step=(0.1,0.1)'}, xlabel='x', ylabel='y'>"
      ]
     },
     "metadata": {},
     "execution_count": 323
    }
   ],
   "execution_count": null
  },
  {
   "metadata": {
    "id": "8cd12660be7bce3b"
   },
   "cell_type": "markdown",
   "source": [
    "### Random Walker State"
   ],
   "id": "8cd12660be7bce3b"
  },
  {
   "metadata": {
    "id": "f68cda5327278747"
   },
   "cell_type": "markdown",
   "source": [
    "#### 6 Fold symmetric State"
   ],
   "id": "f68cda5327278747"
  },
  {
   "metadata": {
    "ExecuteTime": {
     "end_time": "2025-08-25T17:14:44.410735Z",
     "start_time": "2025-08-25T17:14:44.401118Z"
    },
    "id": "a183342ef16f96"
   },
   "cell_type": "code",
   "source": [
    "class SixFoldRandomWalkerState(State):\n",
    "    __slots__ = (\"position\", \"dir_idx\")\n",
    "    DIR_INDEX_TO_DELTA: Tuple[Tuple[int, int], ...] = (\n",
    "        (0, 0),\n",
    "        (0, 1),\n",
    "        (-1, 1),\n",
    "        (-1, 0),\n",
    "        (0, -1),\n",
    "        (1, -1),\n",
    "        (1, 0),\n",
    "    )\n",
    "    DELTA_TO_DIR_INDEX = {d: i for i, d in enumerate(DIR_INDEX_TO_DELTA)}\n",
    "\n",
    "    def __init__(self, position: GridState, direction: int = 0) -> None:\n",
    "        self.position = position\n",
    "        self.dir_idx = int(direction) % 7\n",
    "\n",
    "    def as_vector(self) -> Tuple[int, int]:\n",
    "        return self.position.as_vector()\n",
    "\n",
    "    def direction_delta(self) -> Tuple[int, int]:\n",
    "        return self.DIR_INDEX_TO_DELTA[self.dir_idx]\n",
    "\n",
    "    def next_position(self) -> GridState:\n",
    "        dq, dr = self.direction_delta()\n",
    "        return GridState(self.position.x + dq, self.position.y + dr)\n",
    "\n",
    "    def __eq__(self, other: SixFoldRandomWalkerState) -> bool:\n",
    "        if isinstance(other, SixFoldRandomWalkerState):\n",
    "            return self.position == other.position and self.dir_idx == other.dir_idx\n",
    "\n",
    "    def __hash__(self) -> int:\n",
    "        return hash((self.position, self.dir_idx))"
   ],
   "id": "a183342ef16f96",
   "outputs": [],
   "execution_count": null
  },
  {
   "metadata": {
    "id": "17ad400d42d93938"
   },
   "cell_type": "markdown",
   "source": [
    "#### Cartesian RandomWalker State"
   ],
   "id": "17ad400d42d93938"
  },
  {
   "metadata": {
    "ExecuteTime": {
     "end_time": "2025-08-25T17:14:44.430171Z",
     "start_time": "2025-08-25T17:14:44.422478Z"
    },
    "id": "114b24d72a118f1"
   },
   "cell_type": "code",
   "source": [
    "class CartesianRandomWalkerState(State):\n",
    "    __slots__ = (\"position\", \"direction\")\n",
    "    def __init__(self, position: GridState, direction: GridState) -> None:\n",
    "        if not isinstance(position, GridState):\n",
    "            raise TypeError(\"position must be GridState\")\n",
    "        if not isinstance(direction, GridState):\n",
    "            raise TypeError(\"direction must be GridState\")\n",
    "        self.position = position\n",
    "        self.direction = direction\n",
    "    def as_vector(self) -> Tuple[int, int]:\n",
    "        return self.position.as_vector()\n",
    "\n",
    "    def __hash__(self) -> int:\n",
    "        return hash((self.position, self.direction))\n",
    "\n",
    "    def __eq__(self, other: CartesianRandomWalkerState) -> bool:\n",
    "        if isinstance(other, CartesianRandomWalkerState):\n",
    "            return self.position == other.position and self.direction == other.direction\n",
    "    def direction_delta(self) -> Tuple[int, int]:\n",
    "        return self.DIR_INDEX_TO_DELTA[self.dir_idx]"
   ],
   "id": "114b24d72a118f1",
   "outputs": [],
   "execution_count": null
  },
  {
   "metadata": {
    "id": "7bdca0ed5ec972ca"
   },
   "cell_type": "markdown",
   "source": [
    "### Random Walker State Operations"
   ],
   "id": "7bdca0ed5ec972ca"
  },
  {
   "metadata": {
    "ExecuteTime": {
     "end_time": "2025-08-25T17:14:44.450477Z",
     "start_time": "2025-08-25T17:14:44.442948Z"
    },
    "id": "56c955a35ede5a0d"
   },
   "cell_type": "code",
   "source": [
    "class EuclideanDistanceRandomWalker(StateOperations):\n",
    "    def apply(self, a: SixFoldRandomWalkerState, b: SixFoldRandomWalkerState) -> float:\n",
    "        ax, ay = a.as_vector()\n",
    "        bx, by = b.as_vector()\n",
    "        return math.hypot(ax - bx, ay - by)\n",
    "\n",
    "class ChebyshevDistanceRandomWalker(StateOperations):\n",
    "    def apply(self, a: SixFoldRandomWalkerState, b: SixFoldRandomWalkerState) -> int:\n",
    "        ax, ay = a.as_vector()\n",
    "        bx, by = b.as_vector()\n",
    "        return max(abs(ax - bx), abs(ay - by))"
   ],
   "id": "56c955a35ede5a0d",
   "outputs": [],
   "execution_count": null
  },
  {
   "metadata": {
    "id": "595a4c5b7c223c66"
   },
   "cell_type": "markdown",
   "source": [
    "### 6 Fold Random Walker State Space"
   ],
   "id": "595a4c5b7c223c66"
  },
  {
   "metadata": {
    "ExecuteTime": {
     "end_time": "2025-08-25T17:14:44.484580Z",
     "start_time": "2025-08-25T17:14:44.464587Z"
    },
    "id": "fe1b247409f3b710"
   },
   "cell_type": "code",
   "source": [
    "class SixFoldRandomWalkerStateSpace(StatSpace[SixFoldRandomWalkerState]):\n",
    "    def __init__(\n",
    "        self,\n",
    "        X_l: int,\n",
    "        Y_l: int,\n",
    "        initial_state: SixFoldRandomWalkerState = None,\n",
    "        set_of_states: Optional[Set[SixFoldRandomWalkerState]] = None,\n",
    "    ) -> None:\n",
    "        self.X_l = int(X_l)\n",
    "        self.Y_l = int(Y_l)\n",
    "        if self.X_l < 0 or self.Y_l < 0:\n",
    "            raise ValueError(\"X_l and Y_l must be ≥ 0\")\n",
    "        if initial_state is None:\n",
    "            initial_state = SixFoldRandomWalkerState(GridState(0, 0), 0)\n",
    "        self._layers: Tuple[SixFoldLattice, ...] = tuple(\n",
    "            SixFoldLattice(self.X_l, self.Y_l, initial_state=initial_state.position)\n",
    "            for _ in range(7)\n",
    "        )\n",
    "        super().__init__(initial_state=initial_state, set_of_states=None)\n",
    "        self._states: Set[SixFoldRandomWalkerState] = set()\n",
    "        self.build()\n",
    "        if set_of_states is not None:\n",
    "            self.build_from_states(set_of_states, current=initial_state)\n",
    "        if not self.contains(initial_state):\n",
    "            raise ValueError(\"initial_state out of bounds\")\n",
    "\n",
    "    def build(self, *args, **kwargs) -> None:\n",
    "        base_positions = self._layers[0].get_all_states()\n",
    "        states: Set[SixFoldRandomWalkerState] = set()\n",
    "        for pos in base_positions:\n",
    "            for d in range(7):\n",
    "                states.add(SixFoldRandomWalkerState(pos, d))\n",
    "        self._states = states\n",
    "\n",
    "    def build_from_states(self, states: Set[SixFoldRandomWalkerState], current: Optional[SixFoldRandomWalkerState] = None) -> SixFoldRandomWalkerStateSpace:\n",
    "        if not states:\n",
    "            raise ValueError(\"states set cannot be empty\")\n",
    "        self._states = set(states)\n",
    "        xs = [abs(s.position.x) for s in self._states]\n",
    "        ys = [abs(s.position.y) for s in self._states]\n",
    "        self.X_l = max(xs) if xs else 0\n",
    "        self.Y_l = max(ys) if ys else 0\n",
    "        self._layers = tuple(SixFoldLattice(self.X_l, self.Y_l, initial_state=(current.position if current else GridState(0, 0))) for _ in range(7))\n",
    "        if current is not None:\n",
    "          self.set_state(current)\n",
    "        return self\n",
    "\n",
    "    def get_all_states(self) -> Set[SixFoldRandomWalkerState]:\n",
    "        return set(self._states)\n",
    "\n",
    "    def dimension(self) -> int:\n",
    "        return 2\n",
    "\n",
    "    def contains(self, s: SixFoldRandomWalkerState) -> bool:\n",
    "        return s in self._states\n",
    "\n",
    "    def union_state_space(self, other: 'StatSpace[SixFoldRandomWalkerState]') -> 'SixFoldRandomWalkerStateSpace':\n",
    "        if not isinstance(other, SixFoldRandomWalkerStateSpace):\n",
    "            raise TypeError(\"union_state_space requires another SixFoldRandomWalkerStateSpace\")\n",
    "        union_states = set(self.get_all_states()).union(other.get_all_states())\n",
    "        if not union_states:\n",
    "            raise ValueError(\"union produced no states\")\n",
    "        max_abs_q = max(abs(s.position.x) for s in union_states)\n",
    "        max_abs_r = max(abs(s.position.y) for s in union_states)\n",
    "        init = self.get_state() if self.get_state() in union_states else next(iter(union_states))\n",
    "        new_space = SixFoldRandomWalkerStateSpace(max_abs_q, max_abs_r, initial_state=init)\n",
    "        new_space.build_from_states(union_states, current=init)\n",
    "        return new_space\n",
    "\n",
    "    def intersection(self, other: 'StatSpace[SixFoldRandomWalkerState]') -> 'SixFoldRandomWalkerStateSpace':\n",
    "        if not isinstance(other, SixFoldRandomWalkerStateSpace):\n",
    "            raise TypeError(\"intersection requires another SixFoldRandomWalkerStateSpace\")\n",
    "        inter_states = set(self.get_all_states()).intersection(other.get_all_states())\n",
    "        if not inter_states:\n",
    "            raise ValueError(\"intersection is empty\")\n",
    "        max_abs_q = max(abs(s.position.x) for s in inter_states)\n",
    "        max_abs_r = max(abs(s.position.y) for s in inter_states)\n",
    "        init = self.get_state() if self.get_state() in inter_states else next(iter(inter_states))\n",
    "        new_space = SixFoldRandomWalkerStateSpace(max_abs_q, max_abs_r, initial_state=init)\n",
    "        new_space.build_from_states(inter_states, current=init)\n",
    "        return new_space\n",
    "\n",
    "    def plot_state_space(\n",
    "        self,\n",
    "        scale: float = 1.0,\n",
    "        ax=None,\n",
    "        show: bool = True,\n",
    "        annotate_initial: bool = False,\n",
    "        point_kwargs: Optional[dict] = None,\n",
    "        init_kwargs: Optional[dict] = None,\n",
    "    ):\n",
    "        import matplotlib.pyplot as plt\n",
    "        s0 = self.get_state()\n",
    "        base = SixFoldLattice(self.X_l, self.Y_l, initial_state=s0.position)\n",
    "        ax = base.plot_state_space(\n",
    "            scale=scale,\n",
    "            ax=ax,\n",
    "            show=False,\n",
    "            annotate_initial=annotate_initial,\n",
    "            point_kwargs=point_kwargs,\n",
    "            init_kwargs=init_kwargs,\n",
    "        )\n",
    "        head = s0.next_position()\n",
    "        if base.contains(head):\n",
    "            x0, y0 = (s0.position.x, s0.position.y)\n",
    "            x1, y1 = (head.x, head.y)\n",
    "            ax.annotate('', xy=(x1, y1), xytext=(x0, y0), arrowprops=dict(arrowstyle='->', lw=1.5, color='blue'))\n",
    "        if show:\n",
    "            plt.show()\n",
    "        return ax\n"
   ],
   "id": "fe1b247409f3b710",
   "outputs": [],
   "execution_count": null
  },
  {
   "metadata": {
    "ExecuteTime": {
     "end_time": "2025-08-25T17:14:44.706554Z",
     "start_time": "2025-08-25T17:14:44.500090Z"
    },
    "colab": {
     "base_uri": "https://localhost:8080/",
     "height": 581
    },
    "id": "9a14f32048d25960",
    "outputId": "af25de9e-004b-4081-97e6-fab34150b61d"
   },
   "cell_type": "code",
   "source": [
    "sex = SixFoldRandomWalkerStateSpace(2,2,SixFoldRandomWalkerState(GridState(0,0),6))\n",
    "sex.plot_state_space()"
   ],
   "id": "9a14f32048d25960",
   "outputs": [
    {
     "output_type": "display_data",
     "data": {
      "text/plain": [
       "<Figure size 600x600 with 1 Axes>"
      ],
      "image/png": "[encoded data removed]"
     },
     "metadata": {}
    },
    {
     "output_type": "execute_result",
     "data": {
      "text/plain": [
       "<Axes: title={'center': 'SixFoldLattice: X_l=2, Y_l=2'}, xlabel='x (cartesian)', ylabel='y (cartesian)'>"
      ]
     },
     "metadata": {},
     "execution_count": 343
    }
   ],
   "execution_count": null
  },
  {
   "metadata": {
    "id": "f9f1c4f98ea281d3"
   },
   "cell_type": "markdown",
   "source": [
    "### Cartesian Random Walker State Space"
   ],
   "id": "f9f1c4f98ea281d3"
  },
  {
   "metadata": {
    "ExecuteTime": {
     "end_time": "2025-08-25T17:38:30.480950Z",
     "start_time": "2025-08-25T17:38:30.442289Z"
    },
    "id": "3363a2efcde9b63d"
   },
   "cell_type": "code",
   "source": [
    "\n",
    "\n",
    "# expects:\n",
    "# from your_module import State, StatSpace, GridState, CartesianStateSpace\n",
    "\n",
    "_HEX_DIRS_AXIAL: Tuple[Tuple[int, int], ...] = (\n",
    "    (0, 0),\n",
    "    (0, 1),\n",
    "    (-1, 1),\n",
    "    (-1, 0),\n",
    "    (0, -1),\n",
    "    (1, -1),\n",
    "    (1, 0),\n",
    ")\n",
    "\n",
    "\n",
    "class CartesianRandomWalkerState(State):\n",
    "    __slots__ = (\"position\", \"dir_idx\")\n",
    "\n",
    "    def __init__(self, position: GridState, dir_idx: int = 0) -> None:\n",
    "        if not isinstance(position, GridState):\n",
    "            raise TypeError(\"position must be GridState\")\n",
    "        self.position = position\n",
    "        self.dir_idx = int(dir_idx) % 7\n",
    "\n",
    "    def as_vector(self) -> Tuple[int, int]:\n",
    "        return self.position.as_vector()\n",
    "\n",
    "    def __eq__(self, other: object) -> bool:\n",
    "        if isinstance(other, CartesianRandomWalkerState):\n",
    "            return self.position == other.position and self.dir_idx == other.dir_idx\n",
    "        return False\n",
    "\n",
    "    def __hash__(self) -> int:\n",
    "        return hash((self.position, self.dir_idx))\n",
    "\n",
    "\n",
    "class CartesianRandomWalkerStateSpace(StatSpace[CartesianRandomWalkerState]):\n",
    "    \"\"\"\n",
    "    Cartesian random-walker whose *positions* are exactly the image of an axial\n",
    "    hex lattice under the standard axial→Cartesian mapping:\n",
    "\n",
    "        x = (q + 0.5 r) * scale\n",
    "        y = (√3/2 r) * scale\n",
    "\n",
    "    The allowed directions are the 6 axial steps (plus stationary) mapped into\n",
    "    Cartesian index space. Plotting shows a hexagonal lattice (hex centers).\n",
    "    \"\"\"\n",
    "\n",
    "    def __init__(\n",
    "        self,\n",
    "        X_l: int,\n",
    "        Y_l: int,\n",
    "        initial_state: Optional[CartesianRandomWalkerState] = None,\n",
    "        *,\n",
    "        scale: float = 1.0,\n",
    "        step_x: float = None,\n",
    "        step_y: float = None,\n",
    "        set_of_states: Optional[Set[CartesianRandomWalkerState]] = None,\n",
    "    ) -> None:\n",
    "        self.X_l_axial = int(X_l)\n",
    "        self.Y_l_axial = int(Y_l)\n",
    "        if self.X_l_axial < 0 or self.Y_l_axial < 0:\n",
    "            raise ValueError(\"X_l and Y_l must be ≥ 0\")\n",
    "\n",
    "        # Default steps that align perfectly with the hex mapping\n",
    "        if step_x is None:\n",
    "            step_x = 0.5 * scale\n",
    "        if step_y is None:\n",
    "            step_y = (math.sqrt(3) / 2.0) * scale\n",
    "        self.scale = float(scale)\n",
    "\n",
    "        # Real extents that cover the mapped hex rectangle\n",
    "        X_l_real = (self.X_l_axial + 0.5 * self.Y_l_axial) * self.scale\n",
    "        Y_l_real = (math.sqrt(3) / 2.0) * self.Y_l_axial * self.scale\n",
    "\n",
    "        # Backing Cartesian grid (for fixed-point encoding and plotting)\n",
    "        self._base = CartesianStateSpace(\n",
    "            X_l=X_l_real, Y_l=Y_l_real, step_x=step_x, step_y=step_y, initial_xy=(0.0, 0.0)\n",
    "        )\n",
    "\n",
    "        # Precompute direction deltas in *index* space induced by axial steps\n",
    "        self._dir_ixiy: Tuple[Tuple[int, int], ...] = self._compute_hex_cartesian_deltas()\n",
    "\n",
    "        # Build mapped positions set\n",
    "        self._positions: Set[GridState] = self._build_mapped_positions()\n",
    "\n",
    "        # Choose default initial state on the mapped origin\n",
    "        if initial_state is None:\n",
    "            origin_idx = self._map_axial_to_cart_index(0, 0)\n",
    "            initial_state = CartesianRandomWalkerState(origin_idx, 0)\n",
    "\n",
    "        super().__init__(initial_state=initial_state, set_of_states=None)\n",
    "\n",
    "        # Enumerate states = positions × {0..6}\n",
    "        self._states: Set[CartesianRandomWalkerState] = set()\n",
    "        self.build()\n",
    "\n",
    "        if set_of_states is not None:\n",
    "            self.build_from_states(set_of_states, current=initial_state)\n",
    "\n",
    "        if not self.contains(initial_state):\n",
    "            raise ValueError(\"initial_state out of bounds\")\n",
    "\n",
    "    # ---------- mapping helpers ----------\n",
    "\n",
    "    def _axial_to_real(self, q: int, r: int) -> Tuple[float, float]:\n",
    "        x = (q + 0.5 * r) * self.scale\n",
    "        y = (math.sqrt(3) * 0.5 * r) * self.scale\n",
    "        return (x, y)\n",
    "\n",
    "    def _map_axial_to_cart_index(self, q: int, r: int) -> GridState:\n",
    "        x, y = self._axial_to_real(q, r)\n",
    "        return self._base.from_real(x, y)\n",
    "\n",
    "    def _build_mapped_positions(self) -> Set[GridState]:\n",
    "        out: Set[GridState] = set()\n",
    "        for q in range(-self.X_l_axial, self.X_l_axial + 1):\n",
    "            for r in range(-self.Y_l_axial, self.Y_l_axial + 1):\n",
    "                out.add(self._map_axial_to_cart_index(q, r))\n",
    "        return out\n",
    "\n",
    "    def _compute_hex_cartesian_deltas(self) -> Tuple[Tuple[int, int], ...]:\n",
    "        sx, sy = self._base.step_x, self._base.step_y\n",
    "        out: List[Tuple[int, int]] = []\n",
    "        for dq, dr in _HEX_DIRS_AXIAL:\n",
    "            dx = (dq + 0.5 * dr) * self.scale\n",
    "            dy = (math.sqrt(3) * 0.5 * dr) * self.scale\n",
    "            dix = int(round(dx / sx))\n",
    "            diy = int(round(dy / sy))\n",
    "            out.append((dix, diy))\n",
    "        return tuple(out)\n",
    "\n",
    "    def _head_index(self, s: CartesianRandomWalkerState) -> GridState:\n",
    "        dix, diy = self._dir_ixiy[s.dir_idx]\n",
    "        target = GridState(s.position.x + dix, s.position.y + diy)\n",
    "        return self._base.clamp(target)\n",
    "\n",
    "    # ---------- StatSpace interface ----------\n",
    "\n",
    "    def build(self, *args, **kwargs) -> None:\n",
    "        states: Set[CartesianRandomWalkerState] = set()\n",
    "        for pos in self._positions:\n",
    "            for i in range(7):\n",
    "                states.add(CartesianRandomWalkerState(pos, i))\n",
    "        self._states = states\n",
    "\n",
    "    def build_from_states(\n",
    "        self,\n",
    "        states: Set[CartesianRandomWalkerState],\n",
    "        current: Optional[CartesianRandomWalkerState] = None,\n",
    "    ) -> None:\n",
    "        if not states:\n",
    "            raise ValueError(\"states set cannot be empty\")\n",
    "        self._states = set(states)\n",
    "        self._positions = {s.position for s in self._states}\n",
    "        if current is not None:\n",
    "            if current not in self._states:\n",
    "                raise ValueError(\"provided current state is not in states\")\n",
    "            self.set_state(current)\n",
    "\n",
    "    def get_all_states(self) -> Set[CartesianRandomWalkerState]:\n",
    "        return set(self._states)\n",
    "\n",
    "    def dimension(self) -> int:\n",
    "        return 2\n",
    "\n",
    "    def get_state(self) -> CartesianRandomWalkerState:\n",
    "        return super().get_state()\n",
    "\n",
    "    def set_state(self, state: CartesianRandomWalkerState) -> None:\n",
    "        if state.position not in self._positions:\n",
    "            # snap to nearest mapped pos by simple clamp-then-nearest; here we clamp only\n",
    "            clamped = self._base.clamp(state.position)\n",
    "            # if clamp still not in positions (edge), fall back to current\n",
    "            state = (\n",
    "                CartesianRandomWalkerState(clamped, state.dir_idx)\n",
    "                if clamped in self._positions\n",
    "                else self.get_state()\n",
    "            )\n",
    "        super().set_state(state)\n",
    "\n",
    "    def contains(self, s: CartesianRandomWalkerState) -> bool:\n",
    "        return s in self._states\n",
    "\n",
    "    # ---------- set ops (positions + dir indices) ----------\n",
    "\n",
    "    def union_state_space(\n",
    "        self, other: \"StatSpace[CartesianRandomWalkerState]\"\n",
    "    ) -> \"CartesianRandomWalkerStateSpace\":\n",
    "        if not isinstance(other, CartesianRandomWalkerStateSpace):\n",
    "            raise TypeError(\"union_state_space requires another CartesianRandomWalkerStateSpace\")\n",
    "        union_states = set(self.get_all_states()).union(other.get_all_states())\n",
    "        if not union_states:\n",
    "            raise ValueError(\"union produced no states\")\n",
    "        init = self.get_state() if self.get_state() in union_states else next(iter(union_states))\n",
    "        # reuse this space’s geometry/steps/scale\n",
    "        new_space = CartesianRandomWalkerStateSpace(\n",
    "            self.X_l_axial,\n",
    "            self.Y_l_axial,\n",
    "            initial_state=init,\n",
    "            scale=self.scale,\n",
    "            step_x=self._base.step_x,\n",
    "            step_y=self._base.step_y,\n",
    "        )\n",
    "        new_space.build_from_states(union_states, current=init)\n",
    "        return new_space\n",
    "\n",
    "    def intersection(\n",
    "        self, other: \"StatSpace[CartesianRandomWalkerState]\"\n",
    "    ) -> \"CartesianRandomWalkerStateSpace\":\n",
    "        if not isinstance(other, CartesianRandomWalkerStateSpace):\n",
    "            raise TypeError(\"intersection requires another CartesianRandomWalkerStateSpace\")\n",
    "        inter_states = set(self.get_all_states()).intersection(other.get_all_states())\n",
    "        if not inter_states:\n",
    "            raise ValueError(\"intersection is empty\")\n",
    "        init = self.get_state() if self.get_state() in inter_states else next(iter(inter_states))\n",
    "        new_space = CartesianRandomWalkerStateSpace(\n",
    "            self.X_l_axial,\n",
    "            self.Y_l_axial,\n",
    "            initial_state=init,\n",
    "            scale=self.scale,\n",
    "            step_x=self._base.step_x,\n",
    "            step_y=self._base.step_y,\n",
    "        )\n",
    "        new_space.build_from_states(inter_states, current=init)\n",
    "        return new_space\n",
    "\n",
    "    # ---------- visualization (hex look) ----------\n",
    "\n",
    "    def plot_state_space(\n",
    "        self,\n",
    "        ax=None,\n",
    "        show: bool = True,\n",
    "        annotate_initial: bool = False,\n",
    "        point_kwargs: Optional[dict] = None,\n",
    "        init_kwargs: Optional[dict] = None,\n",
    "    ):\n",
    "        import matplotlib.pyplot as plt\n",
    "\n",
    "        if point_kwargs is None:\n",
    "            point_kwargs = {\"s\": 16, \"alpha\": 0.6, \"linewidths\": 0.0}\n",
    "        if init_kwargs is None:\n",
    "            init_kwargs = {\"s\": 64, \"color\": \"blue\", \"zorder\": 3}\n",
    "\n",
    "        # Map our positions to real coordinates for plotting — these are hex centers\n",
    "        coords = [self._base.to_real(p) for p in self._positions]\n",
    "        xs, ys = zip(*coords) if coords else ([], [])\n",
    "\n",
    "        created = False\n",
    "        if ax is None:\n",
    "            fig, ax = plt.subplots(figsize=(6, 6))\n",
    "            created = True\n",
    "\n",
    "        ax.scatter(xs, ys, c=\"#bbbbbb\", **point_kwargs)\n",
    "\n",
    "        s0 = self.get_state()\n",
    "        tail_x, tail_y = self._base.to_real(s0.position)\n",
    "        ax.scatter([tail_x], [tail_y], **init_kwargs)\n",
    "        if annotate_initial:\n",
    "            ax.annotate(\"initial\", (tail_x, tail_y), textcoords=\"offset points\", xytext=(6, 6), fontsize=9)\n",
    "\n",
    "        head_idx = self._head_index(s0)\n",
    "        head_x, head_y = self._base.to_real(head_idx)\n",
    "        if (head_x, head_y) != (tail_x, tail_y):\n",
    "            ax.annotate(\"\", xy=(head_x, head_y), xytext=(tail_x, tail_y),\n",
    "                        arrowprops=dict(arrowstyle=\"->\", lw=1.5, color=\"blue\"))\n",
    "\n",
    "        ax.set_aspect(\"equal\", adjustable=\"box\")\n",
    "        ax.set_title(\"CartesianRandomWalkerStateSpace (hex-mapped)\")\n",
    "        ax.set_xlabel(\"x\")\n",
    "        ax.set_ylabel(\"y\")\n",
    "        ax.grid(True, linestyle=\":\", linewidth=0.5, alpha=0.5)\n",
    "\n",
    "        if show and created:\n",
    "            plt.show()\n",
    "        return ax\n"
   ],
   "id": "3363a2efcde9b63d",
   "outputs": [],
   "execution_count": null
  },
  {
   "metadata": {
    "ExecuteTime": {
     "end_time": "2025-08-25T17:36:51.140013Z",
     "start_time": "2025-08-25T17:36:51.126462Z"
    },
    "id": "58a88e497928ec80"
   },
   "cell_type": "code",
   "source": [
    "RWC = CartesianRandomWalkerStateSpace(10,10,CartesianRandomWalkerState( GridState(0,0),1))"
   ],
   "id": "58a88e497928ec80",
   "outputs": [],
   "execution_count": null
  },
  {
   "metadata": {
    "ExecuteTime": {
     "end_time": "2025-08-25T17:36:52.170632Z",
     "start_time": "2025-08-25T17:36:51.958654Z"
    },
    "colab": {
     "base_uri": "https://localhost:8080/",
     "height": 388
    },
    "id": "18aa25d346b66ccf",
    "outputId": "7a56ab75-3180-4a27-8ab8-a249f354d37e"
   },
   "cell_type": "code",
   "source": [
    "RWC.plot_state_space()"
   ],
   "id": "18aa25d346b66ccf",
   "outputs": [
    {
     "output_type": "display_data",
     "data": {
      "text/plain": [
       "<Figure size 600x600 with 1 Axes>"
      ],
      "image/png": "[encoded data removed]"
     },
     "metadata": {}
    },
    {
     "output_type": "execute_result",
     "data": {
      "text/plain": [
       "<Axes: title={'center': 'CartesianRandomWalkerStateSpace (hex-mapped)'}, xlabel='x', ylabel='y'>"
      ]
     },
     "metadata": {},
     "execution_count": 346
    }
   ],
   "execution_count": null
  },
  {
   "metadata": {
    "id": "501760ed70ddea63"
   },
   "cell_type": "markdown",
   "source": [
    "### 6 fold random walker to Cartesian mapping"
   ],
   "id": "501760ed70ddea63"
  },
  {
   "metadata": {
    "ExecuteTime": {
     "end_time": "2025-08-27T04:26:11.891589Z",
     "start_time": "2025-08-27T04:26:11.868201Z"
    },
    "id": "9cdb3a2169b228b6"
   },
   "cell_type": "code",
   "source": [
    "\n",
    "\n",
    "# expected from your codebase:\n",
    "# from your_module import (\n",
    "#     State, GridState, StatSpace,\n",
    "#     SixFoldRandomWalkerState, SixFoldRandomWalkerStateSpace,\n",
    "#     CartesianRandomWalkerState, CartesianRandomWalkerStateSpace,\n",
    "# )\n",
    "\n",
    "class SixFoldRWToCartesianRW(StateSpaceMapping[SixFoldRandomWalkerState, CartesianRandomWalkerState]):\n",
    "    \"\"\"\n",
    "    Map a SixFoldRandomWalkerState (axial position + dir_idx) to a\n",
    "    CartesianRandomWalkerState in a CartesianRandomWalkerStateSpace.\n",
    "\n",
    "    Position mapping:\n",
    "        x = (q + 0.5*r) * scale\n",
    "        y = (sqrt(3)/2 * r) * scale\n",
    "      then encoded to the target Cartesian grid via its step sizes.\n",
    "\n",
    "    Direction mapping:\n",
    "      - If the target state's current sample has attribute `dir_idx`, we copy\n",
    "        the index 0..6 verbatim.\n",
    "      - Else if it has `direction` (GridState), we convert each axial step\n",
    "        (dq,dr) into Cartesian index deltas by rounding:\n",
    "           dix = round( ((dq + 0.5*dr)*scale) / step_x )\n",
    "           diy = round( ((sqrt(3)/2*dr)*scale) / step_y )\n",
    "    \"\"\"\n",
    "\n",
    "    def __init__(self, *, scale: float = 1.0) -> None:\n",
    "        super().__init__(mapping_reverse=None)\n",
    "        self.scale = float(scale)\n",
    "\n",
    "    # --- helpers ---\n",
    "    @staticmethod\n",
    "    def _dir_axial(idx: int) -> Tuple[int, int]:\n",
    "        dirs = (\n",
    "            (0, 0),\n",
    "            (0, 1),\n",
    "            (-1, 1),\n",
    "            (-1, 0),\n",
    "            (0, -1),\n",
    "            (1, -1),\n",
    "            (1, 0),\n",
    "        )\n",
    "        return dirs[int(idx) % 7]\n",
    "\n",
    "    def _axial_to_real(self, q: int, r: int) -> Tuple[float, float]:\n",
    "        x = (q + 0.5 * r) * self.scale\n",
    "        y = (math.sqrt(3) * 0.5 * r) * self.scale\n",
    "        return x, y\n",
    "\n",
    "    def _dir_to_cart_index_vec(self, dq: int, dr: int, step_x: float, step_y: float) -> GridState:\n",
    "        dx = (dq + 0.5 * dr) * self.scale\n",
    "        dy = (math.sqrt(3) * 0.5 * dr) * self.scale\n",
    "        dix = int(round(dx / step_x))\n",
    "        diy = int(round(dy / step_y))\n",
    "        return GridState(dix, diy)\n",
    "\n",
    "    # --- core ---\n",
    "    def get_mapping(\n",
    "        self,\n",
    "        state_in: SixFoldRandomWalkerState,\n",
    "        stateSpaceOut: StatSpace\n",
    "    ) -> StatSpace[CartesianRandomWalkerState]:\n",
    "        # We need access to the target Cartesian grid steps (step_x, step_y) and\n",
    "        # to encode real→index. Your CartesianRandomWalkerStateSpace typically\n",
    "        # wraps a base CartesianStateSpace as `._base`.\n",
    "        if not hasattr(stateSpaceOut, \"_base\"):\n",
    "            raise TypeError(\"Expected a CartesianRandomWalkerStateSpace with a `_base` CartesianStateSpace\")\n",
    "        base = stateSpaceOut._base  # CartesianStateSpace\n",
    "        step_x, step_y = base.step_x, base.step_y\n",
    "\n",
    "        # 1) map axial position -> real -> target index\n",
    "        q, r = state_in.position.x, state_in.position.y\n",
    "        x_real, y_real = self._axial_to_real(q, r)\n",
    "        pos_idx: GridState = base.from_real(x_real, y_real)\n",
    "\n",
    "        # 2) map direction\n",
    "        if hasattr(stateSpaceOut.get_state(), \"dir_idx\"):\n",
    "            # target state stores direction by 0..6 index\n",
    "            out_state = CartesianRandomWalkerState(pos_idx, state_in.dir_idx)\n",
    "        elif hasattr(stateSpaceOut.get_state(), \"direction\"):\n",
    "            # target state stores a vector direction\n",
    "            dq, dr = self._dir_axial(state_in.dir_idx)\n",
    "            vec = self._dir_to_cart_index_vec(dq, dr, step_x, step_y)\n",
    "            out_state = CartesianRandomWalkerState(pos_idx, vec)\n",
    "        else:\n",
    "            raise TypeError(\"Target state's direction storage is not recognized (need `dir_idx` or `direction`).\")\n",
    "\n",
    "        # Narrow the provided output space to just the mapped state\n",
    "        stateSpaceOut.build_from_states({out_state}, current=out_state)\n",
    "        return stateSpaceOut\n"
   ],
   "id": "9cdb3a2169b228b6",
   "outputs": [],
   "execution_count": null
  },
  {
   "metadata": {
    "ExecuteTime": {
     "end_time": "2025-08-25T17:47:25.393172Z",
     "start_time": "2025-08-25T17:47:24.934233Z"
    },
    "colab": {
     "base_uri": "https://localhost:8080/",
     "height": 935
    },
    "id": "e841a1fc7079460",
    "outputId": "24c8ff7b-2bb6-4861-a6f0-996881b54348"
   },
   "cell_type": "code",
   "source": [
    "# hex (source) space\n",
    "hex_rw = SixFoldRandomWalkerStateSpace(\n",
    "    X_l=2, Y_l=2,\n",
    "    initial_state=SixFoldRandomWalkerState(GridState(0,0), direction=6)\n",
    ")\n",
    "\n",
    "# cart (target) space – pick the variant you use:\n",
    "# 1) If your Cartesian RW state uses dir_idx:\n",
    "cart_rw = CartesianRandomWalkerStateSpace(\n",
    "    X_l=3.0, Y_l=3.0,\n",
    "    step_x=0.5, step_y=(3**0.5)/2.0,  # “nice” hex-aligned steps if you want crisp mapping\n",
    "    initial_state=CartesianRandomWalkerState(GridState(0,0), 0)  # dir_idx=0\n",
    ")\n",
    "\n",
    "# 2) If your Cartesian RW state uses vector directions:\n",
    "# cart_rw = CartesianRandomWalkerStateSpace(\n",
    "#     X_l=3.0, Y_l=3.0, step_x=0.5, step_y=(3**0.5)/2.0,\n",
    "#     initial_state=CartesianRandomWalkerState(GridState(0,0), GridState(0,0))\n",
    "# )\n",
    "hex_rw.plot_state_space()\n",
    "\n",
    "mapper = SixFoldRWToCartesianRW(scale=1.0)\n",
    "\n",
    "mapped_space = mapper.get_mapping_over_state_space(hex_rw, cart_rw)\n",
    "\n",
    "mapped_space.plot_state_space()"
   ],
   "id": "e841a1fc7079460",
   "outputs": [
    {
     "output_type": "display_data",
     "data": {
      "text/plain": [
       "<Figure size 600x600 with 1 Axes>"
      ],
      "image/png": "[encoded data removed]"
     },
     "metadata": {}
    },
    {
     "output_type": "display_data",
     "data": {
      "text/plain": [
       "<Figure size 600x600 with 1 Axes>"
      ],
      "image/png": "[encoded data removed]"
     },
     "metadata": {}
    },
    {
     "output_type": "execute_result",
     "data": {
      "text/plain": [
       "<Axes: title={'center': 'CartesianRandomWalkerStateSpace (hex-mapped)'}, xlabel='x', ylabel='y'>"
      ]
     },
     "metadata": {},
     "execution_count": 348
    }
   ],
   "execution_count": null
  },
  {
   "metadata": {
    "id": "2efb93bce747b6d6"
   },
   "cell_type": "markdown",
   "source": [
    "### Random walker Distance"
   ],
   "id": "2efb93bce747b6d6"
  },
  {
   "metadata": {
    "ExecuteTime": {
     "end_time": "2025-08-27T04:23:38.673089Z",
     "start_time": "2025-08-27T04:23:38.660926Z"
    },
    "id": "8f4ba7081d0ca9ff"
   },
   "cell_type": "code",
   "source": [
    "class RandomWalkerDistance(StateOperations):\n",
    "    def __init__(self, scale: float = 1.0) -> None:\n",
    "        self.scale = float(scale)\n",
    "\n",
    "    @staticmethod\n",
    "    def _axial_to_real(q: int, r: int, scale: float) -> Tuple[float, float]:\n",
    "        x = (q + 0.5 * r) * scale\n",
    "        y = (math.sqrt(3) * 0.5 * r) * scale\n",
    "        return x, y\n",
    "\n",
    "    def apply(self, a: SixFoldRandomWalkerState, b: SixFoldRandomWalkerState) -> float:\n",
    "        ax, ay = self._axial_to_real(a.position.x, a.position.y, self.scale)\n",
    "        bx, by = self._axial_to_real(b.position.x, b.position.y, self.scale)\n",
    "        return math.hypot(ax - bx, ay - by)"
   ],
   "id": "8f4ba7081d0ca9ff",
   "outputs": [],
   "execution_count": null
  },
  {
   "metadata": {
    "id": "44e3d14e2c128670"
   },
   "cell_type": "markdown",
   "source": [
    "### Random Walker Reachable"
   ],
   "id": "44e3d14e2c128670"
  },
  {
   "metadata": {
    "id": "5ff04222536de959"
   },
   "cell_type": "markdown",
   "source": [
    "#### Is allowed State"
   ],
   "id": "5ff04222536de959"
  },
  {
   "metadata": {
    "jupyter": {
     "is_executing": true
    },
    "id": "ecbf7c8ff8899326"
   },
   "cell_type": "code",
   "source": [
    "class RandomWalkerAllowed(IsAllowedState):\n",
    "    \"\"\"\n",
    "    params:\n",
    "      - initial_state: SixFoldRandomWalkerState (required)\n",
    "      - allowed_angles: Set[int] subset of {-1, 0, 60, 120, 180, -60, -120}\n",
    "                        (-1 means stationary is allowed)\n",
    "      - scale: float (default 1.0) used for axial→Cartesian projection\n",
    "      - tol: float (default 1e-9) tolerance for distance comparisons\n",
    "      - space: SixFoldRandomWalkerStateSpace (optional; not required by logic)\n",
    "    \"\"\"\n",
    "\n",
    "    def __init__(self, params: Dict[str, Any]=None):\n",
    "      if params is not None:\n",
    "        super().__init__(params)\n",
    "        if params[\"allowed_amgles\"] is None:\n",
    "          self.allowed_angles: Set[int] = set(\n",
    "              params.get(\"allowed_angles\", {-1, 0, 60, 120, 180, -60, -120})\n",
    "          )\n",
    "        self.scale: float = float(params.get(\"scale\", 1.0))\n",
    "        self.tol: float = float(params.get(\"tol\", 1e-9))\n",
    "        self.space = params.get(\"space\", None)\n",
    "        self.angle_tol: float = float(params.get(\"angle_tol\", 0.1))\n",
    "      else:\n",
    "        self.allowed_angles: Set[int] = set({-1, 0, 60, 120, 180, -60, -120})\n",
    "        self.scale: float = 1.0\n",
    "        self.tol: float = 0.000009\n",
    "        self.space = None\n",
    "        self.angle_tol: float =0\n",
    "    # -------- internal helpers (all as methods) --------\n",
    "\n",
    "    def _axial_to_real(self, q: int, r: int) -> Tuple[float, float]:\n",
    "        x = (q + 0.5 * r) * self.scale\n",
    "        y = (math.sqrt(3) * 0.5 * r) * self.scale\n",
    "        return x, y\n",
    "\n",
    "    def _euclid_distance_axial(self, a: SixFoldRandomWalkerState, b: SixFoldRandomWalkerState) -> float:\n",
    "        ax, ay = self._axial_to_real(a.position.x, a.position.y)\n",
    "        bx, by = self._axial_to_real(b.position.x, b.position.y)\n",
    "        return math.hypot(ax - bx, ay - by)\n",
    "\n",
    "    def _disp_dir_index(self, s_from: SixFoldRandomWalkerState, s_to: SixFoldRandomWalkerState) -> int:\n",
    "        dq = s_to.position.x - s_from.position.x\n",
    "        dr = s_to.position.y - s_from.position.y\n",
    "        return SixFoldRandomWalkerState.DELTA_TO_DIR_INDEX.get((dq, dr), 0)\n",
    "\n",
    "    def _signed_angle_deg(self, a_idx: int, b_idx: int) -> int:\n",
    "        \"\"\"\n",
    "        Minimal signed angle (in degrees) to rotate from direction b_idx to a_idx.\n",
    "        Indices are hex directions 1..6 (0 is stationary; if 0 present, return 0).\n",
    "        Result in {-180, -120, -60, 0, 60, 120}.\n",
    "        \"\"\"\n",
    "        if a_idx == 0 or b_idx == 0:\n",
    "            return 0\n",
    "        a = (a_idx - 1) % 6\n",
    "        b = (b_idx - 1) % 6\n",
    "        diff = (a - b) % 6\n",
    "        if diff > 3:\n",
    "            diff -= 6\n",
    "        return diff * 60\n",
    "\n",
    "    def _angle_close(self, angle: float, target: float) -> bool:\n",
    "        \"\"\"\n",
    "        Is 'angle' within ±angle_tol of 'target', modulo 360?\n",
    "        \"\"\"\n",
    "        # normalize difference to (-180, 180]\n",
    "        d = ((angle - target + 180.0) % 360.0) - 180.0\n",
    "        return abs(d) <= self.angle_tol\n",
    "\n",
    "    # -------- required API --------\n",
    "\n",
    "    def is_state_allowed(self,s0:SixFoldRandomWalkerState, state: SixFoldRandomWalkerState) -> bool:\n",
    "        # Stationary: same position and zero dir, allowed if -1 present\n",
    "        if state.position == s0.position:\n",
    "            return (-1 in self.allowed_angles) and (state.dir_idx == 0)\n",
    "\n",
    "        # Must be exactly one hex step away under Euclidean metric of mapped hex\n",
    "        d = self._euclid_distance_axial(state, s0)\n",
    "        # A single hex step maps to length == self.scale\n",
    "        if not (abs(d - self.scale) <= self.tol):\n",
    "            return False\n",
    "\n",
    "        # Displacement direction index (from s0 to candidate)\n",
    "        disp_idx = self._disp_dir_index(s0, state)\n",
    "        if disp_idx == 0:\n",
    "            return False  # not a valid one-step axial displacement\n",
    "\n",
    "        # Angle between candidate's momentum and its displacement from s0\n",
    "        # angle between candidate momentum and displacement\n",
    "        angle = self._signed_angle_deg(state.dir_idx, disp_idx)\n",
    "        # check against allowed angles with tolerance\n",
    "        for a in self.allowed_angles:\n",
    "            if a == -1:\n",
    "                continue  # -1 pertains only to stationary case above\n",
    "            # treat ±180 as equivalent\n",
    "            if a in (180, -180):\n",
    "                if self._angle_close(angle, 180.0) or self._angle_close(angle, -180.0):\n",
    "                    print(f\"Checking for state: {state.position.x},{state.position.y},d={state.dir_idx}\")\n",
    "                    print(\"T\")\n",
    "                    return True\n",
    "            else:\n",
    "                if self._angle_close(angle, float(a)):\n",
    "                  # debug ke liye kiya tha bhai, don't judge pleze ->:(\n",
    "                    print(f\"Checking for state: {state.position.x},{state.position.y},d={state.dir_idx}\")\n",
    "                    print(\"T\")\n",
    "                    return True\n",
    "        return False"
   ],
   "id": "ecbf7c8ff8899326",
   "outputs": [],
   "execution_count": null
  },
  {
   "metadata": {
    "id": "3f8db2ef547ce132"
   },
   "cell_type": "markdown",
   "source": [
    "#### Reachable"
   ],
   "id": "3f8db2ef547ce132"
  },
  {
   "metadata": {
    "ExecuteTime": {
     "end_time": "2025-08-27T05:03:53.166659Z",
     "start_time": "2025-08-27T05:03:53.139474Z"
    },
    "id": "39a7310992d92de6"
   },
   "cell_type": "code",
   "source": [
    "class RandomWalkerReachable(Reachable[SixFoldRandomWalkerState]):\n",
    "    STATIONARY = -1\n",
    "    ALL_DEVIATIONS: Set[int] = {-1, 0, 60, 120, 180, -60, -120}\n",
    "    ANGLE_TO_STEP = {0: 0, 60: 1, -60: -1, 120: 2, -120: -2, 180: 3, -180: -3}\n",
    "\n",
    "    def __init__(\n",
    "        self,\n",
    "        space: SixFoldRandomWalkerStateSpace,\n",
    "        allowed_deviations: Optional[Set[int]] = None,\n",
    "        params: Dict[str, Any] = None,\n",
    "        is_allowed: 'IsAllowedState' = None,\n",
    "    ) -> None:\n",
    "        super().__init__(params=params, is_allowed=is_allowed)\n",
    "        self.space = space\n",
    "        self.allowed_deviations: Set[int] = (\n",
    "            set(self.ALL_DEVIATIONS) if allowed_deviations is None else set(allowed_deviations)\n",
    "        )\n",
    "\n",
    "    @staticmethod\n",
    "    def _rotate_dir_idx(base_idx: int, step_delta: int) -> int:\n",
    "        base = base_idx if base_idx != 0 else 1\n",
    "        return ((base - 1 + step_delta) % 6) + 1\n",
    "\n",
    "    @staticmethod\n",
    "    def _delta_from_idx(idx: int) -> Tuple[int, int]:\n",
    "        return SixFoldRandomWalkerState.DIR_INDEX_TO_DELTA[idx]\n",
    "\n",
    "    def allowed_positions(\n",
    "        self,\n",
    "        s0: SixFoldRandomWalkerState,\n",
    "        *,\n",
    "        allowed_deviations: Optional[Set[int]] = None\n",
    "    ) -> Set[GridState]:\n",
    "        devs = self.allowed_deviations if allowed_deviations is None else set(allowed_deviations)\n",
    "        out: Set[GridState] = set()\n",
    "\n",
    "        for dev in devs:\n",
    "            if dev == self.STATIONARY:\n",
    "                pos = s0.position\n",
    "                if self.space.contains(SixFoldRandomWalkerState(pos, 0)):\n",
    "                    out.add(pos)\n",
    "                continue\n",
    "\n",
    "            step_delta = self.ANGLE_TO_STEP.get(dev)\n",
    "            if step_delta is None:\n",
    "                continue\n",
    "\n",
    "            ndir = self._rotate_dir_idx(s0.dir_idx, step_delta)\n",
    "            dq, dr = self._delta_from_idx(ndir)\n",
    "            pos = GridState(s0.position.x + dq, s0.position.y + dr)\n",
    "\n",
    "            if self.space.contains(SixFoldRandomWalkerState(pos, ndir)):\n",
    "                out.add(pos)\n",
    "\n",
    "        return out\n",
    "\n",
    "    def reachable_states(\n",
    "        self,\n",
    "        s0: SixFoldRandomWalkerState,\n",
    "        *,\n",
    "        allowed_deviations: Optional[Set[int]] = None\n",
    "    ) -> Set[SixFoldRandomWalkerState]:\n",
    "        positions = self.allowed_positions(s0, allowed_deviations=allowed_deviations)\n",
    "        states: Set[SixFoldRandomWalkerState] = set()\n",
    "        for p in positions:\n",
    "            dq = p.x - s0.position.x\n",
    "            dr = p.y - s0.position.y\n",
    "            dir_idx = SixFoldRandomWalkerState.DELTA_TO_DIR_INDEX.get((dq, dr), 0)\n",
    "            st = SixFoldRandomWalkerState(p, dir_idx)\n",
    "            if self.space.contains(st):\n",
    "                if (self.is_allowed is None) or self.is_allowed.is_state_allowed(self.space.get_state(),st):\n",
    "                    states.add(st)\n",
    "        return states\n",
    "\n",
    "    def get_reachable(self, state: SixFoldRandomWalkerState) -> SixFoldRandomWalkerStateSpace:\n",
    "        R = self.reachable_states(state)\n",
    "        if not R:\n",
    "            out_space = copy.deepcopy(self.space)\n",
    "            out_space.build_from_states({state}, current=state)\n",
    "            return out_space\n",
    "\n",
    "        max_q = max(abs(s.position.x) for s in R)\n",
    "        max_r = max(abs(s.position.y) for s in R)\n",
    "        init = state if state in R else next(iter(R))\n",
    "        out_space = SixFoldRandomWalkerStateSpace(max_q, max_r, initial_state=init)\n",
    "        out_space.build_from_states(R, current=init)\n",
    "        return out_space\n",
    "\n",
    "    @staticmethod\n",
    "    def _axial_to_real(q: int, r: int, scale: float) -> Tuple[float, float]:\n",
    "        x = (q + 0.5 * r) * scale\n",
    "        y = (math.sqrt(3) * 0.5 * r) * scale\n",
    "        return x, y\n",
    "\n",
    "    def plot_reachable(\n",
    "        self,\n",
    "        s0: SixFoldRandomWalkerState,\n",
    "        *,\n",
    "        scale: float = 1.0,\n",
    "        allowed_deviations: Optional[Set[int]] = None,\n",
    "        ax=None,\n",
    "        show: bool = True,\n",
    "        point_kwargs: Optional[dict] = None,\n",
    "        arrow_kwargs: Optional[dict] = None,\n",
    "        skip_stationary: bool = True,\n",
    "        pad_frac: float = 0.1,\n",
    "    ):\n",
    "        \"\"\"\n",
    "        Plot reachable states as blue dots (mapped via axial→Cartesian).\n",
    "        For EACH reachable state a, draw an arrow with tail at a and head at a + delta(dir_idx).\n",
    "        Axes limits include both tails and heads so arrows aren’t clipped.\n",
    "        \"\"\"\n",
    "        import matplotlib.pyplot as plt\n",
    "\n",
    "        if point_kwargs is None:\n",
    "            point_kwargs = {\"s\": 28, \"alpha\": 0.9, \"linewidths\": 0.0, \"color\": \"blue\", \"zorder\": 3}\n",
    "        if arrow_kwargs is None:\n",
    "            arrow_kwargs = {\"arrowstyle\": \"->\", \"lw\": 1.8, \"color\": \"blue\", \"mutation_scale\": 12, \"zorder\": 4}\n",
    "\n",
    "        R = self.reachable_states(s0, allowed_deviations=allowed_deviations)\n",
    "\n",
    "        created = False\n",
    "        if ax is None:\n",
    "            fig, ax = plt.subplots(figsize=(6, 6))\n",
    "            created = True\n",
    "\n",
    "        if not R:\n",
    "            ax.set_title(\"No reachable states\")\n",
    "            if show and created:\n",
    "                plt.show()\n",
    "            return ax\n",
    "\n",
    "        # Scatter tails (reachable positions)\n",
    "        tails = [self._axial_to_real(st.position.x, st.position.y, scale) for st in R]\n",
    "        xs, ys = zip(*tails)\n",
    "        ax.scatter(xs, ys, **point_kwargs)\n",
    "\n",
    "        # Compute heads and draw arrows\n",
    "        heads = []\n",
    "        for st in R:\n",
    "            if skip_stationary and st.dir_idx == 0:\n",
    "                continue\n",
    "            tail_x, tail_y = self._axial_to_real(st.position.x, st.position.y, scale)\n",
    "            dq, dr = SixFoldRandomWalkerState.DIR_INDEX_TO_DELTA[st.dir_idx]\n",
    "            head_x = tail_x + (dq + 0.5 * dr) * scale\n",
    "            head_y = tail_y + (math.sqrt(3) * 0.5 * dr) * scale\n",
    "            heads.append((head_x, head_y))\n",
    "            if (head_x, head_y) != (tail_x, tail_y):\n",
    "                ax.annotate(\n",
    "                    \"\",\n",
    "                    xy=(head_x, head_y),\n",
    "                    xytext=(tail_x, tail_y),\n",
    "                    arrowprops=arrow_kwargs,\n",
    "                )\n",
    "\n",
    "        # Expand axes to include arrow heads (prevents clipping)\n",
    "        all_x = [*xs, *(h[0] for h in heads)]\n",
    "        all_y = [*ys, *(h[1] for h in heads)]\n",
    "        xmin, xmax = min(all_x), max(all_x)\n",
    "        ymin, ymax = min(all_y), max(all_y)\n",
    "        dx = xmax - xmin\n",
    "        dy = ymax - ymin\n",
    "        pad_x = dx * pad_frac if dx > 0 else 1.0 * pad_frac\n",
    "        pad_y = dy * pad_frac if dy > 0 else 1.0 * pad_frac\n",
    "        ax.set_xlim(xmin - pad_x, xmax + pad_x)\n",
    "        ax.set_ylim(ymin - pad_y, ymax + pad_y)\n",
    "\n",
    "        ax.set_aspect(\"equal\", adjustable=\"box\")\n",
    "        ax.set_title(\"Reachable states (tails at each state; arrows = momentum)\")\n",
    "        ax.set_xlabel(\"x\")\n",
    "        ax.set_ylabel(\"y\")\n",
    "        ax.grid(True, linestyle=\":\", linewidth=0.5, alpha=0.5)\n",
    "\n",
    "        if show and created:\n",
    "            plt.show()\n",
    "        return ax"
   ],
   "id": "39a7310992d92de6",
   "outputs": [],
   "execution_count": null
  },
  {
   "metadata": {
    "ExecuteTime": {
     "end_time": "2025-08-27T05:03:53.522035Z",
     "start_time": "2025-08-27T05:03:53.517169Z"
    },
    "id": "bcc279548a403cdf"
   },
   "cell_type": "code",
   "source": [
    "rwd= RandomWalkerAllowed()\n",
    "walkerReachable = RandomWalkerReachable(sex,is_allowed=rwd)"
   ],
   "id": "bcc279548a403cdf",
   "outputs": [],
   "execution_count": null
  },
  {
   "cell_type": "code",
   "source": [],
   "metadata": {
    "id": "88-K7BVznx85"
   },
   "id": "88-K7BVznx85",
   "execution_count": null,
   "outputs": []
  },
  {
   "metadata": {
    "ExecuteTime": {
     "end_time": "2025-08-27T05:03:54.310577Z",
     "start_time": "2025-08-27T05:03:54.047842Z"
    },
    "colab": {
     "base_uri": "https://localhost:8080/",
     "height": 731
    },
    "id": "31a6f8d23dd082a5",
    "outputId": "9bb014c4-3bc0-4f91-a0b8-5e8e595e3810"
   },
   "cell_type": "code",
   "source": [
    "walkerReachable.plot_reachable(sex.get_state())"
   ],
   "id": "31a6f8d23dd082a5",
   "outputs": [
    {
     "output_type": "stream",
     "name": "stdout",
     "text": [
      "Checking for state: 0,1,d=1\n",
      "T\n",
      "Checking for state: -1,1,d=2\n",
      "T\n",
      "Checking for state: 1,-1,d=5\n",
      "T\n",
      "Checking for state: -1,0,d=3\n",
      "T\n",
      "Checking for state: 1,0,d=6\n",
      "T\n",
      "Checking for state: 0,-1,d=4\n",
      "T\n"
     ]
    },
    {
     "output_type": "display_data",
     "data": {
      "text/plain": [
       "<Figure size 600x600 with 1 Axes>"
      ],
      "image/png": "[encoded data removed]"
     },
     "metadata": {}
    },
    {
     "output_type": "execute_result",
     "data": {
      "text/plain": [
       "<Axes: title={'center': 'Reachable states (tails at each state; arrows = momentum)'}, xlabel='x', ylabel='y'>"
      ]
     },
     "metadata": {},
     "execution_count": 373
    }
   ],
   "execution_count": null
  },
  {
   "cell_type": "code",
   "source": [
    "walkerReachable.get_reachable_from_allowed(sex.get_state(),sex)"
   ],
   "metadata": {
    "colab": {
     "base_uri": "https://localhost:8080/"
    },
    "id": "xUka-YUVdwYA",
    "outputId": "13f31e23-7898-4ab1-8bdf-8ea5b7e7d4fa"
   },
   "id": "xUka-YUVdwYA",
   "execution_count": null,
   "outputs": [
    {
     "output_type": "stream",
     "name": "stdout",
     "text": [
      "Checking for state: 1,0,d=0\n",
      "T\n",
      "Checking for state: 1,-1,d=1\n",
      "T\n",
      "Checking for state: -1,1,d=5\n",
      "T\n",
      "Checking for state: 1,0,d=2\n",
      "T\n",
      "Checking for state: 1,-1,d=3\n",
      "T\n",
      "Checking for state: 0,-1,d=5\n",
      "T\n",
      "Checking for state: 0,1,d=1\n",
      "T\n",
      "Checking for state: 1,0,d=4\n",
      "T\n",
      "Checking for state: 1,-1,d=5\n",
      "T\n",
      "Checking for state: -1,1,d=0\n",
      "T\n",
      "Checking for state: -1,0,d=2\n",
      "T\n",
      "Checking for state: 0,1,d=3\n",
      "T\n",
      "Checking for state: 1,0,d=6\n",
      "T\n",
      "Checking for state: -1,1,d=2\n",
      "T\n",
      "Checking for state: -1,0,d=4\n",
      "T\n",
      "Checking for state: 0,-1,d=0\n",
      "T\n",
      "Checking for state: 0,1,d=5\n",
      "T\n",
      "Checking for state: -1,1,d=4\n",
      "T\n",
      "Checking for state: -1,0,d=6\n",
      "T\n",
      "Checking for state: 0,-1,d=2\n",
      "T\n",
      "Checking for state: 1,0,d=1\n",
      "T\n",
      "Checking for state: -1,1,d=6\n",
      "T\n",
      "Checking for state: 0,-1,d=4\n",
      "T\n",
      "Checking for state: 0,1,d=0\n",
      "T\n",
      "Checking for state: 1,0,d=3\n",
      "T\n",
      "Checking for state: -1,0,d=1\n",
      "T\n",
      "Checking for state: 0,-1,d=6\n",
      "T\n",
      "Checking for state: 0,1,d=2\n",
      "T\n",
      "Checking for state: -1,1,d=1\n",
      "T\n",
      "Checking for state: 1,-1,d=0\n",
      "T\n",
      "Checking for state: -1,0,d=3\n",
      "T\n",
      "Checking for state: 0,1,d=4\n",
      "T\n",
      "Checking for state: -1,1,d=3\n",
      "T\n",
      "Checking for state: 1,-1,d=2\n",
      "T\n",
      "Checking for state: -1,0,d=5\n",
      "T\n",
      "Checking for state: 0,-1,d=1\n",
      "T\n",
      "Checking for state: 0,1,d=6\n",
      "T\n",
      "Checking for state: 1,-1,d=4\n",
      "T\n",
      "Checking for state: 0,-1,d=3\n",
      "T\n",
      "Checking for state: 1,0,d=5\n",
      "T\n",
      "Checking for state: 1,-1,d=6\n",
      "T\n",
      "Checking for state: -1,0,d=0\n",
      "T\n"
     ]
    },
    {
     "output_type": "execute_result",
     "data": {
      "text/plain": [
       "<__main__.SixFoldRandomWalkerStateSpace at 0x7d63ad508bc0>"
      ]
     },
     "metadata": {},
     "execution_count": 375
    }
   ]
  },
  {
   "cell_type": "code",
   "source": [],
   "metadata": {
    "id": "GGPQ6a80tpOK"
   },
   "id": "GGPQ6a80tpOK",
   "execution_count": null,
   "outputs": []
  }
 ],
 "metadata": {
  "kernelspec": {
   "display_name": "Python 3",
   "language": "python",
   "name": "python3"
  },
  "language_info": {
   "codemirror_mode": {
    "name": "ipython",
    "version": 2
   },
   "file_extension": ".py",
   "mimetype": "text/x-python",
   "name": "python",
   "nbconvert_exporter": "python",
   "pygments_lexer": "ipython2",
   "version": "2.7.6"
  },
  "colab": {
   "provenance": [],
   "toc_visible": true
  }
 },
 "nbformat": 4,
 "nbformat_minor": 5
}
